{
 "cells": [
  {
   "cell_type": "code",
   "execution_count": 5,
   "metadata": {},
   "outputs": [],
   "source": [
    "#Importing libraries\n",
    "import warnings\n",
    "warnings.simplefilter(action='ignore', category=FutureWarning)\n",
    "import pandas as pd\n",
    "import requests\n",
    "pd.options.mode.chained_assignment = None\n",
    "import numpy as np\n",
    "import seaborn as sns\n",
    "import matplotlib.pyplot as plt\n",
    "plt.style.use('ggplot')\n",
    "from datetime import datetime\n",
    "from wordcloud import WordCloud,STOPWORDS\n",
    "import sqlite3\n",
    "import pandas as pd\n",
    "from bs4 import BeautifulSoup\n",
    "import os\n",
    "from sklearn.model_selection import train_test_split\n",
    "from gensim.models import Doc2Vec\n",
    "import gensim\n",
    "from gensim.models.doc2vec import TaggedDocument\n",
    "import multiprocessing\n",
    "from sklearn import utils\n"
   ]
  },
  {
   "cell_type": "code",
   "execution_count": 6,
   "metadata": {},
   "outputs": [
    {
     "data": {
      "text/html": [
       "<div>\n",
       "<style scoped>\n",
       "    .dataframe tbody tr th:only-of-type {\n",
       "        vertical-align: middle;\n",
       "    }\n",
       "\n",
       "    .dataframe tbody tr th {\n",
       "        vertical-align: top;\n",
       "    }\n",
       "\n",
       "    .dataframe thead th {\n",
       "        text-align: right;\n",
       "    }\n",
       "</style>\n",
       "<table border=\"1\" class=\"dataframe\">\n",
       "  <thead>\n",
       "    <tr style=\"text-align: right;\">\n",
       "      <th></th>\n",
       "      <th>id</th>\n",
       "      <th>subreddit</th>\n",
       "      <th>title</th>\n",
       "      <th>selftext</th>\n",
       "      <th>upvote_ratio</th>\n",
       "      <th>ups</th>\n",
       "      <th>downs</th>\n",
       "      <th>score</th>\n",
       "      <th>link_flair_css_class</th>\n",
       "      <th>created_utc</th>\n",
       "      <th>kind</th>\n",
       "      <th>cleaned</th>\n",
       "    </tr>\n",
       "  </thead>\n",
       "  <tbody>\n",
       "    <tr>\n",
       "      <th>0</th>\n",
       "      <td>1</td>\n",
       "      <td>worldnews</td>\n",
       "      <td>Iran has launched drone attacks at Israel, U.S...</td>\n",
       "      <td></td>\n",
       "      <td>1.00</td>\n",
       "      <td>13</td>\n",
       "      <td>0</td>\n",
       "      <td>13</td>\n",
       "      <td>palestisrael</td>\n",
       "      <td>2024-04-13T22:51:38Z</td>\n",
       "      <td>t3</td>\n",
       "      <td>None</td>\n",
       "    </tr>\n",
       "    <tr>\n",
       "      <th>1</th>\n",
       "      <td>2</td>\n",
       "      <td>worldnews</td>\n",
       "      <td>Jordan temporarily closes airspace amid fears ...</td>\n",
       "      <td></td>\n",
       "      <td>0.97</td>\n",
       "      <td>31</td>\n",
       "      <td>0</td>\n",
       "      <td>31</td>\n",
       "      <td>palestisrael</td>\n",
       "      <td>2024-04-13T22:42:44Z</td>\n",
       "      <td>t3</td>\n",
       "      <td>None</td>\n",
       "    </tr>\n",
       "    <tr>\n",
       "      <th>2</th>\n",
       "      <td>3</td>\n",
       "      <td>worldnews</td>\n",
       "      <td>Israel says it is closing its airspace as it b...</td>\n",
       "      <td></td>\n",
       "      <td>0.92</td>\n",
       "      <td>50</td>\n",
       "      <td>0</td>\n",
       "      <td>50</td>\n",
       "      <td>palestisrael</td>\n",
       "      <td>2024-04-13T22:40:30Z</td>\n",
       "      <td>t3</td>\n",
       "      <td>None</td>\n",
       "    </tr>\n",
       "    <tr>\n",
       "      <th>3</th>\n",
       "      <td>4</td>\n",
       "      <td>worldnews</td>\n",
       "      <td>Statement from NSC Spokesperson Adrienne Watso...</td>\n",
       "      <td></td>\n",
       "      <td>0.96</td>\n",
       "      <td>85</td>\n",
       "      <td>0</td>\n",
       "      <td>85</td>\n",
       "      <td>palestisrael</td>\n",
       "      <td>2024-04-13T22:39:13Z</td>\n",
       "      <td>t3</td>\n",
       "      <td>None</td>\n",
       "    </tr>\n",
       "    <tr>\n",
       "      <th>4</th>\n",
       "      <td>5</td>\n",
       "      <td>worldnews</td>\n",
       "      <td>Germany to give financial compensation to Holo...</td>\n",
       "      <td></td>\n",
       "      <td>0.80</td>\n",
       "      <td>34</td>\n",
       "      <td>0</td>\n",
       "      <td>34</td>\n",
       "      <td>None</td>\n",
       "      <td>2024-04-13T22:11:27Z</td>\n",
       "      <td>t3</td>\n",
       "      <td>None</td>\n",
       "    </tr>\n",
       "  </tbody>\n",
       "</table>\n",
       "</div>"
      ],
      "text/plain": [
       "   id  subreddit                                              title selftext  \\\n",
       "0   1  worldnews  Iran has launched drone attacks at Israel, U.S...            \n",
       "1   2  worldnews  Jordan temporarily closes airspace amid fears ...            \n",
       "2   3  worldnews  Israel says it is closing its airspace as it b...            \n",
       "3   4  worldnews  Statement from NSC Spokesperson Adrienne Watso...            \n",
       "4   5  worldnews  Germany to give financial compensation to Holo...            \n",
       "\n",
       "   upvote_ratio  ups  downs  score link_flair_css_class           created_utc  \\\n",
       "0          1.00   13      0     13         palestisrael  2024-04-13T22:51:38Z   \n",
       "1          0.97   31      0     31         palestisrael  2024-04-13T22:42:44Z   \n",
       "2          0.92   50      0     50         palestisrael  2024-04-13T22:40:30Z   \n",
       "3          0.96   85      0     85         palestisrael  2024-04-13T22:39:13Z   \n",
       "4          0.80   34      0     34                 None  2024-04-13T22:11:27Z   \n",
       "\n",
       "  kind cleaned  \n",
       "0   t3    None  \n",
       "1   t3    None  \n",
       "2   t3    None  \n",
       "3   t3    None  \n",
       "4   t3    None  "
      ]
     },
     "execution_count": 6,
     "metadata": {},
     "output_type": "execute_result"
    }
   ],
   "source": [
    "# Connect to SQLite database\n",
    "conn = sqlite3.connect('reddit_data.db')\n",
    "\n",
    "# Query to select all data from the reddit_posts table\n",
    "query = \"SELECT * FROM reddit_posts\"\n",
    "\n",
    "# Read data from the database into a DataFrame\n",
    "data = pd.read_sql_query(query, conn)\n",
    "\n",
    "# Close connection\n",
    "conn.close()\n",
    "\n",
    "# Display the DataFrame\n",
    "data.head()"
   ]
  },
  {
   "cell_type": "code",
   "execution_count": 7,
   "metadata": {},
   "outputs": [
    {
     "data": {
      "text/plain": [
       "(4795, 12)"
      ]
     },
     "execution_count": 7,
     "metadata": {},
     "output_type": "execute_result"
    }
   ],
   "source": [
    "data.shape"
   ]
  },
  {
   "cell_type": "code",
   "execution_count": 8,
   "metadata": {},
   "outputs": [
    {
     "name": "stdout",
     "output_type": "stream",
     "text": [
      "<class 'pandas.core.frame.DataFrame'>\n",
      "RangeIndex: 4795 entries, 0 to 4794\n",
      "Data columns (total 12 columns):\n",
      " #   Column                Non-Null Count  Dtype  \n",
      "---  ------                --------------  -----  \n",
      " 0   id                    4795 non-null   int64  \n",
      " 1   subreddit             4795 non-null   object \n",
      " 2   title                 4795 non-null   object \n",
      " 3   selftext              4795 non-null   object \n",
      " 4   upvote_ratio          4795 non-null   float64\n",
      " 5   ups                   4795 non-null   int64  \n",
      " 6   downs                 4795 non-null   int64  \n",
      " 7   score                 4795 non-null   int64  \n",
      " 8   link_flair_css_class  605 non-null    object \n",
      " 9   created_utc           4795 non-null   object \n",
      " 10  kind                  4795 non-null   object \n",
      " 11  cleaned               0 non-null      object \n",
      "dtypes: float64(1), int64(4), object(7)\n",
      "memory usage: 449.7+ KB\n"
     ]
    }
   ],
   "source": [
    "data.info()"
   ]
  },
  {
   "cell_type": "code",
   "execution_count": 86,
   "metadata": {},
   "outputs": [
    {
     "data": {
      "text/plain": [
       "0       \n",
       "1       \n",
       "2       \n",
       "3       \n",
       "4       \n",
       "      ..\n",
       "988     \n",
       "989     \n",
       "990     \n",
       "991     \n",
       "992     \n",
       "Name: selftext, Length: 993, dtype: object"
      ]
     },
     "execution_count": 86,
     "metadata": {},
     "output_type": "execute_result"
    }
   ],
   "source": [
    "data.selftext"
   ]
  },
  {
   "attachments": {},
   "cell_type": "markdown",
   "metadata": {},
   "source": [
    "I extracted the text from the 'title' column of the data and used the WordCloud library to generate the word cloud. "
   ]
  },
  {
   "cell_type": "code",
   "execution_count": 87,
   "metadata": {},
   "outputs": [],
   "source": [
    "# plt.figure(figsize=(60,35))\n",
    "# #subset = data['title']\n",
    "# text = data['selftext'].values\n",
    "# cloud1=WordCloud(stopwords=STOPWORDS,background_color='pink',colormap=\"Dark2\",collocations=False,width=2500,height=1800).generate(\" \".join(text))\n",
    "# plt.axis('off')\n",
    "# plt.title(\"r/politics\",fontsize=40)\n",
    "# plt.imshow(cloud1)"
   ]
  },
  {
   "attachments": {},
   "cell_type": "markdown",
   "metadata": {},
   "source": [
    "As we can see from the word cloud, the main themes are around recent developments relating to Abortion, bans and Arizona, mostly US politics heavy."
   ]
  },
  {
   "cell_type": "code",
   "execution_count": 9,
   "metadata": {},
   "outputs": [],
   "source": [
    "import nltk\n",
    "# nltk.download('stopwords')\n",
    "# nltk.download('wordnet')\n",
    "from nltk.corpus import stopwords\n",
    "from string import punctuation\n",
    "stop = set(STOPWORDS)"
   ]
  },
  {
   "cell_type": "code",
   "execution_count": 11,
   "metadata": {},
   "outputs": [],
   "source": [
    "import re\n",
    "\n",
    "def lower(text):\n",
    "    return text.lower()\n",
    "\n",
    "def remove_stopwords(text):\n",
    "    return \" \".join([word for word in str(text).split() if word not in stop])\n",
    "\n",
    "def remove_punctuation(text):\n",
    "    return text.translate(str.maketrans('','', punctuation))\n",
    "\n",
    "def clean_text(text):\n",
    "    text = lower(text)\n",
    "    text = remove_stopwords(text)\n",
    "    text = remove_punctuation(text)\n",
    "    return text\n",
    "\n",
    "#Apply function on column\n",
    "data['cleaned']=data['title'].apply(clean_text)"
   ]
  },
  {
   "cell_type": "code",
   "execution_count": 12,
   "metadata": {},
   "outputs": [
    {
     "data": {
      "text/plain": [
       "0    iran launched drone attacks israel us official...\n",
       "1    jordan temporarily closes airspace amid fears ...\n",
       "2    israel says closing airspace braces iranian dr...\n",
       "3    statement nsc spokesperson adrienne watson ira...\n",
       "4    germany give financial compensation holocaust ...\n",
       "Name: cleaned, dtype: object"
      ]
     },
     "execution_count": 12,
     "metadata": {},
     "output_type": "execute_result"
    }
   ],
   "source": [
    "data['cleaned'].head()"
   ]
  },
  {
   "cell_type": "code",
   "execution_count": 13,
   "metadata": {},
   "outputs": [
    {
     "data": {
      "text/plain": [
       "[('says', 347),\n",
       " ('us', 307),\n",
       " ('israel', 296),\n",
       " ('trump', 294),\n",
       " ('gaza', 285),\n",
       " ('biden', 204),\n",
       " ('ukraine', 201),\n",
       " ('uk', 163),\n",
       " ('russian', 163),\n",
       " ('new', 160)]"
      ]
     },
     "execution_count": 13,
     "metadata": {},
     "output_type": "execute_result"
    }
   ],
   "source": [
    "from collections import Counter\n",
    "cnt=Counter()\n",
    "\n",
    "for text in data['cleaned'].values:\n",
    "    for word in text.split():\n",
    "        cnt[word]+=1\n",
    "        \n",
    "cnt.most_common(10)"
   ]
  },
  {
   "cell_type": "code",
   "execution_count": 14,
   "metadata": {},
   "outputs": [],
   "source": [
    "FREQWORDS = set([w for (w, wc) in cnt.most_common(10)])\n",
    "def remove_freqwords(text):\n",
    "    return \" \".join([word for word in str(text).split() if word not in FREQWORDS])\n",
    "\n",
    "data['cleaned'] = data['cleaned'].apply(lambda text: remove_freqwords(text))"
   ]
  },
  {
   "cell_type": "code",
   "execution_count": 15,
   "metadata": {},
   "outputs": [
    {
     "data": {
      "text/plain": [
       "0            iran launched drone attacks officials say\n",
       "1    jordan temporarily closes airspace amid fears ...\n",
       "2         closing airspace braces iranian drone attack\n",
       "3    statement nsc spokesperson adrienne watson ira...\n",
       "4    germany give financial compensation holocaust ...\n",
       "Name: cleaned, dtype: object"
      ]
     },
     "execution_count": 15,
     "metadata": {},
     "output_type": "execute_result"
    }
   ],
   "source": [
    "data['cleaned'].head()"
   ]
  },
  {
   "cell_type": "code",
   "execution_count": 16,
   "metadata": {},
   "outputs": [
    {
     "name": "stdout",
     "output_type": "stream",
     "text": [
      "Each of the 4795 cleaned text is represented by 1954 features (TF-IDF score of unigrams and bigrams)\n"
     ]
    }
   ],
   "source": [
    "from sklearn.feature_extraction.text import TfidfVectorizer\n",
    "\n",
    "tfidf = TfidfVectorizer(sublinear_tf=True, min_df=5, # sublinear TF scaling to scale term frequencies logarithmically to reduce the importance of very frequent terms\n",
    "                        ngram_range=(1, 2), \n",
    "                        stop_words='english')\n",
    "\n",
    "features = tfidf.fit_transform(data.cleaned).toarray()\n",
    "\n",
    "\n",
    "print(\"Each of the %d cleaned text is represented by %d features (TF-IDF score of unigrams and bigrams)\" %(features.shape))"
   ]
  },
  {
   "cell_type": "code",
   "execution_count": null,
   "metadata": {},
   "outputs": [
    {
     "data": {
      "text/plain": [
       "(993, 2811)"
      ]
     },
     "execution_count": 19,
     "metadata": {},
     "output_type": "execute_result"
    }
   ],
   "source": [
    "features.shape "
   ]
  },
  {
   "attachments": {},
   "cell_type": "markdown",
   "metadata": {},
   "source": [
    "# Sentiment Analysis"
   ]
  },
  {
   "attachments": {},
   "cell_type": "markdown",
   "metadata": {},
   "source": [
    "### With AFINN Lexicon\n"
   ]
  },
  {
   "cell_type": "code",
   "execution_count": 17,
   "metadata": {},
   "outputs": [],
   "source": [
    "# initialize afinn sentiment analyzer\n",
    "from afinn import Afinn\n",
    "af = Afinn()"
   ]
  },
  {
   "cell_type": "code",
   "execution_count": 18,
   "metadata": {},
   "outputs": [],
   "source": [
    "# compute sentiment scores (polarity) and labels\n",
    "data['sentiment_score'] = data['cleaned'].apply(lambda x: af.score(x))\n",
    "# data['sentiment_score']"
   ]
  },
  {
   "cell_type": "code",
   "execution_count": 19,
   "metadata": {},
   "outputs": [],
   "source": [
    "# Add a column 'sentiment_category' based on 'sentiment_score'\n",
    "data['sentiment_category'] = data['sentiment_score'].apply(lambda x: 'positive' if x > 0 else ('negative' if x < 0 else 'neutral'))\n",
    "# data['sentiment_category']"
   ]
  },
  {
   "cell_type": "code",
   "execution_count": 20,
   "metadata": {},
   "outputs": [
    {
     "data": {
      "image/png": "[encoded data removed]",
      "text/plain": [
       "<Figure size 1200x800 with 5 Axes>"
      ]
     },
     "metadata": {},
     "output_type": "display_data"
    }
   ],
   "source": [
    "g = sns.FacetGrid(data, col='subreddit', col_wrap=3, height=4, sharex=False, sharey=False)\n",
    "\n",
    "# Map histogram plot for sentiment scores to each FacetGrid\n",
    "g.map(sns.histplot, 'sentiment_score', bins=20, kde=True, color='skyblue')\n",
    "\n",
    "# Set titles for each subplot\n",
    "g.set_titles(\"{col_name}\")\n",
    "\n",
    "# Set common labels for x and y axes\n",
    "g.set_axis_labels(\"Sentiment Score\", \"Frequency\")\n",
    "\n",
    "# Adjust the layout\n",
    "plt.tight_layout()\n",
    "\n",
    "# Show the plot\n",
    "plt.show()"
   ]
  },
  {
   "cell_type": "code",
   "execution_count": 17,
   "metadata": {},
   "outputs": [],
   "source": [
    "sentiment_counts = data['sentiment_category'].value_counts()\n"
   ]
  },
  {
   "cell_type": "code",
   "execution_count": 24,
   "metadata": {},
   "outputs": [
    {
     "data": {
      "image/png": "[encoded data removed]",
      "text/plain": [
       "<Figure size 1200x800 with 5 Axes>"
      ]
     },
     "metadata": {},
     "output_type": "display_data"
    }
   ],
   "source": [
    "# Define the order of sentiment categories\n",
    "order = ['positive', 'negative', 'neutral']\n",
    "\n",
    "# Convert sentiment_category to categorical type with specified order\n",
    "data['sentiment_category'] = pd.Categorical(data['sentiment_category'], categories=order, ordered=True)\n",
    "\n",
    "# Create a FacetGrid for each subreddit\n",
    "g = sns.FacetGrid(data, col='subreddit', col_wrap=3, height=4, sharex=False, sharey=False)\n",
    "\n",
    "# Map count plot for sentiment categories to each FacetGrid\n",
    "g.map_dataframe(sns.countplot, 'sentiment_category', palette='Set2')\n",
    "\n",
    "# Set titles for each subplot\n",
    "g.set_titles(\"{col_name}\")\n",
    "\n",
    "# Set common labels for x and y axes\n",
    "g.set_axis_labels(\"Sentiment Category\", \"Count\")\n",
    "\n",
    "# Adjust the layout\n",
    "plt.tight_layout()\n",
    "\n",
    "# Show the plot\n",
    "plt.show()"
   ]
  },
  {
   "cell_type": "code",
   "execution_count": 18,
   "metadata": {},
   "outputs": [
    {
     "data": {
      "image/png": "[encoded data removed]",
      "text/plain": [
       "<Figure size 800x600 with 1 Axes>"
      ]
     },
     "metadata": {},
     "output_type": "display_data"
    }
   ],
   "source": [
    "# Plot distribution of sentiment categories\n",
    "plt.figure(figsize=(8, 6))\n",
    "sentiment_counts.plot(kind='bar', color=['green', 'red', 'blue'])\n",
    "plt.title('Distribution of Sentiment Categories')\n",
    "plt.xlabel('Sentiment Category')\n",
    "plt.ylabel('Count')\n",
    "plt.xticks(rotation=0)  # Rotate x-axis labels for better readability\n",
    "plt.show()"
   ]
  },
  {
   "cell_type": "code",
   "execution_count": null,
   "metadata": {},
   "outputs": [],
   "source": [
    "sorted = data.sort_values(by='sentiment_score')\n",
    "#sorted['cleaned'].head()"
   ]
  },
  {
   "cell_type": "code",
   "execution_count": null,
   "metadata": {},
   "outputs": [],
   "source": [
    "#pd.set_option('display.max_colwidth', None)\n",
    "# print(sorted['post'].head())"
   ]
  },
  {
   "cell_type": "code",
   "execution_count": null,
   "metadata": {},
   "outputs": [],
   "source": [
    "#print(sorted['post'].tail(2))"
   ]
  },
  {
   "attachments": {},
   "cell_type": "markdown",
   "metadata": {},
   "source": [
    "### With TextBlob"
   ]
  },
  {
   "cell_type": "code",
   "execution_count": 19,
   "metadata": {},
   "outputs": [],
   "source": [
    "from textblob import TextBlob\n"
   ]
  },
  {
   "cell_type": "code",
   "execution_count": null,
   "metadata": {},
   "outputs": [],
   "source": [
    "#data['post']"
   ]
  },
  {
   "cell_type": "code",
   "execution_count": 20,
   "metadata": {},
   "outputs": [],
   "source": [
    "# compute sentiment scores (polarity) and labels\n",
    "data['sentiment_score_tb'] = data['cleaned'].apply(lambda x: round(TextBlob(x).sentiment.polarity, 3))\n",
    "#data['sentiment_score_tb']\n",
    "\n",
    "#sentiment_scores_tb = [round(TextBlob(article).sentiment.polarity, 3) for article in news_df['clean_text']]\n"
   ]
  },
  {
   "cell_type": "code",
   "execution_count": 21,
   "metadata": {},
   "outputs": [],
   "source": [
    "# Add a column 'sentiment_category' based on 'sentiment_score'\n",
    "data['sentiment_category_tb'] = data['sentiment_score_tb'].apply(lambda x: 'positive' if x > 0 else ('negative' if x < 0 else 'neutral'))\n",
    "#data['sentiment_category_tb']"
   ]
  },
  {
   "cell_type": "code",
   "execution_count": 22,
   "metadata": {},
   "outputs": [
    {
     "data": {
      "image/png": "[encoded data removed]",
      "text/plain": [
       "<Figure size 1000x600 with 1 Axes>"
      ]
     },
     "metadata": {},
     "output_type": "display_data"
    }
   ],
   "source": [
    "# Plot distribution of sentiment scores\n",
    "plt.figure(figsize=(10, 6))\n",
    "sns.histplot(data['sentiment_score_tb'], bins=20, kde=True, color='skyblue')\n",
    "plt.title('Distribution of Sentiment Scores from TextBlob')\n",
    "plt.xlabel('Sentiment Score (TextBlob)')\n",
    "plt.ylabel('Frequency')\n",
    "plt.show()"
   ]
  },
  {
   "cell_type": "code",
   "execution_count": 23,
   "metadata": {},
   "outputs": [],
   "source": [
    "sentiment_counts_tb = data['sentiment_category_tb'].value_counts()\n"
   ]
  },
  {
   "cell_type": "code",
   "execution_count": 24,
   "metadata": {},
   "outputs": [
    {
     "data": {
      "text/plain": [
       "neutral     611\n",
       "positive    224\n",
       "negative    158\n",
       "Name: sentiment_category_tb, dtype: int64"
      ]
     },
     "execution_count": 24,
     "metadata": {},
     "output_type": "execute_result"
    }
   ],
   "source": [
    "sentiment_counts_tb"
   ]
  },
  {
   "cell_type": "code",
   "execution_count": 25,
   "metadata": {},
   "outputs": [
    {
     "data": {
      "image/png": "[encoded data removed]",
      "text/plain": [
       "<Figure size 800x600 with 1 Axes>"
      ]
     },
     "metadata": {},
     "output_type": "display_data"
    }
   ],
   "source": [
    "# Plot distribution of sentiment categories\n",
    "plt.figure(figsize=(8, 6))\n",
    "sentiment_counts_tb.plot(kind='bar', color=['green', 'red', 'blue'])\n",
    "plt.title('Distribution of Sentiment Categories from TextBlob')\n",
    "plt.xlabel('Sentiment Category from TextBlob')\n",
    "plt.ylabel('Count')\n",
    "plt.xticks(rotation=0)  # Rotate x-axis labels for better readability\n",
    "plt.show()"
   ]
  },
  {
   "cell_type": "code",
   "execution_count": null,
   "metadata": {},
   "outputs": [],
   "source": [
    "sorted_tb = data.sort_values(by='sentiment_score_tb')\n",
    "# sorted_tb['cleaned'].head()"
   ]
  },
  {
   "cell_type": "code",
   "execution_count": 26,
   "metadata": {},
   "outputs": [],
   "source": [
    "from sklearn.metrics import confusion_matrix\n",
    "import seaborn as sns\n",
    "import matplotlib.pyplot as plt\n",
    " "
   ]
  },
  {
   "cell_type": "code",
   "execution_count": 27,
   "metadata": {},
   "outputs": [
    {
     "data": {
      "image/png": "[encoded data removed]",
      "text/plain": [
       "<Figure size 800x600 with 2 Axes>"
      ]
     },
     "metadata": {},
     "output_type": "display_data"
    }
   ],
   "source": [
    "# True labels (ground truth)\n",
    "true_labels = data['sentiment_category']\n",
    "\n",
    "# Predicted labels\n",
    "predicted_labels = data['sentiment_category_tb']  \n",
    "\n",
    "# Define the list of classes\n",
    "classes = ['negative', 'neutral', 'positive']\n",
    "\n",
    "# Compute confusion matrix\n",
    "conf_matrix = confusion_matrix(true_labels, predicted_labels, labels=classes)\n",
    "\n",
    "# Plot confusion matrix\n",
    "plt.figure(figsize=(8, 6))\n",
    "sns.heatmap(conf_matrix, annot=True, fmt='d', cmap='Blues', xticklabels=classes, yticklabels=classes)\n",
    "plt.title('Confusion Matrix')\n",
    "plt.xlabel('Predicted Label (from TextBlob)')\n",
    "plt.ylabel('True Label (from AFINN)')\n",
    "plt.show()"
   ]
  },
  {
   "attachments": {},
   "cell_type": "markdown",
   "metadata": {},
   "source": [
    "### With VADER"
   ]
  },
  {
   "cell_type": "code",
   "execution_count": 28,
   "metadata": {},
   "outputs": [],
   "source": [
    "from nltk.sentiment import SentimentIntensityAnalyzer\n",
    "from tqdm.notebook import tqdm"
   ]
  },
  {
   "cell_type": "code",
   "execution_count": 29,
   "metadata": {},
   "outputs": [],
   "source": [
    "sia = SentimentIntensityAnalyzer()"
   ]
  },
  {
   "cell_type": "code",
   "execution_count": 30,
   "metadata": {},
   "outputs": [
    {
     "data": {
      "application/vnd.jupyter.widget-view+json": {
       "model_id": "98378525b50f454f9424285fea7c4930",
       "version_major": 2,
       "version_minor": 0
      },
      "text/plain": [
       "  0%|          | 0/993 [00:00<?, ?it/s]"
      ]
     },
     "metadata": {},
     "output_type": "display_data"
    }
   ],
   "source": [
    "res = {}\n",
    "for i, row in tqdm(data.iterrows(), total=len(data)):\n",
    "    text = row['cleaned']\n",
    "    myid = row['id']\n",
    "    res[myid] = sia.polarity_scores(text)"
   ]
  },
  {
   "cell_type": "code",
   "execution_count": null,
   "metadata": {},
   "outputs": [
    {
     "data": {
      "text/plain": [
       "{1: {'neg': 0.336, 'neu': 0.483, 'pos': 0.181, 'compound': -0.9934},\n",
       " 2: {'neg': 0.331, 'neu': 0.591, 'pos': 0.078, 'compound': -0.8658},\n",
       " 3: {'neg': 0.184, 'neu': 0.715, 'pos': 0.101, 'compound': -0.9608},\n",
       " 4: {'neg': 0.138, 'neu': 0.695, 'pos': 0.167, 'compound': 0.5204},\n",
       " 5: {'neg': 0.249, 'neu': 0.751, 'pos': 0.0, 'compound': -0.6486},\n",
       " 6: {'neg': 0.185, 'neu': 0.725, 'pos': 0.089, 'compound': -0.9687},\n",
       " 7: {'neg': 0.234, 'neu': 0.436, 'pos': 0.33, 'compound': 0.872},\n",
       " 8: {'neg': 0.276, 'neu': 0.433, 'pos': 0.291, 'compound': 0.3418},\n",
       " 9: {'neg': 0.218, 'neu': 0.521, 'pos': 0.261, 'compound': 0.8885},\n",
       " 10: {'neg': 0.186, 'neu': 0.689, 'pos': 0.125, 'compound': -0.2247},\n",
       " 11: {'neg': 0.337, 'neu': 0.52, 'pos': 0.143, 'compound': -0.9498},\n",
       " 12: {'neg': 0.224, 'neu': 0.776, 'pos': 0.0, 'compound': -0.6705},\n",
       " 13: {'neg': 0.17, 'neu': 0.633, 'pos': 0.196, 'compound': 0.4671},\n",
       " 14: {'neg': 0.158, 'neu': 0.49, 'pos': 0.352, 'compound': 0.9977},\n",
       " 15: {'neg': 0.192, 'neu': 0.591, 'pos': 0.218, 'compound': 0.8261},\n",
       " 16: {'neg': 0.472, 'neu': 0.317, 'pos': 0.211, 'compound': -0.872},\n",
       " 17: {'neg': 0.369, 'neu': 0.403, 'pos': 0.228, 'compound': -0.9021},\n",
       " 18: {'neg': 0.305, 'neu': 0.605, 'pos': 0.09, 'compound': -0.9906},\n",
       " 19: {'neg': 0.215, 'neu': 0.557, 'pos': 0.228, 'compound': 0.128},\n",
       " 20: {'neg': 0.171, 'neu': 0.542, 'pos': 0.288, 'compound': 0.9282},\n",
       " 21: {'neg': 0.199, 'neu': 0.608, 'pos': 0.194, 'compound': -0.1119},\n",
       " 22: {'neg': 0.396, 'neu': 0.575, 'pos': 0.029, 'compound': -0.9793},\n",
       " 23: {'neg': 0.404, 'neu': 0.472, 'pos': 0.124, 'compound': -0.9907},\n",
       " 24: {'neg': 0.279, 'neu': 0.572, 'pos': 0.149, 'compound': -0.9545},\n",
       " 25: {'neg': 0.142, 'neu': 0.668, 'pos': 0.19, 'compound': 0.7905},\n",
       " 26: {'neg': 0.332, 'neu': 0.585, 'pos': 0.083, 'compound': -0.9891},\n",
       " 27: {'neg': 0.153, 'neu': 0.664, 'pos': 0.183, 'compound': 0.7845},\n",
       " 28: {'neg': 0.358, 'neu': 0.403, 'pos': 0.239, 'compound': -0.6597},\n",
       " 29: {'neg': 0.308, 'neu': 0.542, 'pos': 0.15, 'compound': -0.9864},\n",
       " 30: {'neg': 0.454, 'neu': 0.466, 'pos': 0.08, 'compound': -0.9977},\n",
       " 31: {'neg': 0.091, 'neu': 0.588, 'pos': 0.322, 'compound': 0.9892},\n",
       " 32: {'neg': 0.416, 'neu': 0.523, 'pos': 0.061, 'compound': -0.9321},\n",
       " 33: {'neg': 0.201, 'neu': 0.667, 'pos': 0.133, 'compound': -0.7334},\n",
       " 34: {'neg': 0.134, 'neu': 0.76, 'pos': 0.107, 'compound': -0.6322},\n",
       " 35: {'neg': 0.162, 'neu': 0.736, 'pos': 0.102, 'compound': -0.4939},\n",
       " 36: {'neg': 0.138, 'neu': 0.722, 'pos': 0.14, 'compound': 0.0928},\n",
       " 37: {'neg': 0.257, 'neu': 0.607, 'pos': 0.136, 'compound': -0.6992},\n",
       " 38: {'neg': 0.409, 'neu': 0.446, 'pos': 0.146, 'compound': -0.9873},\n",
       " 39: {'neg': 0.315, 'neu': 0.63, 'pos': 0.055, 'compound': -0.9866},\n",
       " 40: {'neg': 0.188, 'neu': 0.642, 'pos': 0.17, 'compound': 0.2168},\n",
       " 41: {'neg': 0.365, 'neu': 0.445, 'pos': 0.19, 'compound': -0.9601},\n",
       " 42: {'neg': 0.238, 'neu': 0.511, 'pos': 0.25, 'compound': 0.7048},\n",
       " 43: {'neg': 0.318, 'neu': 0.449, 'pos': 0.233, 'compound': -0.9821},\n",
       " 44: {'neg': 0.133, 'neu': 0.679, 'pos': 0.189, 'compound': 0.5379},\n",
       " 45: {'neg': 0.107, 'neu': 0.732, 'pos': 0.162, 'compound': 0.2023},\n",
       " 46: {'neg': 0.168, 'neu': 0.688, 'pos': 0.144, 'compound': -0.2023},\n",
       " 47: {'neg': 0.016, 'neu': 0.759, 'pos': 0.225, 'compound': 0.9442},\n",
       " 48: {'neg': 0.38, 'neu': 0.461, 'pos': 0.159, 'compound': -0.9957},\n",
       " 49: {'neg': 0.259, 'neu': 0.645, 'pos': 0.096, 'compound': -0.9287},\n",
       " 50: {'neg': 0.239, 'neu': 0.674, 'pos': 0.087, 'compound': -0.9931},\n",
       " 51: {'neg': 0.258, 'neu': 0.61, 'pos': 0.132, 'compound': -0.9565},\n",
       " 52: {'neg': 0.21, 'neu': 0.666, 'pos': 0.124, 'compound': -0.6973},\n",
       " 53: {'neg': 0.21, 'neu': 0.666, 'pos': 0.124, 'compound': -0.6973},\n",
       " 54: {'neg': 0.344, 'neu': 0.587, 'pos': 0.069, 'compound': -0.9803},\n",
       " 55: {'neg': 0.312, 'neu': 0.595, 'pos': 0.093, 'compound': -0.9859},\n",
       " 56: {'neg': 0.254, 'neu': 0.541, 'pos': 0.205, 'compound': -0.7017},\n",
       " 57: {'neg': 0.145, 'neu': 0.71, 'pos': 0.145, 'compound': 0.4781},\n",
       " 58: {'neg': 0.254, 'neu': 0.607, 'pos': 0.14, 'compound': -0.923},\n",
       " 59: {'neg': 0.196, 'neu': 0.652, 'pos': 0.152, 'compound': -0.6285},\n",
       " 60: {'neg': 0.192, 'neu': 0.554, 'pos': 0.253, 'compound': 0.9748},\n",
       " 61: {'neg': 0.287, 'neu': 0.513, 'pos': 0.2, 'compound': -0.9255},\n",
       " 62: {'neg': 0.3, 'neu': 0.443, 'pos': 0.257, 'compound': -0.3474},\n",
       " 63: {'neg': 0.069, 'neu': 0.73, 'pos': 0.201, 'compound': 0.9618},\n",
       " 64: {'neg': 0.411, 'neu': 0.495, 'pos': 0.094, 'compound': -0.9821},\n",
       " 65: {'neg': 0.145, 'neu': 0.643, 'pos': 0.211, 'compound': 0.7845},\n",
       " 66: {'neg': 0.369, 'neu': 0.487, 'pos': 0.144, 'compound': -0.9221},\n",
       " 67: {'neg': 0.0, 'neu': 0.469, 'pos': 0.531, 'compound': 0.9287},\n",
       " 68: {'neg': 0.183, 'neu': 0.448, 'pos': 0.369, 'compound': 0.8442},\n",
       " 69: {'neg': 0.213, 'neu': 0.601, 'pos': 0.186, 'compound': -0.8552},\n",
       " 70: {'neg': 0.165, 'neu': 0.65, 'pos': 0.185, 'compound': 0.743},\n",
       " 71: {'neg': 0.133, 'neu': 0.567, 'pos': 0.3, 'compound': 0.7783},\n",
       " 72: {'neg': 0.263, 'neu': 0.523, 'pos': 0.214, 'compound': -0.9621},\n",
       " 73: {'neg': 0.231, 'neu': 0.49, 'pos': 0.279, 'compound': 0.2732},\n",
       " 74: {'neg': 0.31, 'neu': 0.574, 'pos': 0.116, 'compound': -0.9349},\n",
       " 75: {'neg': 0.298, 'neu': 0.584, 'pos': 0.118, 'compound': -0.8648},\n",
       " 76: {'neg': 0.231, 'neu': 0.63, 'pos': 0.139, 'compound': -0.9868},\n",
       " 77: {'neg': 0.244, 'neu': 0.599, 'pos': 0.157, 'compound': -0.981},\n",
       " 78: {'neg': 0.17, 'neu': 0.685, 'pos': 0.145, 'compound': -0.4588},\n",
       " 79: {'neg': 0.397, 'neu': 0.471, 'pos': 0.132, 'compound': -0.9963},\n",
       " 80: {'neg': 0.178, 'neu': 0.513, 'pos': 0.309, 'compound': 0.4501},\n",
       " 81: {'neg': 0.168, 'neu': 0.695, 'pos': 0.137, 'compound': 0.0},\n",
       " 82: {'neg': 0.0, 'neu': 0.653, 'pos': 0.347, 'compound': 0.9738},\n",
       " 83: {'neg': 0.628, 'neu': 0.336, 'pos': 0.036, 'compound': -0.9912},\n",
       " 84: {'neg': 0.074, 'neu': 0.665, 'pos': 0.261, 'compound': 0.9565},\n",
       " 85: {'neg': 0.222, 'neu': 0.622, 'pos': 0.156, 'compound': -0.9579},\n",
       " 86: {'neg': 0.192, 'neu': 0.606, 'pos': 0.202, 'compound': 0.5267},\n",
       " 87: {'neg': 0.224, 'neu': 0.642, 'pos': 0.134, 'compound': -0.4703},\n",
       " 88: {'neg': 0.111, 'neu': 0.771, 'pos': 0.117, 'compound': 0.1759},\n",
       " 89: {'neg': 0.535, 'neu': 0.465, 'pos': 0.0, 'compound': -0.5574},\n",
       " 90: {'neg': 0.24, 'neu': 0.553, 'pos': 0.207, 'compound': -0.646},\n",
       " 91: {'neg': 0.284, 'neu': 0.505, 'pos': 0.211, 'compound': -0.4939},\n",
       " 92: {'neg': 0.168, 'neu': 0.554, 'pos': 0.278, 'compound': 0.9645},\n",
       " 93: {'neg': 0.306, 'neu': 0.468, 'pos': 0.226, 'compound': -0.4404},\n",
       " 94: {'neg': 0.07, 'neu': 0.423, 'pos': 0.507, 'compound': 0.9862},\n",
       " 95: {'neg': 0.193, 'neu': 0.807, 'pos': 0.0, 'compound': -0.4767},\n",
       " 96: {'neg': 0.185, 'neu': 0.716, 'pos': 0.098, 'compound': -0.7003},\n",
       " 97: {'neg': 0.324, 'neu': 0.506, 'pos': 0.169, 'compound': -0.7745},\n",
       " 98: {'neg': 0.193, 'neu': 0.664, 'pos': 0.143, 'compound': -0.9868},\n",
       " 99: {'neg': 0.322, 'neu': 0.449, 'pos': 0.229, 'compound': -0.5574},\n",
       " 100: {'neg': 0.17, 'neu': 0.629, 'pos': 0.201, 'compound': 0.5267},\n",
       " 101: {'neg': 0.109, 'neu': 0.731, 'pos': 0.16, 'compound': 0.3818},\n",
       " 102: {'neg': 0.139, 'neu': 0.815, 'pos': 0.046, 'compound': -0.539},\n",
       " 103: {'neg': 0.368, 'neu': 0.551, 'pos': 0.081, 'compound': -0.9966},\n",
       " 104: {'neg': 0.231, 'neu': 0.562, 'pos': 0.207, 'compound': -0.6093},\n",
       " 105: {'neg': 0.311, 'neu': 0.463, 'pos': 0.226, 'compound': -0.9169},\n",
       " 106: {'neg': 0.17, 'neu': 0.679, 'pos': 0.152, 'compound': -0.25},\n",
       " 107: {'neg': 0.16, 'neu': 0.658, 'pos': 0.182, 'compound': 0.4159},\n",
       " 108: {'neg': 0.246, 'neu': 0.532, 'pos': 0.223, 'compound': -0.872},\n",
       " 109: {'neg': 0.0, 'neu': 0.85, 'pos': 0.15, 'compound': 0.5719},\n",
       " 110: {'neg': 0.356, 'neu': 0.412, 'pos': 0.232, 'compound': -0.8204},\n",
       " 111: {'neg': 0.207, 'neu': 0.628, 'pos': 0.165, 'compound': -0.745},\n",
       " 112: {'neg': 0.125, 'neu': 0.634, 'pos': 0.242, 'compound': 0.9945},\n",
       " 113: {'neg': 0.042, 'neu': 0.798, 'pos': 0.16, 'compound': 0.7579},\n",
       " 114: {'neg': 0.069, 'neu': 0.692, 'pos': 0.239, 'compound': 0.8957},\n",
       " 115: {'neg': 0.284, 'neu': 0.567, 'pos': 0.149, 'compound': -0.9231},\n",
       " 116: {'neg': 0.134, 'neu': 0.687, 'pos': 0.18, 'compound': 0.1226},\n",
       " 117: {'neg': 0.366, 'neu': 0.496, 'pos': 0.139, 'compound': -0.9821},\n",
       " 118: {'neg': 0.206, 'neu': 0.629, 'pos': 0.165, 'compound': -0.4404},\n",
       " 119: {'neg': 0.266, 'neu': 0.683, 'pos': 0.051, 'compound': -0.8834},\n",
       " 120: {'neg': 0.211, 'neu': 0.61, 'pos': 0.179, 'compound': -0.5139},\n",
       " 121: {'neg': 0.136, 'neu': 0.695, 'pos': 0.17, 'compound': 0.9409},\n",
       " 122: {'neg': 0.346, 'neu': 0.525, 'pos': 0.13, 'compound': -0.9878},\n",
       " 123: {'neg': 0.028, 'neu': 0.655, 'pos': 0.316, 'compound': 0.9989},\n",
       " 124: {'neg': 0.337, 'neu': 0.507, 'pos': 0.156, 'compound': -0.9921},\n",
       " 125: {'neg': 0.245, 'neu': 0.58, 'pos': 0.175, 'compound': -0.9115},\n",
       " 126: {'neg': 0.15, 'neu': 0.62, 'pos': 0.229, 'compound': 0.962},\n",
       " 127: {'neg': 0.0, 'neu': 0.802, 'pos': 0.198, 'compound': 0.5719},\n",
       " 128: {'neg': 0.38, 'neu': 0.334, 'pos': 0.286, 'compound': -0.9294},\n",
       " 129: {'neg': 0.116, 'neu': 0.664, 'pos': 0.22, 'compound': 0.9887},\n",
       " 130: {'neg': 0.092, 'neu': 0.788, 'pos': 0.12, 'compound': 0.0516},\n",
       " 131: {'neg': 0.311, 'neu': 0.445, 'pos': 0.244, 'compound': -0.9119},\n",
       " 132: {'neg': 0.087, 'neu': 0.719, 'pos': 0.194, 'compound': 0.9329},\n",
       " 133: {'neg': 0.087, 'neu': 0.719, 'pos': 0.194, 'compound': 0.9329},\n",
       " 134: {'neg': 0.27, 'neu': 0.663, 'pos': 0.067, 'compound': -0.9681},\n",
       " 135: {'neg': 0.291, 'neu': 0.44, 'pos': 0.269, 'compound': -0.6808},\n",
       " 136: {'neg': 0.263, 'neu': 0.677, 'pos': 0.06, 'compound': -0.6249},\n",
       " 137: {'neg': 0.203, 'neu': 0.668, 'pos': 0.129, 'compound': -0.8518},\n",
       " 138: {'neg': 0.191, 'neu': 0.593, 'pos': 0.216, 'compound': 0.4939},\n",
       " 139: {'neg': 0.417, 'neu': 0.583, 'pos': 0.0, 'compound': -0.5106},\n",
       " 140: {'neg': 0.284, 'neu': 0.52, 'pos': 0.196, 'compound': -0.9759},\n",
       " 141: {'neg': 0.144, 'neu': 0.658, 'pos': 0.198, 'compound': 0.0772},\n",
       " 142: {'neg': 0.249, 'neu': 0.565, 'pos': 0.186, 'compound': -0.9608},\n",
       " 143: {'neg': 0.15, 'neu': 0.613, 'pos': 0.238, 'compound': 0.9153},\n",
       " 144: {'neg': 0.115, 'neu': 0.579, 'pos': 0.306, 'compound': 0.9661},\n",
       " 145: {'neg': 0.29, 'neu': 0.408, 'pos': 0.303, 'compound': -0.1027},\n",
       " 146: {'neg': 0.153, 'neu': 0.609, 'pos': 0.238, 'compound': 0.7351},\n",
       " 147: {'neg': 0.218, 'neu': 0.539, 'pos': 0.244, 'compound': 0.8908},\n",
       " 148: {'neg': 0.138, 'neu': 0.636, 'pos': 0.226, 'compound': 0.9705},\n",
       " 149: {'neg': 0.424, 'neu': 0.385, 'pos': 0.191, 'compound': -0.9945},\n",
       " 150: {'neg': 0.28, 'neu': 0.595, 'pos': 0.125, 'compound': -0.9686},\n",
       " 151: {'neg': 0.13, 'neu': 0.734, 'pos': 0.136, 'compound': 0.3818},\n",
       " 152: {'neg': 0.231, 'neu': 0.769, 'pos': 0.0, 'compound': -0.5106},\n",
       " 153: {'neg': 0.364, 'neu': 0.473, 'pos': 0.164, 'compound': -0.7579},\n",
       " 154: {'neg': 0.212, 'neu': 0.574, 'pos': 0.214, 'compound': 0.4085},\n",
       " 155: {'neg': 0.054, 'neu': 0.781, 'pos': 0.166, 'compound': 0.8074},\n",
       " 156: {'neg': 0.282, 'neu': 0.682, 'pos': 0.036, 'compound': -0.9737},\n",
       " 157: {'neg': 0.229, 'neu': 0.486, 'pos': 0.284, 'compound': 0.7024},\n",
       " 158: {'neg': 0.369, 'neu': 0.578, 'pos': 0.052, 'compound': -0.9517},\n",
       " 159: {'neg': 0.0, 'neu': 0.872, 'pos': 0.128, 'compound': 0.4215},\n",
       " 160: {'neg': 0.217, 'neu': 0.618, 'pos': 0.166, 'compound': -0.3474},\n",
       " 161: {'neg': 0.224, 'neu': 0.724, 'pos': 0.052, 'compound': -0.7639},\n",
       " 162: {'neg': 0.241, 'neu': 0.629, 'pos': 0.13, 'compound': -0.9745},\n",
       " 163: {'neg': 0.332, 'neu': 0.522, 'pos': 0.146, 'compound': -0.9811},\n",
       " 164: {'neg': 0.15, 'neu': 0.736, 'pos': 0.114, 'compound': -0.7316},\n",
       " 165: {'neg': 0.161, 'neu': 0.697, 'pos': 0.142, 'compound': -0.2023},\n",
       " 166: {'neg': 0.254, 'neu': 0.657, 'pos': 0.089, 'compound': -0.9963},\n",
       " 167: {'neg': 0.248, 'neu': 0.571, 'pos': 0.18, 'compound': -0.9623},\n",
       " 168: {'neg': 0.121, 'neu': 0.732, 'pos': 0.147, 'compound': -0.0379},\n",
       " 169: {'neg': 0.174, 'neu': 0.662, 'pos': 0.164, 'compound': -0.4445},\n",
       " 170: {'neg': 0.182, 'neu': 0.695, 'pos': 0.123, 'compound': -0.5095},\n",
       " 171: {'neg': 0.235, 'neu': 0.56, 'pos': 0.204, 'compound': -0.3822},\n",
       " 172: {'neg': 0.301, 'neu': 0.699, 'pos': 0.0, 'compound': -0.8807},\n",
       " 173: {'neg': 0.263, 'neu': 0.553, 'pos': 0.183, 'compound': -0.6239},\n",
       " 174: {'neg': 0.062, 'neu': 0.735, 'pos': 0.202, 'compound': 0.5859},\n",
       " 175: {'neg': 0.199, 'neu': 0.566, 'pos': 0.235, 'compound': 0.5325},\n",
       " 176: {'neg': 0.164, 'neu': 0.686, 'pos': 0.15, 'compound': -0.0591},\n",
       " 177: {'neg': 0.225, 'neu': 0.614, 'pos': 0.16, 'compound': -0.9},\n",
       " 178: {'neg': 0.0, 'neu': 0.777, 'pos': 0.223, 'compound': 0.3182},\n",
       " 179: {'neg': 0.188, 'neu': 0.679, 'pos': 0.134, 'compound': -0.5258},\n",
       " 180: {'neg': 0.083, 'neu': 0.453, 'pos': 0.464, 'compound': 0.971},\n",
       " 181: {'neg': 0.145, 'neu': 0.694, 'pos': 0.16, 'compound': 0.5466},\n",
       " 182: {'neg': 0.131, 'neu': 0.567, 'pos': 0.303, 'compound': 0.9856},\n",
       " 183: {'neg': 0.206, 'neu': 0.67, 'pos': 0.125, 'compound': -0.9902},\n",
       " 184: {'neg': 0.344, 'neu': 0.509, 'pos': 0.147, 'compound': -0.9769},\n",
       " 185: {'neg': 0.207, 'neu': 0.608, 'pos': 0.185, 'compound': -0.9753},\n",
       " 186: {'neg': 0.269, 'neu': 0.532, 'pos': 0.199, 'compound': -0.9513},\n",
       " 187: {'neg': 0.213, 'neu': 0.564, 'pos': 0.224, 'compound': 0.1531},\n",
       " 188: {'neg': 0.277, 'neu': 0.467, 'pos': 0.256, 'compound': -0.3762},\n",
       " 189: {'neg': 0.234, 'neu': 0.602, 'pos': 0.164, 'compound': -0.4767},\n",
       " 190: {'neg': 0.299, 'neu': 0.468, 'pos': 0.232, 'compound': -0.9554},\n",
       " 191: {'neg': 0.125, 'neu': 0.759, 'pos': 0.116, 'compound': 0.0603},\n",
       " 192: {'neg': 0.307, 'neu': 0.614, 'pos': 0.078, 'compound': -0.9626},\n",
       " 193: {'neg': 0.249, 'neu': 0.61, 'pos': 0.141, 'compound': -0.8271},\n",
       " 194: {'neg': 0.092, 'neu': 0.616, 'pos': 0.291, 'compound': 0.9735},\n",
       " 195: {'neg': 0.31, 'neu': 0.523, 'pos': 0.167, 'compound': -0.8892},\n",
       " 196: {'neg': 0.185, 'neu': 0.713, 'pos': 0.102, 'compound': -0.9694},\n",
       " 197: {'neg': 0.298, 'neu': 0.516, 'pos': 0.186, 'compound': -0.9125},\n",
       " 198: {'neg': 0.236, 'neu': 0.652, 'pos': 0.112, 'compound': -0.9669},\n",
       " 199: {'neg': 0.021, 'neu': 0.805, 'pos': 0.173, 'compound': 0.875},\n",
       " 200: {'neg': 0.153, 'neu': 0.628, 'pos': 0.219, 'compound': 0.8361},\n",
       " 201: {'neg': 0.201, 'neu': 0.734, 'pos': 0.065, 'compound': -0.8834},\n",
       " 202: {'neg': 0.083, 'neu': 0.601, 'pos': 0.316, 'compound': 0.9834},\n",
       " 203: {'neg': 0.341, 'neu': 0.561, 'pos': 0.098, 'compound': -0.9022},\n",
       " 204: {'neg': 0.217, 'neu': 0.699, 'pos': 0.084, 'compound': -0.7003},\n",
       " 205: {'neg': 0.128, 'neu': 0.708, 'pos': 0.164, 'compound': 0.5888},\n",
       " 206: {'neg': 0.194, 'neu': 0.726, 'pos': 0.08, 'compound': -0.926},\n",
       " 207: {'neg': 0.295, 'neu': 0.705, 'pos': 0.0, 'compound': -0.7269},\n",
       " 208: {'neg': 0.487, 'neu': 0.434, 'pos': 0.078, 'compound': -0.9504},\n",
       " 209: {'neg': 0.195, 'neu': 0.589, 'pos': 0.215, 'compound': 0.6611},\n",
       " 210: {'neg': 0.0, 'neu': 1.0, 'pos': 0.0, 'compound': 0.0},\n",
       " 211: {'neg': 0.219, 'neu': 0.684, 'pos': 0.097, 'compound': -0.9886},\n",
       " 212: {'neg': 0.084, 'neu': 0.716, 'pos': 0.201, 'compound': 0.9821},\n",
       " 213: {'neg': 0.491, 'neu': 0.376, 'pos': 0.133, 'compound': -0.9809},\n",
       " 214: {'neg': 0.262, 'neu': 0.649, 'pos': 0.089, 'compound': -0.9831},\n",
       " 215: {'neg': 0.191, 'neu': 0.606, 'pos': 0.203, 'compound': 0.1027},\n",
       " 216: {'neg': 0.329, 'neu': 0.5, 'pos': 0.172, 'compound': -0.9509},\n",
       " 217: {'neg': 0.201, 'neu': 0.668, 'pos': 0.131, 'compound': -0.887},\n",
       " 218: {'neg': 0.231, 'neu': 0.579, 'pos': 0.19, 'compound': -0.6808},\n",
       " 219: {'neg': 0.1, 'neu': 0.745, 'pos': 0.155, 'compound': 0.935},\n",
       " 220: {'neg': 0.401, 'neu': 0.527, 'pos': 0.072, 'compound': -0.9743},\n",
       " 221: {'neg': 0.269, 'neu': 0.544, 'pos': 0.186, 'compound': -0.9536},\n",
       " 222: {'neg': 0.177, 'neu': 0.572, 'pos': 0.252, 'compound': 0.9694},\n",
       " 223: {'neg': 0.247, 'neu': 0.647, 'pos': 0.107, 'compound': -0.99},\n",
       " 224: {'neg': 0.411, 'neu': 0.43, 'pos': 0.159, 'compound': -0.9755},\n",
       " 225: {'neg': 0.16, 'neu': 0.508, 'pos': 0.332, 'compound': 0.9215},\n",
       " 226: {'neg': 0.228, 'neu': 0.585, 'pos': 0.187, 'compound': -0.5093},\n",
       " 227: {'neg': 0.26, 'neu': 0.469, 'pos': 0.271, 'compound': 0.144},\n",
       " 228: {'neg': 0.358, 'neu': 0.563, 'pos': 0.08, 'compound': -0.9957},\n",
       " 229: {'neg': 0.222, 'neu': 0.624, 'pos': 0.154, 'compound': -0.5994},\n",
       " 230: {'neg': 0.311, 'neu': 0.592, 'pos': 0.097, 'compound': -0.9451},\n",
       " 231: {'neg': 0.298, 'neu': 0.623, 'pos': 0.079, 'compound': -0.7269},\n",
       " 232: {'neg': 0.121, 'neu': 0.821, 'pos': 0.058, 'compound': -0.1531},\n",
       " 233: {'neg': 0.084, 'neu': 0.658, 'pos': 0.258, 'compound': 0.9412},\n",
       " 234: {'neg': 0.194, 'neu': 0.698, 'pos': 0.109, 'compound': -0.8058},\n",
       " 235: {'neg': 0.052, 'neu': 0.667, 'pos': 0.281, 'compound': 0.7838},\n",
       " 236: {'neg': 0.198, 'neu': 0.586, 'pos': 0.216, 'compound': 0.64},\n",
       " 237: {'neg': 0.161, 'neu': 0.478, 'pos': 0.361, 'compound': 0.9759},\n",
       " 238: {'neg': 0.233, 'neu': 0.608, 'pos': 0.16, 'compound': -0.9745},\n",
       " 239: {'neg': 0.136, 'neu': 0.666, 'pos': 0.199, 'compound': 0.6386},\n",
       " 240: {'neg': 0.387, 'neu': 0.49, 'pos': 0.123, 'compound': -0.9709},\n",
       " 241: {'neg': 0.204, 'neu': 0.567, 'pos': 0.228, 'compound': 0.5465},\n",
       " 242: {'neg': 0.103, 'neu': 0.717, 'pos': 0.18, 'compound': 0.7351},\n",
       " 243: {'neg': 0.181, 'neu': 0.734, 'pos': 0.085, 'compound': -0.4019},\n",
       " 244: {'neg': 0.18, 'neu': 0.649, 'pos': 0.171, 'compound': -0.6712},\n",
       " 245: {'neg': 0.093, 'neu': 0.699, 'pos': 0.209, 'compound': 0.9231},\n",
       " 246: {'neg': 0.335, 'neu': 0.544, 'pos': 0.121, 'compound': -0.9695},\n",
       " 247: {'neg': 0.317, 'neu': 0.638, 'pos': 0.045, 'compound': -0.9239},\n",
       " 248: {'neg': 0.168, 'neu': 0.682, 'pos': 0.15, 'compound': -0.4767},\n",
       " 249: {'neg': 0.179, 'neu': 0.725, 'pos': 0.096, 'compound': -0.8651},\n",
       " 250: {'neg': 0.184, 'neu': 0.607, 'pos': 0.209, 'compound': 0.6808},\n",
       " 251: {'neg': 0.113, 'neu': 0.703, 'pos': 0.183, 'compound': 0.5106},\n",
       " 252: {'neg': 0.347, 'neu': 0.471, 'pos': 0.182, 'compound': -0.9124},\n",
       " 253: {'neg': 0.213, 'neu': 0.526, 'pos': 0.261, 'compound': 0.4939},\n",
       " 254: {'neg': 0.199, 'neu': 0.751, 'pos': 0.05, 'compound': -0.902},\n",
       " 255: {'neg': 0.216, 'neu': 0.588, 'pos': 0.196, 'compound': -0.128},\n",
       " 256: {'neg': 0.307, 'neu': 0.56, 'pos': 0.133, 'compound': -0.9201},\n",
       " 257: {'neg': 0.34, 'neu': 0.559, 'pos': 0.101, 'compound': -0.9914},\n",
       " 258: {'neg': 0.241, 'neu': 0.603, 'pos': 0.156, 'compound': -0.1779},\n",
       " 259: {'neg': 0.143, 'neu': 0.78, 'pos': 0.076, 'compound': -0.6249},\n",
       " 260: {'neg': 0.314, 'neu': 0.686, 'pos': 0.0, 'compound': -0.9826},\n",
       " 261: {'neg': 0.347, 'neu': 0.534, 'pos': 0.119, 'compound': -0.98},\n",
       " 262: {'neg': 0.282, 'neu': 0.648, 'pos': 0.07, 'compound': -0.8689},\n",
       " 263: {'neg': 0.243, 'neu': 0.629, 'pos': 0.128, 'compound': -0.9312},\n",
       " 264: {'neg': 0.221, 'neu': 0.494, 'pos': 0.285, 'compound': 0.9072},\n",
       " 265: {'neg': 0.376, 'neu': 0.552, 'pos': 0.072, 'compound': -0.9916},\n",
       " 266: {'neg': 0.079, 'neu': 0.582, 'pos': 0.339, 'compound': 0.98},\n",
       " 267: {'neg': 0.131, 'neu': 0.677, 'pos': 0.192, 'compound': 0.5635},\n",
       " 268: {'neg': 0.197, 'neu': 0.605, 'pos': 0.198, 'compound': 0.3056},\n",
       " 269: {'neg': 0.257, 'neu': 0.668, 'pos': 0.075, 'compound': -0.9742},\n",
       " 270: {'neg': 0.354, 'neu': 0.55, 'pos': 0.096, 'compound': -0.9939},\n",
       " 271: {'neg': 0.211, 'neu': 0.69, 'pos': 0.099, 'compound': -0.6124},\n",
       " 272: {'neg': 0.479, 'neu': 0.373, 'pos': 0.148, 'compound': -0.9836},\n",
       " 273: {'neg': 0.268, 'neu': 0.664, 'pos': 0.068, 'compound': -0.9723},\n",
       " 274: {'neg': 0.162, 'neu': 0.647, 'pos': 0.191, 'compound': 0.2263},\n",
       " 275: {'neg': 0.141, 'neu': 0.709, 'pos': 0.15, 'compound': 0.4228},\n",
       " 276: {'neg': 0.26, 'neu': 0.665, 'pos': 0.074, 'compound': -0.945},\n",
       " 277: {'neg': 0.063, 'neu': 0.656, 'pos': 0.281, 'compound': 0.8074},\n",
       " 278: {'neg': 0.352, 'neu': 0.536, 'pos': 0.112, 'compound': -0.9829},\n",
       " 279: {'neg': 0.14, 'neu': 0.625, 'pos': 0.235, 'compound': 0.9113},\n",
       " 280: {'neg': 0.244, 'neu': 0.689, 'pos': 0.067, 'compound': -0.7906},\n",
       " 281: {'neg': 0.156, 'neu': 0.844, 'pos': 0.0, 'compound': -0.5423},\n",
       " 282: {'neg': 0.0, 'neu': 0.841, 'pos': 0.159, 'compound': 0.3818},\n",
       " 283: {'neg': 0.0, 'neu': 0.772, 'pos': 0.228, 'compound': 0.7579},\n",
       " 284: {'neg': 0.249, 'neu': 0.722, 'pos': 0.029, 'compound': -0.9632},\n",
       " 285: {'neg': 0.217, 'neu': 0.617, 'pos': 0.166, 'compound': -0.9038},\n",
       " 286: {'neg': 0.306, 'neu': 0.648, 'pos': 0.045, 'compound': -0.9828},\n",
       " 287: {'neg': 0.212, 'neu': 0.581, 'pos': 0.206, 'compound': -0.4931},\n",
       " 288: {'neg': 0.189, 'neu': 0.568, 'pos': 0.243, 'compound': 0.9369},\n",
       " 289: {'neg': 0.248, 'neu': 0.547, 'pos': 0.205, 'compound': -0.9108},\n",
       " 290: {'neg': 0.0, 'neu': 0.776, 'pos': 0.224, 'compound': 0.3818},\n",
       " 291: {'neg': 0.467, 'neu': 0.533, 'pos': 0.0, 'compound': -0.5423},\n",
       " 292: {'neg': 0.164, 'neu': 0.587, 'pos': 0.249, 'compound': 0.6858},\n",
       " 293: {'neg': 0.272, 'neu': 0.59, 'pos': 0.137, 'compound': -0.8117},\n",
       " 294: {'neg': 0.0, 'neu': 1.0, 'pos': 0.0, 'compound': 0.0},\n",
       " 295: {'neg': 0.209, 'neu': 0.626, 'pos': 0.165, 'compound': -0.743},\n",
       " 296: {'neg': 0.352, 'neu': 0.545, 'pos': 0.104, 'compound': -0.9915},\n",
       " 297: {'neg': 0.206, 'neu': 0.579, 'pos': 0.215, 'compound': 0.3182},\n",
       " 298: {'neg': 0.316, 'neu': 0.652, 'pos': 0.033, 'compound': -0.9476},\n",
       " 299: {'neg': 0.366, 'neu': 0.505, 'pos': 0.129, 'compound': -0.9981},\n",
       " 300: {'neg': 0.282, 'neu': 0.625, 'pos': 0.093, 'compound': -0.9583},\n",
       " 301: {'neg': 0.325, 'neu': 0.343, 'pos': 0.332, 'compound': -0.5423},\n",
       " 302: {'neg': 0.342, 'neu': 0.579, 'pos': 0.08, 'compound': -0.9368},\n",
       " 303: {'neg': 0.324, 'neu': 0.619, 'pos': 0.057, 'compound': -0.9873},\n",
       " 304: {'neg': 0.158, 'neu': 0.738, 'pos': 0.105, 'compound': -0.6956},\n",
       " 305: {'neg': 0.0, 'neu': 0.432, 'pos': 0.568, 'compound': 0.7632},\n",
       " 306: {'neg': 0.039, 'neu': 0.889, 'pos': 0.072, 'compound': 0.296},\n",
       " 307: {'neg': 0.085, 'neu': 0.758, 'pos': 0.158, 'compound': 0.34},\n",
       " 308: {'neg': 0.197, 'neu': 0.653, 'pos': 0.151, 'compound': -0.4336},\n",
       " 309: {'neg': 0.634, 'neu': 0.366, 'pos': 0.0, 'compound': -0.9022},\n",
       " 310: {'neg': 0.114, 'neu': 0.668, 'pos': 0.217, 'compound': 0.7968},\n",
       " 311: {'neg': 0.199, 'neu': 0.617, 'pos': 0.184, 'compound': -0.7722},\n",
       " 312: {'neg': 0.439, 'neu': 0.561, 'pos': 0.0, 'compound': -0.6908},\n",
       " 313: {'neg': 0.09, 'neu': 0.574, 'pos': 0.336, 'compound': 0.9674},\n",
       " 314: {'neg': 0.142, 'neu': 0.625, 'pos': 0.232, 'compound': 0.8777},\n",
       " 315: {'neg': 0.207, 'neu': 0.61, 'pos': 0.183, 'compound': -0.8173},\n",
       " 316: {'neg': 0.347, 'neu': 0.425, 'pos': 0.228, 'compound': -0.9371},\n",
       " 317: {'neg': 0.12, 'neu': 0.667, 'pos': 0.212, 'compound': 0.9129},\n",
       " 318: {'neg': 0.271, 'neu': 0.478, 'pos': 0.251, 'compound': -0.2263},\n",
       " 319: {'neg': 0.473, 'neu': 0.416, 'pos': 0.112, 'compound': -0.959},\n",
       " 320: {'neg': 0.242, 'neu': 0.73, 'pos': 0.028, 'compound': -0.9862},\n",
       " 321: {'neg': 0.14, 'neu': 0.64, 'pos': 0.22, 'compound': 0.25},\n",
       " 322: {'neg': 0.206, 'neu': 0.565, 'pos': 0.229, 'compound': 0.4767},\n",
       " 323: {'neg': 0.303, 'neu': 0.481, 'pos': 0.216, 'compound': -0.7845},\n",
       " 324: {'neg': 0.301, 'neu': 0.578, 'pos': 0.121, 'compound': -0.9612},\n",
       " 325: {'neg': 0.0, 'neu': 1.0, 'pos': 0.0, 'compound': 0.0},\n",
       " 326: {'neg': 0.363, 'neu': 0.468, 'pos': 0.169, 'compound': -0.9756},\n",
       " 327: {'neg': 0.291, 'neu': 0.531, 'pos': 0.178, 'compound': -0.9432},\n",
       " 328: {'neg': 0.302, 'neu': 0.494, 'pos': 0.204, 'compound': -0.9552},\n",
       " 329: {'neg': 0.211, 'neu': 0.659, 'pos': 0.13, 'compound': -0.6728},\n",
       " 330: {'neg': 0.239, 'neu': 0.544, 'pos': 0.218, 'compound': -0.8402},\n",
       " 331: {'neg': 0.253, 'neu': 0.507, 'pos': 0.24, 'compound': -0.6908},\n",
       " 332: {'neg': 0.146, 'neu': 0.588, 'pos': 0.267, 'compound': 0.9969},\n",
       " 333: {'neg': 0.288, 'neu': 0.531, 'pos': 0.181, 'compound': -0.9856},\n",
       " 334: {'neg': 0.178, 'neu': 0.692, 'pos': 0.13, 'compound': -0.9442},\n",
       " 335: {'neg': 0.168, 'neu': 0.568, 'pos': 0.264, 'compound': 0.9956},\n",
       " 336: {'neg': 0.204, 'neu': 0.624, 'pos': 0.172, 'compound': -0.8597},\n",
       " 337: {'neg': 0.197, 'neu': 0.625, 'pos': 0.178, 'compound': -0.7987},\n",
       " 338: {'neg': 0.302, 'neu': 0.495, 'pos': 0.203, 'compound': -0.8949},\n",
       " 339: {'neg': 0.118, 'neu': 0.618, 'pos': 0.264, 'compound': 0.9793},\n",
       " 340: {'neg': 0.264, 'neu': 0.562, 'pos': 0.174, 'compound': -0.9234},\n",
       " 341: {'neg': 0.282, 'neu': 0.427, 'pos': 0.291, 'compound': 0.6056},\n",
       " 342: {'neg': 0.209, 'neu': 0.599, 'pos': 0.192, 'compound': -0.6808},\n",
       " 343: {'neg': 0.038, 'neu': 0.802, 'pos': 0.16, 'compound': 0.7579},\n",
       " 344: {'neg': 0.265, 'neu': 0.441, 'pos': 0.294, 'compound': 0.25},\n",
       " 345: {'neg': 0.37, 'neu': 0.598, 'pos': 0.031, 'compound': -0.9852},\n",
       " 346: {'neg': 0.35, 'neu': 0.525, 'pos': 0.125, 'compound': -0.9664},\n",
       " 347: {'neg': 0.153, 'neu': 0.571, 'pos': 0.275, 'compound': 0.9209},\n",
       " 348: {'neg': 0.419, 'neu': 0.524, 'pos': 0.058, 'compound': -0.902},\n",
       " 349: {'neg': 0.275, 'neu': 0.567, 'pos': 0.158, 'compound': -0.8722},\n",
       " 350: {'neg': 0.173, 'neu': 0.471, 'pos': 0.357, 'compound': 0.9372},\n",
       " 351: {'neg': 0.331, 'neu': 0.54, 'pos': 0.129, 'compound': -0.9591},\n",
       " 352: {'neg': 0.266, 'neu': 0.436, 'pos': 0.298, 'compound': 0.4349},\n",
       " 353: {'neg': 0.41, 'neu': 0.525, 'pos': 0.064, 'compound': -0.9381},\n",
       " 354: {'neg': 0.149, 'neu': 0.716, 'pos': 0.134, 'compound': -0.4019},\n",
       " 355: {'neg': 0.255, 'neu': 0.556, 'pos': 0.19, 'compound': -0.9538},\n",
       " 356: {'neg': 0.102, 'neu': 0.502, 'pos': 0.396, 'compound': 0.9627},\n",
       " 357: {'neg': 0.274, 'neu': 0.593, 'pos': 0.134, 'compound': -0.9784},\n",
       " 358: {'neg': 0.139, 'neu': 0.707, 'pos': 0.154, 'compound': 0.0969},\n",
       " 359: {'neg': 0.195, 'neu': 0.542, 'pos': 0.262, 'compound': 0.6249},\n",
       " 360: {'neg': 0.0, 'neu': 0.714, 'pos': 0.286, 'compound': 0.5859},\n",
       " 361: {'neg': 0.157, 'neu': 0.606, 'pos': 0.237, 'compound': 0.9395},\n",
       " 362: {'neg': 0.38, 'neu': 0.459, 'pos': 0.161, 'compound': -0.9849},\n",
       " 363: {'neg': 0.142, 'neu': 0.669, 'pos': 0.189, 'compound': 0.9457},\n",
       " 364: {'neg': 0.35, 'neu': 0.49, 'pos': 0.16, 'compound': -0.9623},\n",
       " 365: {'neg': 0.339, 'neu': 0.516, 'pos': 0.145, 'compound': -0.9888},\n",
       " 366: {'neg': 0.0, 'neu': 0.845, 'pos': 0.155, 'compound': 0.0258},\n",
       " 367: {'neg': 0.312, 'neu': 0.503, 'pos': 0.185, 'compound': -0.9497},\n",
       " 368: {'neg': 0.889, 'neu': 0.076, 'pos': 0.034, 'compound': -0.9968},\n",
       " 369: {'neg': 0.412, 'neu': 0.418, 'pos': 0.17, 'compound': -0.9109},\n",
       " 370: {'neg': 0.145, 'neu': 0.538, 'pos': 0.317, 'compound': 0.9084},\n",
       " 371: {'neg': 0.189, 'neu': 0.811, 'pos': 0.0, 'compound': -0.4215},\n",
       " 372: {'neg': 0.064, 'neu': 0.769, 'pos': 0.167, 'compound': 0.9719},\n",
       " 373: {'neg': 0.258, 'neu': 0.602, 'pos': 0.14, 'compound': -0.908},\n",
       " 374: {'neg': 0.324, 'neu': 0.552, 'pos': 0.124, 'compound': -0.9952},\n",
       " 375: {'neg': 0.24, 'neu': 0.474, 'pos': 0.286, 'compound': 0.7458},\n",
       " 376: {'neg': 0.279, 'neu': 0.633, 'pos': 0.088, 'compound': -0.8555},\n",
       " 377: {'neg': 0.226, 'neu': 0.611, 'pos': 0.162, 'compound': -0.8655},\n",
       " 378: {'neg': 0.11, 'neu': 0.89, 'pos': 0.0, 'compound': -0.7717},\n",
       " 379: {'neg': 0.164, 'neu': 0.53, 'pos': 0.307, 'compound': 0.974},\n",
       " 380: {'neg': 0.039, 'neu': 0.706, 'pos': 0.255, 'compound': 0.9536},\n",
       " 381: {'neg': 0.26, 'neu': 0.569, 'pos': 0.171, 'compound': -0.9756},\n",
       " 382: {'neg': 0.116, 'neu': 0.795, 'pos': 0.089, 'compound': -0.0516},\n",
       " 383: {'neg': 0.22, 'neu': 0.68, 'pos': 0.099, 'compound': -0.9602},\n",
       " 384: {'neg': 0.249, 'neu': 0.412, 'pos': 0.34, 'compound': 0.5267},\n",
       " 385: {'neg': 0.196, 'neu': 0.581, 'pos': 0.224, 'compound': 0.5381},\n",
       " 386: {'neg': 0.388, 'neu': 0.532, 'pos': 0.08, 'compound': -0.9867},\n",
       " 387: {'neg': 0.397, 'neu': 0.576, 'pos': 0.027, 'compound': -0.9723},\n",
       " 388: {'neg': 0.35, 'neu': 0.574, 'pos': 0.076, 'compound': -0.9833},\n",
       " 389: {'neg': 0.0, 'neu': 0.775, 'pos': 0.225, 'compound': 0.4404},\n",
       " 390: {'neg': 0.081, 'neu': 0.792, 'pos': 0.127, 'compound': 0.7037},\n",
       " 391: {'neg': 0.288, 'neu': 0.541, 'pos': 0.171, 'compound': -0.838},\n",
       " 392: {'neg': 0.153, 'neu': 0.673, 'pos': 0.174, 'compound': 0.4033},\n",
       " 393: {'neg': 0.241, 'neu': 0.541, 'pos': 0.218, 'compound': -0.8273},\n",
       " 394: {'neg': 0.216, 'neu': 0.624, 'pos': 0.16, 'compound': -0.9639},\n",
       " 395: {'neg': 0.378, 'neu': 0.499, 'pos': 0.123, 'compound': -0.9985},\n",
       " 396: {'neg': 0.331, 'neu': 0.567, 'pos': 0.102, 'compound': -0.9662},\n",
       " 397: {'neg': 0.196, 'neu': 0.579, 'pos': 0.225, 'compound': 0.9693},\n",
       " 398: {'neg': 0.393, 'neu': 0.476, 'pos': 0.132, 'compound': -0.9882},\n",
       " 399: {'neg': 0.255, 'neu': 0.673, 'pos': 0.072, 'compound': -0.886},\n",
       " 400: {'neg': 0.169, 'neu': 0.605, 'pos': 0.226, 'compound': 0.4939},\n",
       " 401: {'neg': 0.356, 'neu': 0.505, 'pos': 0.139, 'compound': -0.9482},\n",
       " 402: {'neg': 0.419, 'neu': 0.399, 'pos': 0.183, 'compound': -0.9348},\n",
       " 403: {'neg': 0.365, 'neu': 0.49, 'pos': 0.145, 'compound': -0.9844},\n",
       " 404: {'neg': 0.223, 'neu': 0.777, 'pos': 0.0, 'compound': -0.3182},\n",
       " 405: {'neg': 0.236, 'neu': 0.563, 'pos': 0.201, 'compound': -0.5707},\n",
       " 406: {'neg': 0.132, 'neu': 0.596, 'pos': 0.272, 'compound': 0.8957},\n",
       " 407: {'neg': 0.191, 'neu': 0.653, 'pos': 0.155, 'compound': -0.5324},\n",
       " 408: {'neg': 0.251, 'neu': 0.549, 'pos': 0.199, 'compound': -0.83},\n",
       " 409: {'neg': 0.373, 'neu': 0.556, 'pos': 0.07, 'compound': -0.9623},\n",
       " 410: {'neg': 0.232, 'neu': 0.52, 'pos': 0.248, 'compound': 0.128},\n",
       " 411: {'neg': 0.263, 'neu': 0.526, 'pos': 0.211, 'compound': -0.5423},\n",
       " 412: {'neg': 0.326, 'neu': 0.674, 'pos': 0.0, 'compound': -0.9766},\n",
       " 413: {'neg': 0.1, 'neu': 0.608, 'pos': 0.292, 'compound': 0.9683},\n",
       " 414: {'neg': 0.0, 'neu': 0.871, 'pos': 0.129, 'compound': 0.9231},\n",
       " 415: {'neg': 0.293, 'neu': 0.499, 'pos': 0.207, 'compound': -0.8204},\n",
       " 416: {'neg': 0.343, 'neu': 0.594, 'pos': 0.063, 'compound': -0.9201},\n",
       " 417: {'neg': 0.137, 'neu': 0.665, 'pos': 0.198, 'compound': 0.8271},\n",
       " 418: {'neg': 0.32, 'neu': 0.491, 'pos': 0.189, 'compound': -0.9186},\n",
       " 419: {'neg': 0.091, 'neu': 0.823, 'pos': 0.087, 'compound': -0.6712},\n",
       " 420: {'neg': 0.221, 'neu': 0.601, 'pos': 0.179, 'compound': -0.9545},\n",
       " 421: {'neg': 0.3, 'neu': 0.523, 'pos': 0.176, 'compound': -0.9969},\n",
       " 422: {'neg': 0.176, 'neu': 0.685, 'pos': 0.139, 'compound': -0.8334},\n",
       " 423: {'neg': 0.37, 'neu': 0.583, 'pos': 0.047, 'compound': -0.9919},\n",
       " 424: {'neg': 0.33, 'neu': 0.509, 'pos': 0.161, 'compound': -0.8509},\n",
       " 425: {'neg': 0.343, 'neu': 0.507, 'pos': 0.151, 'compound': -0.9929},\n",
       " 426: {'neg': 0.129, 'neu': 0.748, 'pos': 0.123, 'compound': -0.2675},\n",
       " 427: {'neg': 0.201, 'neu': 0.601, 'pos': 0.199, 'compound': -0.5691},\n",
       " 428: {'neg': 0.18, 'neu': 0.583, 'pos': 0.237, 'compound': 0.7717},\n",
       " 429: {'neg': 0.259, 'neu': 0.673, 'pos': 0.068, 'compound': -0.9642},\n",
       " 430: {'neg': 0.238, 'neu': 0.762, 'pos': 0.0, 'compound': -0.8519},\n",
       " 431: {'neg': 0.309, 'neu': 0.436, 'pos': 0.255, 'compound': -0.9364},\n",
       " 432: {'neg': 0.08, 'neu': 0.683, 'pos': 0.237, 'compound': 0.5994},\n",
       " 433: {'neg': 0.261, 'neu': 0.616, 'pos': 0.123, 'compound': -0.9643},\n",
       " 434: {'neg': 0.348, 'neu': 0.36, 'pos': 0.292, 'compound': -0.872},\n",
       " 435: {'neg': 0.263, 'neu': 0.53, 'pos': 0.207, 'compound': -0.7893},\n",
       " 436: {'neg': 0.0, 'neu': 0.679, 'pos': 0.321, 'compound': 0.9735},\n",
       " 437: {'neg': 0.218, 'neu': 0.63, 'pos': 0.152, 'compound': -0.9571},\n",
       " 438: {'neg': 0.13, 'neu': 0.841, 'pos': 0.029, 'compound': -0.743},\n",
       " 439: {'neg': 0.191, 'neu': 0.502, 'pos': 0.307, 'compound': 0.9469},\n",
       " 440: {'neg': 0.342, 'neu': 0.494, 'pos': 0.164, 'compound': -0.9423},\n",
       " 441: {'neg': 0.132, 'neu': 0.691, 'pos': 0.177, 'compound': 0.2732},\n",
       " 442: {'neg': 0.379, 'neu': 0.527, 'pos': 0.093, 'compound': -0.9899},\n",
       " 443: {'neg': 0.362, 'neu': 0.391, 'pos': 0.247, 'compound': -0.8241},\n",
       " 444: {'neg': 0.13, 'neu': 0.782, 'pos': 0.087, 'compound': -0.5859},\n",
       " 445: {'neg': 0.208, 'neu': 0.496, 'pos': 0.296, 'compound': 0.9231},\n",
       " 446: {'neg': 0.0, 'neu': 0.637, 'pos': 0.363, 'compound': 0.8126},\n",
       " 447: {'neg': 0.266, 'neu': 0.562, 'pos': 0.173, 'compound': -0.8864},\n",
       " 448: {'neg': 0.142, 'neu': 0.575, 'pos': 0.282, 'compound': 0.9136},\n",
       " 449: {'neg': 0.089, 'neu': 0.712, 'pos': 0.2, 'compound': 0.6597},\n",
       " 450: {'neg': 0.189, 'neu': 0.661, 'pos': 0.15, 'compound': -0.8756},\n",
       " 451: {'neg': 0.47, 'neu': 0.303, 'pos': 0.227, 'compound': -0.6369},\n",
       " 452: {'neg': 0.34, 'neu': 0.66, 'pos': 0.0, 'compound': -0.8834},\n",
       " 453: {'neg': 0.289, 'neu': 0.525, 'pos': 0.186, 'compound': -0.9101},\n",
       " 454: {'neg': 0.193, 'neu': 0.596, 'pos': 0.211, 'compound': 0.4404},\n",
       " 455: {'neg': 0.297, 'neu': 0.606, 'pos': 0.097, 'compound': -0.9806},\n",
       " 456: {'neg': 0.311, 'neu': 0.484, 'pos': 0.205, 'compound': -0.9628},\n",
       " 457: {'neg': 0.497, 'neu': 0.481, 'pos': 0.022, 'compound': -0.9937},\n",
       " 458: {'neg': 0.099, 'neu': 0.736, 'pos': 0.164, 'compound': 0.6922},\n",
       " 459: {'neg': 0.215, 'neu': 0.639, 'pos': 0.146, 'compound': -0.8555},\n",
       " 460: {'neg': 0.272, 'neu': 0.404, 'pos': 0.325, 'compound': 0.4588},\n",
       " 461: {'neg': 0.185, 'neu': 0.685, 'pos': 0.13, 'compound': -0.2023},\n",
       " 462: {'neg': 0.0, 'neu': 0.957, 'pos': 0.043, 'compound': 0.0516},\n",
       " 463: {'neg': 0.644, 'neu': 0.258, 'pos': 0.098, 'compound': -0.8159},\n",
       " 464: {'neg': 0.414, 'neu': 0.443, 'pos': 0.143, 'compound': -0.9984},\n",
       " 465: {'neg': 0.103, 'neu': 0.778, 'pos': 0.118, 'compound': 0.6369},\n",
       " 466: {'neg': 0.55, 'neu': 0.45, 'pos': 0.0, 'compound': -0.7269},\n",
       " 467: {'neg': 0.193, 'neu': 0.52, 'pos': 0.287, 'compound': 0.9372},\n",
       " 468: {'neg': 0.252, 'neu': 0.567, 'pos': 0.181, 'compound': -0.7184},\n",
       " 469: {'neg': 0.25, 'neu': 0.649, 'pos': 0.101, 'compound': -0.9965},\n",
       " 470: {'neg': 0.15, 'neu': 0.705, 'pos': 0.145, 'compound': -0.0516},\n",
       " 471: {'neg': 0.206, 'neu': 0.572, 'pos': 0.222, 'compound': 0.2433},\n",
       " 472: {'neg': 0.498, 'neu': 0.45, 'pos': 0.052, 'compound': -0.9934},\n",
       " 473: {'neg': 0.345, 'neu': 0.54, 'pos': 0.115, 'compound': -0.9955},\n",
       " 474: {'neg': 0.279, 'neu': 0.63, 'pos': 0.091, 'compound': -0.9876},\n",
       " 475: {'neg': 0.238, 'neu': 0.612, 'pos': 0.15, 'compound': -0.985},\n",
       " 476: {'neg': 0.242, 'neu': 0.582, 'pos': 0.177, 'compound': -0.9648},\n",
       " 477: {'neg': 0.147, 'neu': 0.64, 'pos': 0.213, 'compound': 0.778},\n",
       " 478: {'neg': 0.238, 'neu': 0.643, 'pos': 0.119, 'compound': -0.9977},\n",
       " 479: {'neg': 0.593, 'neu': 0.304, 'pos': 0.103, 'compound': -0.9169},\n",
       " 480: {'neg': 0.1, 'neu': 0.691, 'pos': 0.209, 'compound': 0.9508},\n",
       " 481: {'neg': 0.163, 'neu': 0.661, 'pos': 0.177, 'compound': 0.6142},\n",
       " 482: {'neg': 0.0, 'neu': 0.711, 'pos': 0.289, 'compound': 0.9349},\n",
       " 483: {'neg': 0.221, 'neu': 0.634, 'pos': 0.145, 'compound': -0.9573},\n",
       " 484: {'neg': 0.451, 'neu': 0.378, 'pos': 0.17, 'compound': -0.9961},\n",
       " 485: {'neg': 0.112, 'neu': 0.618, 'pos': 0.27, 'compound': 0.8374},\n",
       " 486: {'neg': 0.171, 'neu': 0.476, 'pos': 0.353, 'compound': 0.9081},\n",
       " 487: {'neg': 0.312, 'neu': 0.551, 'pos': 0.136, 'compound': -0.9855},\n",
       " 488: {'neg': 0.1, 'neu': 0.691, 'pos': 0.209, 'compound': 0.9508},\n",
       " 489: {'neg': 0.646, 'neu': 0.354, 'pos': 0.0, 'compound': -0.9859},\n",
       " 490: {'neg': 0.16, 'neu': 0.683, 'pos': 0.157, 'compound': -0.3222},\n",
       " 491: {'neg': 0.312, 'neu': 0.514, 'pos': 0.175, 'compound': -0.9875},\n",
       " 492: {'neg': 0.196, 'neu': 0.67, 'pos': 0.134, 'compound': -0.9362},\n",
       " 493: {'neg': 0.173, 'neu': 0.648, 'pos': 0.179, 'compound': -0.743},\n",
       " 494: {'neg': 0.323, 'neu': 0.5, 'pos': 0.177, 'compound': -0.9917},\n",
       " 495: {'neg': 0.283, 'neu': 0.537, 'pos': 0.18, 'compound': -0.9632},\n",
       " 496: {'neg': 0.423, 'neu': 0.499, 'pos': 0.078, 'compound': -0.9904},\n",
       " 497: {'neg': 0.255, 'neu': 0.541, 'pos': 0.204, 'compound': -0.9008},\n",
       " 498: {'neg': 0.043, 'neu': 0.726, 'pos': 0.231, 'compound': 0.9357},\n",
       " 499: {'neg': 0.552, 'neu': 0.271, 'pos': 0.176, 'compound': -0.9792},\n",
       " 500: {'neg': 0.2, 'neu': 0.663, 'pos': 0.137, 'compound': -0.9545},\n",
       " 501: {'neg': 0.202, 'neu': 0.696, 'pos': 0.102, 'compound': -0.9217},\n",
       " 502: {'neg': 0.245, 'neu': 0.755, 'pos': 0.0, 'compound': -0.6369},\n",
       " 503: {'neg': 0.333, 'neu': 0.561, 'pos': 0.106, 'compound': -0.969},\n",
       " 504: {'neg': 0.199, 'neu': 0.68, 'pos': 0.121, 'compound': -0.9736},\n",
       " 505: {'neg': 0.255, 'neu': 0.623, 'pos': 0.122, 'compound': -0.9638},\n",
       " 506: {'neg': 0.263, 'neu': 0.678, 'pos': 0.059, 'compound': -0.8519},\n",
       " 507: {'neg': 0.164, 'neu': 0.686, 'pos': 0.151, 'compound': -0.1876},\n",
       " 508: {'neg': 0.239, 'neu': 0.602, 'pos': 0.159, 'compound': -0.5719},\n",
       " 509: {'neg': 0.295, 'neu': 0.583, 'pos': 0.121, 'compound': -0.9701},\n",
       " 510: {'neg': 0.263, 'neu': 0.428, 'pos': 0.309, 'compound': 0.5574},\n",
       " 511: {'neg': 0.488, 'neu': 0.424, 'pos': 0.088, 'compound': -0.9217},\n",
       " 512: {'neg': 0.236, 'neu': 0.612, 'pos': 0.152, 'compound': -0.9792},\n",
       " 513: {'neg': 0.292, 'neu': 0.644, 'pos': 0.064, 'compound': -0.872},\n",
       " 514: {'neg': 0.105, 'neu': 0.509, 'pos': 0.386, 'compound': 0.9601},\n",
       " 515: {'neg': 0.306, 'neu': 0.524, 'pos': 0.17, 'compound': -0.2732},\n",
       " 516: {'neg': 0.297, 'neu': 0.656, 'pos': 0.048, 'compound': -0.9493},\n",
       " 517: {'neg': 0.19, 'neu': 0.628, 'pos': 0.182, 'compound': -0.1779},\n",
       " 518: {'neg': 0.181, 'neu': 0.66, 'pos': 0.16, 'compound': -0.4939},\n",
       " 519: {'neg': 0.203, 'neu': 0.605, 'pos': 0.192, 'compound': -0.0538},\n",
       " 520: {'neg': 0.265, 'neu': 0.601, 'pos': 0.134, 'compound': -0.9898},\n",
       " 521: {'neg': 0.375, 'neu': 0.505, 'pos': 0.12, 'compound': -0.9893},\n",
       " 522: {'neg': 0.147, 'neu': 0.674, 'pos': 0.179, 'compound': 0.4767},\n",
       " 523: {'neg': 0.235, 'neu': 0.691, 'pos': 0.074, 'compound': -0.9855},\n",
       " 524: {'neg': 0.332, 'neu': 0.418, 'pos': 0.25, 'compound': -0.9514},\n",
       " 525: {'neg': 0.116, 'neu': 0.735, 'pos': 0.149, 'compound': 0.2023},\n",
       " 526: {'neg': 0.256, 'neu': 0.611, 'pos': 0.133, 'compound': -0.9897},\n",
       " 527: {'neg': 0.077, 'neu': 0.566, 'pos': 0.357, 'compound': 0.9946},\n",
       " 528: {'neg': 0.0, 'neu': 0.768, 'pos': 0.232, 'compound': 0.497},\n",
       " 529: {'neg': 0.038, 'neu': 0.651, 'pos': 0.311, 'compound': 0.9958},\n",
       " 530: {'neg': 0.113, 'neu': 0.887, 'pos': 0.0, 'compound': -0.3182},\n",
       " 531: {'neg': 0.12, 'neu': 0.723, 'pos': 0.157, 'compound': -0.0258},\n",
       " 532: {'neg': 0.123, 'neu': 0.629, 'pos': 0.248, 'compound': 0.967},\n",
       " 533: {'neg': 0.276, 'neu': 0.532, 'pos': 0.192, 'compound': -0.8299},\n",
       " 534: {'neg': 0.186, 'neu': 0.655, 'pos': 0.159, 'compound': -0.651},\n",
       " 535: {'neg': 0.084, 'neu': 0.649, 'pos': 0.268, 'compound': 0.9974},\n",
       " 536: {'neg': 0.047, 'neu': 0.815, 'pos': 0.138, 'compound': 0.8622},\n",
       " 537: {'neg': 0.164, 'neu': 0.625, 'pos': 0.211, 'compound': 0.1531},\n",
       " 538: {'neg': 0.513, 'neu': 0.341, 'pos': 0.146, 'compound': -0.8963},\n",
       " 539: {'neg': 0.107, 'neu': 0.813, 'pos': 0.079, 'compound': -0.3008},\n",
       " 540: {'neg': 0.221, 'neu': 0.664, 'pos': 0.115, 'compound': -0.9236},\n",
       " 541: {'neg': 0.242, 'neu': 0.668, 'pos': 0.09, 'compound': -0.9912},\n",
       " 542: {'neg': 0.076, 'neu': 0.637, 'pos': 0.287, 'compound': 0.9533},\n",
       " 543: {'neg': 0.27, 'neu': 0.549, 'pos': 0.181, 'compound': -0.7152},\n",
       " 544: {'neg': 0.265, 'neu': 0.367, 'pos': 0.369, 'compound': 0.5451},\n",
       " 545: {'neg': 0.212, 'neu': 0.657, 'pos': 0.131, 'compound': -0.7579},\n",
       " 546: {'neg': 0.187, 'neu': 0.621, 'pos': 0.192, 'compound': 0.2944},\n",
       " 547: {'neg': 0.194, 'neu': 0.758, 'pos': 0.047, 'compound': -0.9008},\n",
       " 548: {'neg': 0.278, 'neu': 0.685, 'pos': 0.038, 'compound': -0.964},\n",
       " 549: {'neg': 0.174, 'neu': 0.59, 'pos': 0.236, 'compound': 0.7724},\n",
       " 550: {'neg': 0.247, 'neu': 0.586, 'pos': 0.167, 'compound': -0.9548},\n",
       " 551: {'neg': 0.083, 'neu': 0.595, 'pos': 0.321, 'compound': 0.7906},\n",
       " 552: {'neg': 0.164, 'neu': 0.618, 'pos': 0.217, 'compound': 0.9595},\n",
       " 553: {'neg': 0.262, 'neu': 0.575, 'pos': 0.163, 'compound': -0.6705},\n",
       " 554: {'neg': 0.212, 'neu': 0.429, 'pos': 0.358, 'compound': 0.9312},\n",
       " 555: {'neg': 0.253, 'neu': 0.591, 'pos': 0.156, 'compound': -0.983},\n",
       " 556: {'neg': 0.249, 'neu': 0.301, 'pos': 0.449, 'compound': 0.8519},\n",
       " 557: {'neg': 0.268, 'neu': 0.608, 'pos': 0.124, 'compound': -0.8816},\n",
       " 558: {'neg': 0.083, 'neu': 0.643, 'pos': 0.274, 'compound': 0.9942},\n",
       " 559: {'neg': 0.179, 'neu': 0.654, 'pos': 0.167, 'compound': -0.2298},\n",
       " 560: {'neg': 0.094, 'neu': 0.648, 'pos': 0.258, 'compound': 0.9785},\n",
       " 561: {'neg': 0.209, 'neu': 0.558, 'pos': 0.234, 'compound': 0.5411},\n",
       " 562: {'neg': 0.638, 'neu': 0.268, 'pos': 0.094, 'compound': -0.9042},\n",
       " 563: {'neg': 0.362, 'neu': 0.502, 'pos': 0.137, 'compound': -0.9821},\n",
       " 564: {'neg': 0.225, 'neu': 0.639, 'pos': 0.136, 'compound': -0.9619},\n",
       " 565: {'neg': 0.247, 'neu': 0.656, 'pos': 0.098, 'compound': -0.9805},\n",
       " 566: {'neg': 0.138, 'neu': 0.687, 'pos': 0.175, 'compound': 0.8889},\n",
       " 567: {'neg': 0.339, 'neu': 0.536, 'pos': 0.125, 'compound': -0.9682},\n",
       " 568: {'neg': 0.093, 'neu': 0.634, 'pos': 0.274, 'compound': 0.8658},\n",
       " 569: {'neg': 0.167, 'neu': 0.637, 'pos': 0.197, 'compound': 0.9485},\n",
       " 570: {'neg': 0.45, 'neu': 0.424, 'pos': 0.126, 'compound': -0.942},\n",
       " 571: {'neg': 0.19, 'neu': 0.653, 'pos': 0.157, 'compound': -0.2263},\n",
       " 572: {'neg': 0.469, 'neu': 0.402, 'pos': 0.129, 'compound': -0.765},\n",
       " 573: {'neg': 0.297, 'neu': 0.515, 'pos': 0.188, 'compound': -0.9359},\n",
       " 574: {'neg': 0.148, 'neu': 0.385, 'pos': 0.467, 'compound': 0.9439},\n",
       " 575: {'neg': 0.255, 'neu': 0.669, 'pos': 0.076, 'compound': -0.9929},\n",
       " 576: {'neg': 0.152, 'neu': 0.643, 'pos': 0.204, 'compound': 0.296},\n",
       " 577: {'neg': 0.25, 'neu': 0.494, 'pos': 0.256, 'compound': -0.2896},\n",
       " 578: {'neg': 0.792, 'neu': 0.208, 'pos': 0.0, 'compound': -0.8225},\n",
       " 579: {'neg': 0.262, 'neu': 0.671, 'pos': 0.068, 'compound': -0.9786},\n",
       " 580: {'neg': 0.246, 'neu': 0.57, 'pos': 0.183, 'compound': -0.959},\n",
       " 581: {'neg': 0.395, 'neu': 0.418, 'pos': 0.187, 'compound': -0.9957},\n",
       " 582: {'neg': 0.218, 'neu': 0.616, 'pos': 0.167, 'compound': -0.9545},\n",
       " 583: {'neg': 0.229, 'neu': 0.594, 'pos': 0.177, 'compound': -0.932},\n",
       " 584: {'neg': 0.401, 'neu': 0.599, 'pos': 0.0, 'compound': -0.9242},\n",
       " 585: {'neg': 0.235, 'neu': 0.498, 'pos': 0.266, 'compound': 0.9335},\n",
       " 586: {'neg': 0.216, 'neu': 0.623, 'pos': 0.161, 'compound': -0.8357},\n",
       " 587: {'neg': 0.271, 'neu': 0.562, 'pos': 0.167, 'compound': -0.9874},\n",
       " 588: {'neg': 0.168, 'neu': 0.799, 'pos': 0.033, 'compound': -0.9643},\n",
       " 589: {'neg': 0.215, 'neu': 0.612, 'pos': 0.174, 'compound': -0.5106},\n",
       " 590: {'neg': 0.318, 'neu': 0.5, 'pos': 0.182, 'compound': -0.9192},\n",
       " 591: {'neg': 0.397, 'neu': 0.452, 'pos': 0.151, 'compound': -0.9716},\n",
       " 592: {'neg': 0.238, 'neu': 0.613, 'pos': 0.15, 'compound': -0.996},\n",
       " 593: {'neg': 0.248, 'neu': 0.55, 'pos': 0.202, 'compound': -0.8905},\n",
       " 594: {'neg': 0.355, 'neu': 0.483, 'pos': 0.162, 'compound': -0.9601},\n",
       " 595: {'neg': 0.2, 'neu': 0.635, 'pos': 0.165, 'compound': -0.8456},\n",
       " 596: {'neg': 0.166, 'neu': 0.579, 'pos': 0.254, 'compound': 0.765},\n",
       " 597: {'neg': 0.285, 'neu': 0.546, 'pos': 0.169, 'compound': -0.9871},\n",
       " 598: {'neg': 0.295, 'neu': 0.58, 'pos': 0.125, 'compound': -0.8046},\n",
       " 599: {'neg': 0.312, 'neu': 0.466, 'pos': 0.222, 'compound': -0.6486},\n",
       " 600: {'neg': 0.539, 'neu': 0.446, 'pos': 0.016, 'compound': -0.9944},\n",
       " 601: {'neg': 0.2, 'neu': 0.695, 'pos': 0.105, 'compound': -0.9977},\n",
       " 602: {'neg': 0.336, 'neu': 0.531, 'pos': 0.133, 'compound': -0.9806},\n",
       " 603: {'neg': 0.254, 'neu': 0.584, 'pos': 0.162, 'compound': -0.8886},\n",
       " 604: {'neg': 0.29, 'neu': 0.71, 'pos': 0.0, 'compound': -0.6705},\n",
       " 605: {'neg': 0.259, 'neu': 0.572, 'pos': 0.169, 'compound': -0.9402},\n",
       " 606: {'neg': 0.325, 'neu': 0.465, 'pos': 0.21, 'compound': -0.8807},\n",
       " 607: {'neg': 0.279, 'neu': 0.64, 'pos': 0.081, 'compound': -0.9565},\n",
       " 608: {'neg': 0.786, 'neu': 0.214, 'pos': 0.0, 'compound': -0.9001},\n",
       " 609: {'neg': 0.223, 'neu': 0.495, 'pos': 0.282, 'compound': 0.9213},\n",
       " 610: {'neg': 0.116, 'neu': 0.661, 'pos': 0.223, 'compound': 0.9758},\n",
       " 611: {'neg': 0.157, 'neu': 0.694, 'pos': 0.148, 'compound': -0.3876},\n",
       " 612: {'neg': 0.15, 'neu': 0.694, 'pos': 0.156, 'compound': 0.1675},\n",
       " 613: {'neg': 0.436, 'neu': 0.418, 'pos': 0.145, 'compound': -0.9545},\n",
       " 614: {'neg': 0.219, 'neu': 0.522, 'pos': 0.259, 'compound': 0.9081},\n",
       " 615: {'neg': 0.286, 'neu': 0.556, 'pos': 0.158, 'compound': -0.9231},\n",
       " 616: {'neg': 0.154, 'neu': 0.648, 'pos': 0.199, 'compound': 0.8397},\n",
       " 617: {'neg': 0.16, 'neu': 0.569, 'pos': 0.271, 'compound': 0.8658},\n",
       " 618: {'neg': 0.285, 'neu': 0.56, 'pos': 0.155, 'compound': -0.4531},\n",
       " 619: {'neg': 0.152, 'neu': 0.713, 'pos': 0.135, 'compound': -0.296},\n",
       " 620: {'neg': 0.231, 'neu': 0.385, 'pos': 0.385, 'compound': 0.7506},\n",
       " 621: {'neg': 0.231, 'neu': 0.385, 'pos': 0.385, 'compound': 0.7506},\n",
       " 622: {'neg': 0.113, 'neu': 0.623, 'pos': 0.264, 'compound': 0.93},\n",
       " 623: {'neg': 0.0, 'neu': 0.701, 'pos': 0.299, 'compound': 0.8316},\n",
       " 624: {'neg': 0.109, 'neu': 0.566, 'pos': 0.324, 'compound': 0.875},\n",
       " 625: {'neg': 0.21, 'neu': 0.414, 'pos': 0.376, 'compound': 0.6369},\n",
       " 626: {'neg': 0.548, 'neu': 0.192, 'pos': 0.261, 'compound': -0.7579},\n",
       " 627: {'neg': 0.335, 'neu': 0.613, 'pos': 0.052, 'compound': -0.9905},\n",
       " 628: {'neg': 0.279, 'neu': 0.569, 'pos': 0.152, 'compound': -0.9888},\n",
       " 629: {'neg': 0.059, 'neu': 0.569, 'pos': 0.372, 'compound': 0.9936},\n",
       " 630: {'neg': 0.241, 'neu': 0.717, 'pos': 0.042, 'compound': -0.9647},\n",
       " 631: {'neg': 0.241, 'neu': 0.717, 'pos': 0.042, 'compound': -0.9647},\n",
       " 632: {'neg': 0.12, 'neu': 0.628, 'pos': 0.251, 'compound': 0.8699},\n",
       " 633: {'neg': 0.409, 'neu': 0.545, 'pos': 0.046, 'compound': -0.9923},\n",
       " 634: {'neg': 0.15, 'neu': 0.696, 'pos': 0.154, 'compound': 0.34},\n",
       " 635: {'neg': 0.348, 'neu': 0.455, 'pos': 0.198, 'compound': -0.6808},\n",
       " 636: {'neg': 0.2, 'neu': 0.615, 'pos': 0.186, 'compound': -0.4939},\n",
       " 637: {'neg': 0.131, 'neu': 0.869, 'pos': 0.0, 'compound': -0.8316},\n",
       " 638: {'neg': 0.27, 'neu': 0.522, 'pos': 0.209, 'compound': -0.9063},\n",
       " 639: {'neg': 0.244, 'neu': 0.663, 'pos': 0.092, 'compound': -0.9838},\n",
       " 640: {'neg': 0.14, 'neu': 0.605, 'pos': 0.255, 'compound': 0.9917},\n",
       " 641: {'neg': 0.0, 'neu': 0.554, 'pos': 0.446, 'compound': 0.7932},\n",
       " 642: {'neg': 0.102, 'neu': 0.818, 'pos': 0.08, 'compound': 0.0355},\n",
       " 643: {'neg': 0.113, 'neu': 0.553, 'pos': 0.335, 'compound': 0.9952},\n",
       " 644: {'neg': 0.292, 'neu': 0.551, 'pos': 0.157, 'compound': -0.9493},\n",
       " 645: {'neg': 0.11, 'neu': 0.777, 'pos': 0.113, 'compound': -0.0516},\n",
       " 646: {'neg': 0.279, 'neu': 0.547, 'pos': 0.174, 'compound': -0.765},\n",
       " 647: {'neg': 0.464, 'neu': 0.352, 'pos': 0.185, 'compound': -0.9726},\n",
       " 648: {'neg': 0.349, 'neu': 0.63, 'pos': 0.021, 'compound': -0.9814},\n",
       " 649: {'neg': 0.35, 'neu': 0.476, 'pos': 0.174, 'compound': -0.9906},\n",
       " 650: {'neg': 0.138, 'neu': 0.501, 'pos': 0.361, 'compound': 0.975},\n",
       " 651: {'neg': 0.149, 'neu': 0.657, 'pos': 0.194, 'compound': 0.4767},\n",
       " 652: {'neg': 0.14, 'neu': 0.718, 'pos': 0.142, 'compound': 0.5542},\n",
       " 653: {'neg': 0.366, 'neu': 0.455, 'pos': 0.178, 'compound': -0.9924},\n",
       " 654: {'neg': 0.223, 'neu': 0.622, 'pos': 0.155, 'compound': -0.9907},\n",
       " 655: {'neg': 0.097, 'neu': 0.472, 'pos': 0.431, 'compound': 0.9753},\n",
       " 656: {'neg': 0.333, 'neu': 0.476, 'pos': 0.191, 'compound': -0.9742},\n",
       " 657: {'neg': 0.34, 'neu': 0.535, 'pos': 0.125, 'compound': -0.9996},\n",
       " 658: {'neg': 0.27, 'neu': 0.536, 'pos': 0.194, 'compound': -0.9871},\n",
       " 659: {'neg': 0.199, 'neu': 0.614, 'pos': 0.187, 'compound': -0.7478},\n",
       " 660: {'neg': 0.208, 'neu': 0.583, 'pos': 0.209, 'compound': 0.0516},\n",
       " 661: {'neg': 0.408, 'neu': 0.492, 'pos': 0.1, 'compound': -0.9877},\n",
       " 662: {'neg': 0.267, 'neu': 0.571, 'pos': 0.161, 'compound': -0.9934},\n",
       " 663: {'neg': 0.255, 'neu': 0.488, 'pos': 0.257, 'compound': 0.024},\n",
       " 664: {'neg': 0.414, 'neu': 0.407, 'pos': 0.179, 'compound': -0.9751},\n",
       " 665: {'neg': 0.246, 'neu': 0.485, 'pos': 0.269, 'compound': 0.2741},\n",
       " 666: {'neg': 0.0, 'neu': 1.0, 'pos': 0.0, 'compound': 0.0},\n",
       " 667: {'neg': 0.304, 'neu': 0.567, 'pos': 0.13, 'compound': -0.9867},\n",
       " 668: {'neg': 0.145, 'neu': 0.815, 'pos': 0.04, 'compound': -0.7456},\n",
       " 669: {'neg': 0.111, 'neu': 0.779, 'pos': 0.111, 'compound': 0.0},\n",
       " 670: {'neg': 0.201, 'neu': 0.63, 'pos': 0.169, 'compound': -0.3818},\n",
       " 671: {'neg': 0.404, 'neu': 0.538, 'pos': 0.058, 'compound': -0.9779},\n",
       " 672: {'neg': 0.0, 'neu': 0.674, 'pos': 0.326, 'compound': 0.8442},\n",
       " 673: {'neg': 0.325, 'neu': 0.531, 'pos': 0.144, 'compound': -0.9657},\n",
       " 674: {'neg': 0.225, 'neu': 0.568, 'pos': 0.208, 'compound': -0.5423},\n",
       " 675: {'neg': 0.094, 'neu': 0.472, 'pos': 0.434, 'compound': 0.7351},\n",
       " 676: {'neg': 0.08, 'neu': 0.77, 'pos': 0.15, 'compound': 0.8625},\n",
       " 677: {'neg': 0.044, 'neu': 0.614, 'pos': 0.342, 'compound': 0.9604},\n",
       " 678: {'neg': 0.196, 'neu': 0.593, 'pos': 0.212, 'compound': 0.6093},\n",
       " 679: {'neg': 0.162, 'neu': 0.678, 'pos': 0.16, 'compound': 0.2023},\n",
       " 680: {'neg': 0.266, 'neu': 0.545, 'pos': 0.188, 'compound': -0.6908},\n",
       " 681: {'neg': 0.271, 'neu': 0.639, 'pos': 0.09, 'compound': -0.8616},\n",
       " 682: {'neg': 0.306, 'neu': 0.462, 'pos': 0.231, 'compound': -0.6386},\n",
       " 683: {'neg': 0.186, 'neu': 0.755, 'pos': 0.059, 'compound': -0.6369},\n",
       " 684: {'neg': 0.253, 'neu': 0.471, 'pos': 0.276, 'compound': -0.0516},\n",
       " 685: {'neg': 0.197, 'neu': 0.672, 'pos': 0.131, 'compound': -0.9876},\n",
       " 686: {'neg': 0.24, 'neu': 0.56, 'pos': 0.199, 'compound': -0.4812},\n",
       " 687: {'neg': 0.286, 'neu': 0.714, 'pos': 0.0, 'compound': -0.5574},\n",
       " 688: {'neg': 0.312, 'neu': 0.403, 'pos': 0.285, 'compound': -0.1591},\n",
       " 689: {'neg': 0.287, 'neu': 0.495, 'pos': 0.217, 'compound': -0.7783},\n",
       " 690: {'neg': 0.052, 'neu': 0.674, 'pos': 0.274, 'compound': 0.9723},\n",
       " 691: {'neg': 0.0, 'neu': 0.729, 'pos': 0.271, 'compound': 0.8885},\n",
       " 692: {'neg': 0.29, 'neu': 0.607, 'pos': 0.103, 'compound': -0.9238},\n",
       " 693: {'neg': 0.289, 'neu': 0.575, 'pos': 0.136, 'compound': -0.9331},\n",
       " 694: {'neg': 0.136, 'neu': 0.664, 'pos': 0.2, 'compound': 0.6808},\n",
       " 695: {'neg': 0.311, 'neu': 0.498, 'pos': 0.191, 'compound': -0.8442},\n",
       " 696: {'neg': 0.167, 'neu': 0.478, 'pos': 0.355, 'compound': 0.9647},\n",
       " 697: {'neg': 0.1, 'neu': 0.642, 'pos': 0.258, 'compound': 0.9735},\n",
       " 698: {'neg': 0.294, 'neu': 0.612, 'pos': 0.094, 'compound': -0.9978},\n",
       " 699: {'neg': 0.503, 'neu': 0.423, 'pos': 0.074, 'compound': -0.9758},\n",
       " 700: {'neg': 0.172, 'neu': 0.756, 'pos': 0.071, 'compound': -0.9186},\n",
       " 701: {'neg': 0.255, 'neu': 0.577, 'pos': 0.169, 'compound': -0.9213},\n",
       " 702: {'neg': 0.434, 'neu': 0.4, 'pos': 0.165, 'compound': -0.9766},\n",
       " 703: {'neg': 0.406, 'neu': 0.406, 'pos': 0.188, 'compound': -0.7579},\n",
       " 704: {'neg': 0.273, 'neu': 0.582, 'pos': 0.146, 'compound': -0.9613},\n",
       " 705: {'neg': 0.134, 'neu': 0.533, 'pos': 0.332, 'compound': 0.9752},\n",
       " 706: {'neg': 0.148, 'neu': 0.611, 'pos': 0.241, 'compound': 0.8715},\n",
       " 707: {'neg': 0.254, 'neu': 0.541, 'pos': 0.204, 'compound': -0.8798},\n",
       " 708: {'neg': 0.228, 'neu': 0.772, 'pos': 0.0, 'compound': -0.6369},\n",
       " 709: {'neg': 0.0, 'neu': 0.604, 'pos': 0.396, 'compound': 0.8689},\n",
       " 710: {'neg': 0.487, 'neu': 0.329, 'pos': 0.184, 'compound': -0.6808},\n",
       " 711: {'neg': 0.364, 'neu': 0.533, 'pos': 0.103, 'compound': -0.7791},\n",
       " 712: {'neg': 0.153, 'neu': 0.548, 'pos': 0.299, 'compound': 0.9871},\n",
       " 713: {'neg': 0.254, 'neu': 0.44, 'pos': 0.306, 'compound': 0.4094},\n",
       " 714: {'neg': 0.234, 'neu': 0.663, 'pos': 0.102, 'compound': -0.8523},\n",
       " 715: {'neg': 0.54, 'neu': 0.282, 'pos': 0.178, 'compound': -0.9374},\n",
       " 716: {'neg': 0.192, 'neu': 0.546, 'pos': 0.262, 'compound': 0.9682},\n",
       " 717: {'neg': 0.22, 'neu': 0.464, 'pos': 0.316, 'compound': 0.8746},\n",
       " 718: {'neg': 0.307, 'neu': 0.534, 'pos': 0.159, 'compound': -0.9798},\n",
       " 719: {'neg': 0.138, 'neu': 0.64, 'pos': 0.222, 'compound': 0.7096},\n",
       " 720: {'neg': 0.343, 'neu': 0.597, 'pos': 0.06, 'compound': -0.9921},\n",
       " 721: {'neg': 0.26, 'neu': 0.678, 'pos': 0.062, 'compound': -0.743},\n",
       " 722: {'neg': 0.212, 'neu': 0.788, 'pos': 0.0, 'compound': -0.5423},\n",
       " 723: {'neg': 0.156, 'neu': 0.559, 'pos': 0.285, 'compound': 0.818},\n",
       " 724: {'neg': 0.0, 'neu': 0.912, 'pos': 0.088, 'compound': 0.4019},\n",
       " 725: {'neg': 0.085, 'neu': 0.77, 'pos': 0.145, 'compound': 0.8074},\n",
       " 726: {'neg': 0.505, 'neu': 0.363, 'pos': 0.131, 'compound': -0.9077},\n",
       " 727: {'neg': 0.283, 'neu': 0.61, 'pos': 0.107, 'compound': -0.9806},\n",
       " 728: {'neg': 0.485, 'neu': 0.515, 'pos': 0.0, 'compound': -0.9201},\n",
       " 729: {'neg': 0.258, 'neu': 0.62, 'pos': 0.122, 'compound': -0.9217},\n",
       " 730: {'neg': 0.203, 'neu': 0.443, 'pos': 0.354, 'compound': 0.5859},\n",
       " 731: {'neg': 0.176, 'neu': 0.557, 'pos': 0.267, 'compound': 0.7561},\n",
       " 732: {'neg': 0.26, 'neu': 0.655, 'pos': 0.086, 'compound': -0.9538},\n",
       " 733: {'neg': 0.173, 'neu': 0.764, 'pos': 0.063, 'compound': -0.9606},\n",
       " 734: {'neg': 0.278, 'neu': 0.624, 'pos': 0.098, 'compound': -0.8176},\n",
       " 735: {'neg': 0.0, 'neu': 0.757, 'pos': 0.243, 'compound': 0.8519},\n",
       " 736: {'neg': 0.206, 'neu': 0.653, 'pos': 0.141, 'compound': -0.7584},\n",
       " 737: {'neg': 0.212, 'neu': 0.69, 'pos': 0.098, 'compound': -0.8225},\n",
       " 738: {'neg': 0.185, 'neu': 0.494, 'pos': 0.321, 'compound': 0.9593},\n",
       " 739: {'neg': 0.241, 'neu': 0.669, 'pos': 0.091, 'compound': -0.9831},\n",
       " 740: {'neg': 0.301, 'neu': 0.522, 'pos': 0.177, 'compound': -0.9486},\n",
       " 741: {'neg': 0.244, 'neu': 0.688, 'pos': 0.068, 'compound': -0.9858},\n",
       " 742: {'neg': 0.107, 'neu': 0.701, 'pos': 0.191, 'compound': 0.875},\n",
       " 743: {'neg': 0.265, 'neu': 0.603, 'pos': 0.132, 'compound': -0.9887},\n",
       " 744: {'neg': 0.391, 'neu': 0.453, 'pos': 0.156, 'compound': -0.9207},\n",
       " 745: {'neg': 0.348, 'neu': 0.429, 'pos': 0.223, 'compound': -0.872},\n",
       " 746: {'neg': 0.298, 'neu': 0.534, 'pos': 0.168, 'compound': -0.8807},\n",
       " 747: {'neg': 0.138, 'neu': 0.795, 'pos': 0.067, 'compound': -0.5456},\n",
       " 748: {'neg': 0.264, 'neu': 0.578, 'pos': 0.158, 'compound': -0.9918},\n",
       " 749: {'neg': 0.145, 'neu': 0.631, 'pos': 0.224, 'compound': 0.5267},\n",
       " 750: {'neg': 0.237, 'neu': 0.571, 'pos': 0.192, 'compound': -0.9367},\n",
       " 751: {'neg': 0.295, 'neu': 0.583, 'pos': 0.122, 'compound': -0.9658},\n",
       " 752: {'neg': 0.267, 'neu': 0.546, 'pos': 0.187, 'compound': -0.8341},\n",
       " 753: {'neg': 0.279, 'neu': 0.349, 'pos': 0.372, 'compound': 0.5574},\n",
       " 754: {'neg': 0.399, 'neu': 0.435, 'pos': 0.166, 'compound': -0.9921},\n",
       " 755: {'neg': 0.525, 'neu': 0.362, 'pos': 0.113, 'compound': -0.9595},\n",
       " 756: {'neg': 0.339, 'neu': 0.582, 'pos': 0.079, 'compound': -0.9483},\n",
       " 757: {'neg': 0.121, 'neu': 0.726, 'pos': 0.153, 'compound': -0.2263},\n",
       " 758: {'neg': 0.067, 'neu': 0.682, 'pos': 0.252, 'compound': 0.9062},\n",
       " 759: {'neg': 0.201, 'neu': 0.632, 'pos': 0.166, 'compound': -0.6922},\n",
       " 760: {'neg': 0.081, 'neu': 0.472, 'pos': 0.446, 'compound': 0.9794},\n",
       " 761: {'neg': 0.251, 'neu': 0.599, 'pos': 0.149, 'compound': -0.9432},\n",
       " 762: {'neg': 0.153, 'neu': 0.67, 'pos': 0.178, 'compound': 0.4767},\n",
       " 763: {'neg': 0.243, 'neu': 0.468, 'pos': 0.289, 'compound': 0.0},\n",
       " 764: {'neg': 0.073, 'neu': 0.755, 'pos': 0.172, 'compound': 0.765},\n",
       " 765: {'neg': 0.416, 'neu': 0.552, 'pos': 0.032, 'compound': -0.9934},\n",
       " 766: {'neg': 0.272, 'neu': 0.538, 'pos': 0.19, 'compound': -0.8094},\n",
       " 767: {'neg': 0.137, 'neu': 0.686, 'pos': 0.177, 'compound': 0.4939},\n",
       " 768: {'neg': 0.175, 'neu': 0.73, 'pos': 0.095, 'compound': -0.5574},\n",
       " 769: {'neg': 0.212, 'neu': 0.66, 'pos': 0.127, 'compound': -0.2023},\n",
       " 770: {'neg': 0.348, 'neu': 0.413, 'pos': 0.239, 'compound': -0.7964},\n",
       " 771: {'neg': 0.195, 'neu': 0.566, 'pos': 0.239, 'compound': 0.7048},\n",
       " 772: {'neg': 0.29, 'neu': 0.48, 'pos': 0.23, 'compound': -0.5423},\n",
       " 773: {'neg': 0.325, 'neu': 0.568, 'pos': 0.107, 'compound': -0.9862},\n",
       " 774: {'neg': 0.236, 'neu': 0.618, 'pos': 0.147, 'compound': -0.5574},\n",
       " 775: {'neg': 0.459, 'neu': 0.382, 'pos': 0.159, 'compound': -0.9678},\n",
       " 776: {'neg': 0.299, 'neu': 0.575, 'pos': 0.126, 'compound': -0.9457},\n",
       " 777: {'neg': 0.45, 'neu': 0.417, 'pos': 0.133, 'compound': -0.765},\n",
       " 778: {'neg': 0.112, 'neu': 0.676, 'pos': 0.212, 'compound': 0.5267},\n",
       " 779: {'neg': 0.239, 'neu': 0.583, 'pos': 0.178, 'compound': -0.9498},\n",
       " 780: {'neg': 0.116, 'neu': 0.56, 'pos': 0.324, 'compound': 0.9552},\n",
       " 781: {'neg': 0.361, 'neu': 0.408, 'pos': 0.231, 'compound': -0.961},\n",
       " 782: {'neg': 0.145, 'neu': 0.665, 'pos': 0.19, 'compound': 0.9001},\n",
       " 783: {'neg': 0.197, 'neu': 0.608, 'pos': 0.196, 'compound': -0.2732},\n",
       " 784: {'neg': 0.173, 'neu': 0.608, 'pos': 0.219, 'compound': 0.9124},\n",
       " 785: {'neg': 0.192, 'neu': 0.657, 'pos': 0.152, 'compound': -0.7803},\n",
       " 786: {'neg': 0.241, 'neu': 0.522, 'pos': 0.237, 'compound': -0.0516},\n",
       " 787: {'neg': 0.262, 'neu': 0.628, 'pos': 0.11, 'compound': -0.4404},\n",
       " 788: {'neg': 0.205, 'neu': 0.727, 'pos': 0.068, 'compound': -0.9724},\n",
       " 789: {'neg': 0.094, 'neu': 0.615, 'pos': 0.291, 'compound': 0.9758},\n",
       " 790: {'neg': 0.288, 'neu': 0.484, 'pos': 0.228, 'compound': -0.9565},\n",
       " 791: {'neg': 0.387, 'neu': 0.565, 'pos': 0.048, 'compound': -0.9882},\n",
       " 792: {'neg': 0.098, 'neu': 0.631, 'pos': 0.271, 'compound': 0.9569},\n",
       " 793: {'neg': 0.287, 'neu': 0.619, 'pos': 0.094, 'compound': -0.9596},\n",
       " 794: {'neg': 0.25, 'neu': 0.439, 'pos': 0.312, 'compound': 0.7275},\n",
       " 795: {'neg': 0.219, 'neu': 0.458, 'pos': 0.324, 'compound': 0.8439},\n",
       " 796: {'neg': 0.412, 'neu': 0.588, 'pos': 0.0, 'compound': -0.9001},\n",
       " 797: {'neg': 0.346, 'neu': 0.62, 'pos': 0.034, 'compound': -0.8779},\n",
       " 798: {'neg': 0.49, 'neu': 0.207, 'pos': 0.303, 'compound': -0.7379},\n",
       " 799: {'neg': 0.393, 'neu': 0.347, 'pos': 0.26, 'compound': -0.9443},\n",
       " 800: {'neg': 0.214, 'neu': 0.553, 'pos': 0.233, 'compound': 0.5423},\n",
       " 801: {'neg': 0.254, 'neu': 0.62, 'pos': 0.125, 'compound': -0.9039},\n",
       " 802: {'neg': 0.34, 'neu': 0.454, 'pos': 0.206, 'compound': -0.9325},\n",
       " 803: {'neg': 0.323, 'neu': 0.564, 'pos': 0.113, 'compound': -0.9891},\n",
       " 804: {'neg': 0.064, 'neu': 0.772, 'pos': 0.164, 'compound': 0.5819},\n",
       " 805: {'neg': 0.228, 'neu': 0.772, 'pos': 0.0, 'compound': -0.5574},\n",
       " 806: {'neg': 0.174, 'neu': 0.568, 'pos': 0.258, 'compound': 0.5423},\n",
       " 807: {'neg': 0.164, 'neu': 0.75, 'pos': 0.085, 'compound': -0.6249},\n",
       " 808: {'neg': 0.254, 'neu': 0.625, 'pos': 0.121, 'compound': -0.9524},\n",
       " 809: {'neg': 0.171, 'neu': 0.642, 'pos': 0.187, 'compound': -0.0356},\n",
       " 810: {'neg': 0.133, 'neu': 0.793, 'pos': 0.074, 'compound': -0.8225},\n",
       " 811: {'neg': 0.188, 'neu': 0.726, 'pos': 0.086, 'compound': -0.6324},\n",
       " 812: {'neg': 0.184, 'neu': 0.657, 'pos': 0.16, 'compound': -0.5876},\n",
       " 813: {'neg': 0.33, 'neu': 0.536, 'pos': 0.134, 'compound': -0.296},\n",
       " 814: {'neg': 0.245, 'neu': 0.673, 'pos': 0.082, 'compound': -0.9657},\n",
       " 815: {'neg': 0.227, 'neu': 0.626, 'pos': 0.147, 'compound': -0.8847},\n",
       " 816: {'neg': 0.0, 'neu': 0.303, 'pos': 0.697, 'compound': 0.8885},\n",
       " 817: {'neg': 0.178, 'neu': 0.656, 'pos': 0.166, 'compound': -0.1531},\n",
       " 818: {'neg': 0.165, 'neu': 0.532, 'pos': 0.303, 'compound': 0.9834},\n",
       " 819: {'neg': 0.295, 'neu': 0.658, 'pos': 0.047, 'compound': -0.8934},\n",
       " 820: {'neg': 0.242, 'neu': 0.669, 'pos': 0.089, 'compound': -0.8423},\n",
       " 821: {'neg': 0.0, 'neu': 1.0, 'pos': 0.0, 'compound': 0.0},\n",
       " 822: {'neg': 0.175, 'neu': 0.679, 'pos': 0.146, 'compound': -0.6243},\n",
       " 823: {'neg': 0.175, 'neu': 0.437, 'pos': 0.388, 'compound': 0.7003},\n",
       " 824: {'neg': 0.269, 'neu': 0.599, 'pos': 0.132, 'compound': -0.926},\n",
       " 825: {'neg': 0.275, 'neu': 0.656, 'pos': 0.07, 'compound': -0.7184},\n",
       " 826: {'neg': 0.202, 'neu': 0.71, 'pos': 0.088, 'compound': -0.9371},\n",
       " 827: {'neg': 0.379, 'neu': 0.621, 'pos': 0.0, 'compound': -0.7269},\n",
       " 828: {'neg': 0.688, 'neu': 0.312, 'pos': 0.0, 'compound': -0.765},\n",
       " 829: {'neg': 0.196, 'neu': 0.655, 'pos': 0.149, 'compound': -0.4951},\n",
       " 830: {'neg': 0.282, 'neu': 0.653, 'pos': 0.065, 'compound': -0.9393},\n",
       " 831: {'neg': 0.048, 'neu': 0.619, 'pos': 0.333, 'compound': 0.8783},\n",
       " 832: {'neg': 0.153, 'neu': 0.847, 'pos': 0.0, 'compound': -0.4019},\n",
       " 833: {'neg': 0.359, 'neu': 0.331, 'pos': 0.31, 'compound': -0.9191},\n",
       " 834: {'neg': 0.213, 'neu': 0.677, 'pos': 0.11, 'compound': -0.9596},\n",
       " 835: {'neg': 0.225, 'neu': 0.628, 'pos': 0.147, 'compound': -0.9677},\n",
       " 836: {'neg': 0.318, 'neu': 0.636, 'pos': 0.046, 'compound': -0.93},\n",
       " 837: {'neg': 0.094, 'neu': 0.804, 'pos': 0.102, 'compound': 0.0931},\n",
       " 838: {'neg': 0.222, 'neu': 0.513, 'pos': 0.265, 'compound': 0.7096},\n",
       " 839: {'neg': 0.199, 'neu': 0.728, 'pos': 0.074, 'compound': -0.9776},\n",
       " 840: {'neg': 0.399, 'neu': 0.483, 'pos': 0.117, 'compound': -0.9022},\n",
       " 841: {'neg': 0.187, 'neu': 0.593, 'pos': 0.22, 'compound': -0.0547},\n",
       " 842: {'neg': 0.331, 'neu': 0.468, 'pos': 0.201, 'compound': -0.9354},\n",
       " 843: {'neg': 0.313, 'neu': 0.517, 'pos': 0.169, 'compound': -0.9657},\n",
       " 844: {'neg': 0.388, 'neu': 0.426, 'pos': 0.186, 'compound': -0.9678},\n",
       " 845: {'neg': 0.204, 'neu': 0.615, 'pos': 0.181, 'compound': -0.2878},\n",
       " 846: {'neg': 0.18, 'neu': 0.727, 'pos': 0.094, 'compound': -0.5423},\n",
       " 847: {'neg': 0.178, 'neu': 0.627, 'pos': 0.195, 'compound': 0.4126},\n",
       " 848: {'neg': 0.203, 'neu': 0.571, 'pos': 0.226, 'compound': 0.6278},\n",
       " 849: {'neg': 0.05, 'neu': 0.89, 'pos': 0.06, 'compound': 0.1027},\n",
       " 850: {'neg': 0.266, 'neu': 0.556, 'pos': 0.178, 'compound': -0.855},\n",
       " 851: {'neg': 0.392, 'neu': 0.529, 'pos': 0.079, 'compound': -0.875},\n",
       " 852: {'neg': 0.283, 'neu': 0.521, 'pos': 0.196, 'compound': -0.8314},\n",
       " 853: {'neg': 0.154, 'neu': 0.49, 'pos': 0.356, 'compound': 0.9735},\n",
       " 854: {'neg': 0.214, 'neu': 0.571, 'pos': 0.215, 'compound': -0.8266},\n",
       " 855: {'neg': 0.294, 'neu': 0.516, 'pos': 0.191, 'compound': -0.9213},\n",
       " 856: {'neg': 0.143, 'neu': 0.638, 'pos': 0.219, 'compound': 0.978},\n",
       " 857: {'neg': 0.142, 'neu': 0.724, 'pos': 0.134, 'compound': -0.3182},\n",
       " 858: {'neg': 0.146, 'neu': 0.62, 'pos': 0.235, 'compound': 0.8627},\n",
       " 859: {'neg': 0.182, 'neu': 0.506, 'pos': 0.312, 'compound': 0.9723},\n",
       " 860: {'neg': 0.232, 'neu': 0.645, 'pos': 0.123, 'compound': -0.9842},\n",
       " 861: {'neg': 0.229, 'neu': 0.523, 'pos': 0.249, 'compound': 0.2732},\n",
       " 862: {'neg': 0.284, 'neu': 0.593, 'pos': 0.123, 'compound': -0.9729},\n",
       " 863: {'neg': 0.369, 'neu': 0.614, 'pos': 0.017, 'compound': -0.993},\n",
       " 864: {'neg': 0.269, 'neu': 0.499, 'pos': 0.232, 'compound': -0.7704},\n",
       " 865: {'neg': 0.168, 'neu': 0.455, 'pos': 0.378, 'compound': 0.7506},\n",
       " 866: {'neg': 0.25, 'neu': 0.542, 'pos': 0.209, 'compound': -0.0258},\n",
       " 867: {'neg': 0.133, 'neu': 0.497, 'pos': 0.37, 'compound': 0.9927},\n",
       " 868: {'neg': 0.191, 'neu': 0.542, 'pos': 0.267, 'compound': 0.5859},\n",
       " 869: {'neg': 0.189, 'neu': 0.751, 'pos': 0.061, 'compound': -0.891},\n",
       " 870: {'neg': 0.219, 'neu': 0.499, 'pos': 0.282, 'compound': 0.4404},\n",
       " 871: {'neg': 0.16, 'neu': 0.617, 'pos': 0.222, 'compound': 0.7184},\n",
       " 872: {'neg': 0.331, 'neu': 0.441, 'pos': 0.228, 'compound': -0.34},\n",
       " 873: {'neg': 0.075, 'neu': 0.841, 'pos': 0.084, 'compound': 0.0772},\n",
       " 874: {'neg': 0.308, 'neu': 0.601, 'pos': 0.091, 'compound': -0.9733},\n",
       " 875: {'neg': 0.393, 'neu': 0.422, 'pos': 0.185, 'compound': -0.9919},\n",
       " 876: {'neg': 0.159, 'neu': 0.552, 'pos': 0.289, 'compound': 0.9493},\n",
       " 877: {'neg': 0.212, 'neu': 0.657, 'pos': 0.131, 'compound': -0.9859},\n",
       " 878: {'neg': 0.092, 'neu': 0.737, 'pos': 0.171, 'compound': 0.6705},\n",
       " 879: {'neg': 0.3, 'neu': 0.512, 'pos': 0.188, 'compound': -0.5859},\n",
       " 880: {'neg': 0.123, 'neu': 0.829, 'pos': 0.048, 'compound': -0.8442},\n",
       " 881: {'neg': 0.158, 'neu': 0.715, 'pos': 0.127, 'compound': -0.95},\n",
       " 882: {'neg': 0.188, 'neu': 0.649, 'pos': 0.163, 'compound': 0.25},\n",
       " 883: {'neg': 0.23, 'neu': 0.59, 'pos': 0.18, 'compound': -0.9523},\n",
       " 884: {'neg': 0.353, 'neu': 0.606, 'pos': 0.042, 'compound': -0.9704},\n",
       " 885: {'neg': 0.307, 'neu': 0.584, 'pos': 0.108, 'compound': -0.9958},\n",
       " 886: {'neg': 0.354, 'neu': 0.417, 'pos': 0.229, 'compound': -0.8957},\n",
       " 887: {'neg': 0.267, 'neu': 0.57, 'pos': 0.163, 'compound': -0.9952},\n",
       " 888: {'neg': 0.297, 'neu': 0.633, 'pos': 0.07, 'compound': -0.9771},\n",
       " 889: {'neg': 0.222, 'neu': 0.671, 'pos': 0.106, 'compound': -0.9938},\n",
       " 890: {'neg': 0.227, 'neu': 0.517, 'pos': 0.256, 'compound': 0.1027},\n",
       " 891: {'neg': 0.196, 'neu': 0.676, 'pos': 0.128, 'compound': -0.2263},\n",
       " 892: {'neg': 0.172, 'neu': 0.676, 'pos': 0.152, 'compound': 0.0258},\n",
       " 893: {'neg': 0.335, 'neu': 0.497, 'pos': 0.168, 'compound': -0.6597},\n",
       " 894: {'neg': 0.109, 'neu': 0.655, 'pos': 0.236, 'compound': 0.9532},\n",
       " 895: {'neg': 0.201, 'neu': 0.528, 'pos': 0.27, 'compound': 0.9023},\n",
       " 896: {'neg': 0.204, 'neu': 0.424, 'pos': 0.372, 'compound': 0.9864},\n",
       " 897: {'neg': 0.239, 'neu': 0.623, 'pos': 0.138, 'compound': -0.9611},\n",
       " 898: {'neg': 0.314, 'neu': 0.574, 'pos': 0.112, 'compound': -0.9932},\n",
       " 899: {'neg': 0.198, 'neu': 0.546, 'pos': 0.256, 'compound': 0.5658},\n",
       " 900: {'neg': 0.233, 'neu': 0.614, 'pos': 0.153, 'compound': -0.831},\n",
       " 901: {'neg': 0.134, 'neu': 0.63, 'pos': 0.236, 'compound': 0.842},\n",
       " 902: {'neg': 0.343, 'neu': 0.476, 'pos': 0.18, 'compound': -0.7579},\n",
       " 903: {'neg': 0.193, 'neu': 0.695, 'pos': 0.112, 'compound': -0.9957},\n",
       " 904: {'neg': 0.147, 'neu': 0.692, 'pos': 0.161, 'compound': 0.1531},\n",
       " 905: {'neg': 0.383, 'neu': 0.563, 'pos': 0.054, 'compound': -0.9186},\n",
       " 906: {'neg': 0.198, 'neu': 0.639, 'pos': 0.163, 'compound': 0.0439},\n",
       " 907: {'neg': 0.237, 'neu': 0.639, 'pos': 0.123, 'compound': -0.3612},\n",
       " 908: {'neg': 0.316, 'neu': 0.444, 'pos': 0.24, 'compound': -0.891},\n",
       " 909: {'neg': 0.243, 'neu': 0.543, 'pos': 0.214, 'compound': -0.8523},\n",
       " 910: {'neg': 0.328, 'neu': 0.465, 'pos': 0.206, 'compound': -0.5688},\n",
       " 911: {'neg': 0.399, 'neu': 0.439, 'pos': 0.162, 'compound': -0.9299},\n",
       " 912: {'neg': 0.207, 'neu': 0.651, 'pos': 0.142, 'compound': -0.9814},\n",
       " 913: {'neg': 0.194, 'neu': 0.635, 'pos': 0.171, 'compound': -0.7845},\n",
       " 914: {'neg': 0.114, 'neu': 0.62, 'pos': 0.266, 'compound': 0.9638},\n",
       " 915: {'neg': 0.064, 'neu': 0.53, 'pos': 0.405, 'compound': 0.8402},\n",
       " 916: {'neg': 0.331, 'neu': 0.552, 'pos': 0.117, 'compound': -0.5423},\n",
       " 917: {'neg': 0.197, 'neu': 0.633, 'pos': 0.17, 'compound': -0.8508},\n",
       " 918: {'neg': 0.129, 'neu': 0.6, 'pos': 0.271, 'compound': 0.9059},\n",
       " 919: {'neg': 0.353, 'neu': 0.51, 'pos': 0.137, 'compound': -0.9948},\n",
       " 920: {'neg': 0.223, 'neu': 0.608, 'pos': 0.168, 'compound': -0.7787},\n",
       " 921: {'neg': 0.285, 'neu': 0.503, 'pos': 0.212, 'compound': -0.9368},\n",
       " 922: {'neg': 0.324, 'neu': 0.533, 'pos': 0.144, 'compound': -0.8791},\n",
       " 923: {'neg': 0.309, 'neu': 0.575, 'pos': 0.115, 'compound': -0.9776},\n",
       " 924: {'neg': 0.105, 'neu': 0.735, 'pos': 0.16, 'compound': 0.2968},\n",
       " 925: {'neg': 0.198, 'neu': 0.454, 'pos': 0.348, 'compound': 0.743},\n",
       " 926: {'neg': 0.125, 'neu': 0.622, 'pos': 0.253, 'compound': 0.9801},\n",
       " 927: {'neg': 0.345, 'neu': 0.574, 'pos': 0.081, 'compound': -0.9928},\n",
       " 928: {'neg': 0.386, 'neu': 0.52, 'pos': 0.093, 'compound': -0.9959},\n",
       " 929: {'neg': 0.25, 'neu': 0.71, 'pos': 0.04, 'compound': -0.9981},\n",
       " 930: {'neg': 0.302, 'neu': 0.564, 'pos': 0.134, 'compound': -0.9891},\n",
       " 931: {'neg': 0.146, 'neu': 0.684, 'pos': 0.17, 'compound': 0.886},\n",
       " 932: {'neg': 0.199, 'neu': 0.692, 'pos': 0.109, 'compound': -0.6486},\n",
       " 933: {'neg': 0.201, 'neu': 0.563, 'pos': 0.237, 'compound': 0.8201},\n",
       " 934: {'neg': 0.142, 'neu': 0.627, 'pos': 0.231, 'compound': 0.9403},\n",
       " 935: {'neg': 0.202, 'neu': 0.52, 'pos': 0.278, 'compound': 0.8689},\n",
       " 936: {'neg': 0.126, 'neu': 0.598, 'pos': 0.276, 'compound': 0.9842},\n",
       " 937: {'neg': 0.237, 'neu': 0.61, 'pos': 0.153, 'compound': -0.9931},\n",
       " 938: {'neg': 0.159, 'neu': 0.764, 'pos': 0.077, 'compound': -0.9563},\n",
       " 939: {'neg': 0.0, 'neu': 0.637, 'pos': 0.363, 'compound': 0.8126},\n",
       " 940: {'neg': 0.388, 'neu': 0.403, 'pos': 0.209, 'compound': -0.9509},\n",
       " 941: {'neg': 0.101, 'neu': 0.641, 'pos': 0.258, 'compound': 0.8165},\n",
       " 942: {'neg': 0.617, 'neu': 0.346, 'pos': 0.037, 'compound': -0.9901},\n",
       " 943: {'neg': 0.263, 'neu': 0.6, 'pos': 0.137, 'compound': -0.996},\n",
       " 944: {'neg': 0.127, 'neu': 0.649, 'pos': 0.224, 'compound': 0.9841},\n",
       " 945: {'neg': 0.174, 'neu': 0.586, 'pos': 0.24, 'compound': 0.9219},\n",
       " 946: {'neg': 0.191, 'neu': 0.595, 'pos': 0.214, 'compound': 0.3624},\n",
       " 947: {'neg': 0.162, 'neu': 0.74, 'pos': 0.098, 'compound': -0.8874},\n",
       " 948: {'neg': 0.384, 'neu': 0.566, 'pos': 0.049, 'compound': -0.9464},\n",
       " 949: {'neg': 0.212, 'neu': 0.696, 'pos': 0.091, 'compound': -0.9751},\n",
       " 950: {'neg': 0.486, 'neu': 0.374, 'pos': 0.141, 'compound': -0.9753},\n",
       " 951: {'neg': 0.0, 'neu': 0.757, 'pos': 0.243, 'compound': 0.8516},\n",
       " 952: {'neg': 0.361, 'neu': 0.556, 'pos': 0.083, 'compound': -0.999},\n",
       " 953: {'neg': 0.203, 'neu': 0.565, 'pos': 0.232, 'compound': 0.9329},\n",
       " 954: {'neg': 0.331, 'neu': 0.573, 'pos': 0.096, 'compound': -0.9893},\n",
       " 955: {'neg': 0.199, 'neu': 0.627, 'pos': 0.174, 'compound': -0.7129},\n",
       " 956: {'neg': 0.186, 'neu': 0.508, 'pos': 0.305, 'compound': 0.9845},\n",
       " 957: {'neg': 0.223, 'neu': 0.54, 'pos': 0.237, 'compound': -0.0},\n",
       " 958: {'neg': 0.319, 'neu': 0.59, 'pos': 0.091, 'compound': -0.9691},\n",
       " 959: {'neg': 0.236, 'neu': 0.663, 'pos': 0.101, 'compound': -0.9477},\n",
       " 960: {'neg': 0.41, 'neu': 0.458, 'pos': 0.132, 'compound': -0.9768},\n",
       " 961: {'neg': 0.163, 'neu': 0.51, 'pos': 0.327, 'compound': 0.3818},\n",
       " 962: {'neg': 0.268, 'neu': 0.55, 'pos': 0.182, 'compound': -0.8834},\n",
       " 963: {'neg': 0.396, 'neu': 0.518, 'pos': 0.085, 'compound': -0.9925},\n",
       " 964: {'neg': 0.253, 'neu': 0.538, 'pos': 0.209, 'compound': -0.8316},\n",
       " 965: {'neg': 0.133, 'neu': 0.42, 'pos': 0.447, 'compound': 0.9911},\n",
       " 966: {'neg': 0.052, 'neu': 0.844, 'pos': 0.103, 'compound': 0.5574},\n",
       " 967: {'neg': 0.0, 'neu': 0.805, 'pos': 0.195, 'compound': 0.5859},\n",
       " 968: {'neg': 0.254, 'neu': 0.337, 'pos': 0.409, 'compound': 0.7783},\n",
       " 969: {'neg': 0.305, 'neu': 0.421, 'pos': 0.274, 'compound': -0.204},\n",
       " 970: {'neg': 0.336, 'neu': 0.617, 'pos': 0.047, 'compound': -0.9968},\n",
       " 971: {'neg': 0.083, 'neu': 0.794, 'pos': 0.123, 'compound': 0.5532},\n",
       " 972: {'neg': 0.0, 'neu': 0.584, 'pos': 0.416, 'compound': 0.9779},\n",
       " 973: {'neg': 0.0, 'neu': 0.545, 'pos': 0.455, 'compound': 0.875},\n",
       " 974: {'neg': 0.282, 'neu': 0.603, 'pos': 0.115, 'compound': -0.9782},\n",
       " 975: {'neg': 0.463, 'neu': 0.408, 'pos': 0.129, 'compound': -0.9674},\n",
       " 976: {'neg': 0.101, 'neu': 0.814, 'pos': 0.085, 'compound': -0.1027},\n",
       " 977: {'neg': 0.156, 'neu': 0.459, 'pos': 0.385, 'compound': 0.8885},\n",
       " 978: {'neg': 0.1, 'neu': 0.821, 'pos': 0.079, 'compound': -0.1779},\n",
       " 979: {'neg': 0.134, 'neu': 0.77, 'pos': 0.096, 'compound': -0.926},\n",
       " 980: {'neg': 0.143, 'neu': 0.767, 'pos': 0.09, 'compound': -0.8225},\n",
       " 981: {'neg': 0.183, 'neu': 0.67, 'pos': 0.147, 'compound': -0.8885},\n",
       " 982: {'neg': 0.347, 'neu': 0.549, 'pos': 0.103, 'compound': -0.959},\n",
       " 983: {'neg': 0.297, 'neu': 0.447, 'pos': 0.255, 'compound': -0.4927},\n",
       " 984: {'neg': 0.126, 'neu': 0.558, 'pos': 0.316, 'compound': 0.9758},\n",
       " 985: {'neg': 0.347, 'neu': 0.562, 'pos': 0.091, 'compound': -0.9941},\n",
       " 986: {'neg': 0.161, 'neu': 0.677, 'pos': 0.162, 'compound': 0.2732},\n",
       " 987: {'neg': 0.079, 'neu': 0.732, 'pos': 0.189, 'compound': 0.9533},\n",
       " 988: {'neg': 0.28, 'neu': 0.514, 'pos': 0.206, 'compound': -0.7328},\n",
       " 989: {'neg': 0.091, 'neu': 0.676, 'pos': 0.233, 'compound': 0.8519},\n",
       " 990: {'neg': 0.435, 'neu': 0.386, 'pos': 0.179, 'compound': -0.891},\n",
       " 991: {'neg': 0.138, 'neu': 0.61, 'pos': 0.252, 'compound': 0.9287},\n",
       " 992: {'neg': 0.12, 'neu': 0.88, 'pos': 0.0, 'compound': -0.7766},\n",
       " 993: {'neg': 0.16, 'neu': 0.761, 'pos': 0.079, 'compound': -0.7845}}"
      ]
     },
     "execution_count": 43,
     "metadata": {},
     "output_type": "execute_result"
    }
   ],
   "source": [
    "res"
   ]
  },
  {
   "cell_type": "code",
   "execution_count": 31,
   "metadata": {},
   "outputs": [],
   "source": [
    "vaders = pd.DataFrame(res).T\n",
    "vaders = vaders.reset_index().rename(columns={'index': 'id'})\n",
    "vaders = vaders.merge(data, how='left')\n",
    "# vaders.head()"
   ]
  },
  {
   "cell_type": "code",
   "execution_count": null,
   "metadata": {},
   "outputs": [
    {
     "data": {
      "text/plain": [
       "Index(['id', 'neg', 'neu', 'pos', 'compound', 'subreddit', 'title', 'selftext',\n",
       "       'upvote_ratio', 'ups', 'downs', 'score', 'link_flair_css_class',\n",
       "       'created_utc', 'kind', 'cleaned', 'post', 'sentiment_score',\n",
       "       'sentiment_category', 'sentiment_score_tb', 'sentiment_category_tb'],\n",
       "      dtype='object')"
      ]
     },
     "execution_count": 45,
     "metadata": {},
     "output_type": "execute_result"
    }
   ],
   "source": [
    "vaders.columns"
   ]
  },
  {
   "cell_type": "code",
   "execution_count": 32,
   "metadata": {},
   "outputs": [],
   "source": [
    "test = vaders[['compound','sentiment_score', 'sentiment_score_tb','upvote_ratio', 'ups', 'downs', 'score']] "
   ]
  },
  {
   "cell_type": "code",
   "execution_count": null,
   "metadata": {},
   "outputs": [
    {
     "data": {
      "text/html": [
       "<div>\n",
       "<style scoped>\n",
       "    .dataframe tbody tr th:only-of-type {\n",
       "        vertical-align: middle;\n",
       "    }\n",
       "\n",
       "    .dataframe tbody tr th {\n",
       "        vertical-align: top;\n",
       "    }\n",
       "\n",
       "    .dataframe thead th {\n",
       "        text-align: right;\n",
       "    }\n",
       "</style>\n",
       "<table border=\"1\" class=\"dataframe\">\n",
       "  <thead>\n",
       "    <tr style=\"text-align: right;\">\n",
       "      <th></th>\n",
       "      <th>compound</th>\n",
       "      <th>sentiment_score</th>\n",
       "      <th>sentiment_score_tb</th>\n",
       "      <th>upvote_ratio</th>\n",
       "      <th>ups</th>\n",
       "      <th>downs</th>\n",
       "      <th>score</th>\n",
       "    </tr>\n",
       "  </thead>\n",
       "  <tbody>\n",
       "    <tr>\n",
       "      <th>588</th>\n",
       "      <td>-0.5106</td>\n",
       "      <td>-12.0</td>\n",
       "      <td>0.044</td>\n",
       "      <td>0.97</td>\n",
       "      <td>436</td>\n",
       "      <td>0</td>\n",
       "      <td>436</td>\n",
       "    </tr>\n",
       "    <tr>\n",
       "      <th>888</th>\n",
       "      <td>-0.9938</td>\n",
       "      <td>-53.0</td>\n",
       "      <td>-0.108</td>\n",
       "      <td>0.92</td>\n",
       "      <td>231</td>\n",
       "      <td>0</td>\n",
       "      <td>231</td>\n",
       "    </tr>\n",
       "    <tr>\n",
       "      <th>163</th>\n",
       "      <td>-0.7316</td>\n",
       "      <td>-2.0</td>\n",
       "      <td>-0.004</td>\n",
       "      <td>0.95</td>\n",
       "      <td>165</td>\n",
       "      <td>0</td>\n",
       "      <td>165</td>\n",
       "    </tr>\n",
       "    <tr>\n",
       "      <th>268</th>\n",
       "      <td>-0.9742</td>\n",
       "      <td>-16.0</td>\n",
       "      <td>0.062</td>\n",
       "      <td>0.88</td>\n",
       "      <td>165</td>\n",
       "      <td>0</td>\n",
       "      <td>165</td>\n",
       "    </tr>\n",
       "    <tr>\n",
       "      <th>676</th>\n",
       "      <td>0.9604</td>\n",
       "      <td>7.0</td>\n",
       "      <td>0.083</td>\n",
       "      <td>0.98</td>\n",
       "      <td>100</td>\n",
       "      <td>0</td>\n",
       "      <td>100</td>\n",
       "    </tr>\n",
       "    <tr>\n",
       "      <th>...</th>\n",
       "      <td>...</td>\n",
       "      <td>...</td>\n",
       "      <td>...</td>\n",
       "      <td>...</td>\n",
       "      <td>...</td>\n",
       "      <td>...</td>\n",
       "      <td>...</td>\n",
       "    </tr>\n",
       "    <tr>\n",
       "      <th>953</th>\n",
       "      <td>-0.9893</td>\n",
       "      <td>-18.0</td>\n",
       "      <td>-0.167</td>\n",
       "      <td>0.50</td>\n",
       "      <td>0</td>\n",
       "      <td>0</td>\n",
       "      <td>0</td>\n",
       "    </tr>\n",
       "    <tr>\n",
       "      <th>395</th>\n",
       "      <td>-0.9662</td>\n",
       "      <td>-11.0</td>\n",
       "      <td>-0.036</td>\n",
       "      <td>0.50</td>\n",
       "      <td>0</td>\n",
       "      <td>0</td>\n",
       "      <td>0</td>\n",
       "    </tr>\n",
       "    <tr>\n",
       "      <th>628</th>\n",
       "      <td>0.9936</td>\n",
       "      <td>31.0</td>\n",
       "      <td>0.277</td>\n",
       "      <td>0.50</td>\n",
       "      <td>0</td>\n",
       "      <td>0</td>\n",
       "      <td>0</td>\n",
       "    </tr>\n",
       "    <tr>\n",
       "      <th>862</th>\n",
       "      <td>-0.9930</td>\n",
       "      <td>-38.0</td>\n",
       "      <td>-0.112</td>\n",
       "      <td>0.50</td>\n",
       "      <td>0</td>\n",
       "      <td>0</td>\n",
       "      <td>0</td>\n",
       "    </tr>\n",
       "    <tr>\n",
       "      <th>502</th>\n",
       "      <td>-0.9690</td>\n",
       "      <td>-18.0</td>\n",
       "      <td>-0.261</td>\n",
       "      <td>0.50</td>\n",
       "      <td>0</td>\n",
       "      <td>0</td>\n",
       "      <td>0</td>\n",
       "    </tr>\n",
       "  </tbody>\n",
       "</table>\n",
       "<p>993 rows × 7 columns</p>\n",
       "</div>"
      ],
      "text/plain": [
       "     compound  sentiment_score  sentiment_score_tb  upvote_ratio  ups  downs  \\\n",
       "588   -0.5106            -12.0               0.044          0.97  436      0   \n",
       "888   -0.9938            -53.0              -0.108          0.92  231      0   \n",
       "163   -0.7316             -2.0              -0.004          0.95  165      0   \n",
       "268   -0.9742            -16.0               0.062          0.88  165      0   \n",
       "676    0.9604              7.0               0.083          0.98  100      0   \n",
       "..        ...              ...                 ...           ...  ...    ...   \n",
       "953   -0.9893            -18.0              -0.167          0.50    0      0   \n",
       "395   -0.9662            -11.0              -0.036          0.50    0      0   \n",
       "628    0.9936             31.0               0.277          0.50    0      0   \n",
       "862   -0.9930            -38.0              -0.112          0.50    0      0   \n",
       "502   -0.9690            -18.0              -0.261          0.50    0      0   \n",
       "\n",
       "     score  \n",
       "588    436  \n",
       "888    231  \n",
       "163    165  \n",
       "268    165  \n",
       "676    100  \n",
       "..     ...  \n",
       "953      0  \n",
       "395      0  \n",
       "628      0  \n",
       "862      0  \n",
       "502      0  \n",
       "\n",
       "[993 rows x 7 columns]"
      ]
     },
     "execution_count": 47,
     "metadata": {},
     "output_type": "execute_result"
    }
   ],
   "source": [
    "test.sort_values(by='ups', ascending=False)"
   ]
  },
  {
   "cell_type": "code",
   "execution_count": null,
   "metadata": {},
   "outputs": [],
   "source": [
    "#  # Select relevant columns from the dataframe\n",
    "# metrics = test[['compound', 'sentiment_score', 'sentiment_score_tb', 'upvote_ratio', 'ups', 'downs', 'score']]\n",
    "# # Create a pairplot\n",
    "# sns.pairplot(metrics)\n",
    "# plt.tight_layout()\n",
    "# plt.show()"
   ]
  },
  {
   "attachments": {},
   "cell_type": "markdown",
   "metadata": {},
   "source": [
    "### Roberta Pretrained Model"
   ]
  },
  {
   "cell_type": "code",
   "execution_count": 33,
   "metadata": {},
   "outputs": [],
   "source": [
    "from transformers import AutoTokenizer"
   ]
  },
  {
   "cell_type": "code",
   "execution_count": 34,
   "metadata": {},
   "outputs": [],
   "source": [
    "from transformers import AutoModelForSequenceClassification"
   ]
  },
  {
   "cell_type": "code",
   "execution_count": 35,
   "metadata": {},
   "outputs": [],
   "source": [
    "from scipy.special import softmax"
   ]
  },
  {
   "cell_type": "code",
   "execution_count": 36,
   "metadata": {},
   "outputs": [
    {
     "name": "stdout",
     "output_type": "stream",
     "text": [
      "tensor([[0.9474, 0.3400, 0.5308],\n",
      "        [0.3405, 0.6953, 0.9809],\n",
      "        [0.6106, 0.4936, 0.4941],\n",
      "        [0.9493, 0.6740, 0.2293],\n",
      "        [0.2984, 0.8771, 0.0302]])\n"
     ]
    }
   ],
   "source": [
    "import torch\n",
    "x = torch.rand(5, 3)\n",
    "print(x)"
   ]
  },
  {
   "cell_type": "code",
   "execution_count": 37,
   "metadata": {},
   "outputs": [],
   "source": [
    "MODEL = f\"cardiffnlp/twitter-roberta-base-sentiment\"\n",
    "tokenizer = AutoTokenizer.from_pretrained(MODEL)\n",
    "model = AutoModelForSequenceClassification.from_pretrained(MODEL)"
   ]
  },
  {
   "cell_type": "code",
   "execution_count": 38,
   "metadata": {},
   "outputs": [],
   "source": [
    "def polarity_scores_roberta(text, max_length=512):\n",
    "    # Tokenize the input text using the AutoTokenizer\n",
    "    inputs = tokenizer(text, return_tensors='pt', max_length=max_length, truncation=True)\n",
    "\n",
    "   # Check if the input was truncated\n",
    "    if len(inputs['input_ids'][0]) >= max_length:\n",
    "        print(f'Warning: Input text truncated for id: {myid}')\n",
    "        \n",
    "    # Ensure that 'input_ids' and 'attention_mask' are present in inputs\n",
    "    if 'input_ids' in inputs and 'attention_mask' in inputs:\n",
    "        # Call the RoBERTa model\n",
    "        with torch.no_grad():\n",
    "            output = model(**inputs)\n",
    "        scores = output[0][0].detach().numpy()\n",
    "        scores = softmax(scores, axis=0).tolist()\n",
    "    \n",
    "    # Define labels for sentiment classes\n",
    "        labels = ['negative', 'neutral', 'positive']\n",
    "        \n",
    "        # Create a dictionary of sentiment scores\n",
    "        scores_dict = {f'roberta_{label}': score for label, score in zip(labels, scores)}\n",
    "        \n",
    "        return scores_dict\n",
    "    else:\n",
    "        raise ValueError('Input tensor dimensions are invalid')"
   ]
  },
  {
   "cell_type": "code",
   "execution_count": null,
   "metadata": {},
   "outputs": [],
   "source": [
    "# def polarity_scores_roberta(text):\n",
    "#     encoded_text = tokenizer(text, return_tensors='pt')\n",
    "#     output = model(**encoded_text)\n",
    "#     scores = output[0][0].detach().numpy()\n",
    "#     scores = softmax(scores)\n",
    "#     scores_dict = {\n",
    "#         'roberta_neg' : scores[0],\n",
    "#         'roberta_neu' : scores[1],\n",
    "#         'roberta_pos' : scores[2]\n",
    "#     }\n",
    "#     return scores_dict"
   ]
  },
  {
   "cell_type": "code",
   "execution_count": 39,
   "metadata": {},
   "outputs": [
    {
     "data": {
      "application/vnd.jupyter.widget-view+json": {
       "model_id": "65ff6794107f45bb96969eb46d4286a8",
       "version_major": 2,
       "version_minor": 0
      },
      "text/plain": [
       "  0%|          | 0/993 [00:00<?, ?it/s]"
      ]
     },
     "metadata": {},
     "output_type": "display_data"
    }
   ],
   "source": [
    "truncated_indices = []\n",
    "res = {}\n",
    "for i, row in tqdm(data.iterrows(), total=len(data)):\n",
    "    try:\n",
    "        text = row['cleaned']\n",
    "        myid = row['id']\n",
    "        \n",
    "        # Calculate RoBERTa polarity scores\n",
    "        roberta_result = polarity_scores_roberta(text)\n",
    "        \n",
    "        # Process Vader results\n",
    "        vader_result = sia.polarity_scores(text)\n",
    "        vader_result_rename = {}\n",
    "        for key, value in vader_result.items():\n",
    "            vader_result_rename[f\"vader_{key}\"] = value\n",
    "            \n",
    "        # Combine Vader and RoBERTa results\n",
    "        both = {**vader_result_rename, **roberta_result}\n",
    "        res[myid] = both\n",
    "    except RuntimeError:\n",
    "        print(f'Broke for id {myid}')\n",
    "        truncated_indices.append(i)"
   ]
  },
  {
   "cell_type": "code",
   "execution_count": 40,
   "metadata": {},
   "outputs": [],
   "source": [
    "results_df = pd.DataFrame(res).T\n",
    "results_df = results_df.reset_index().rename(columns={'index': 'id'})\n",
    "results_df = results_df.merge(data, how='left')"
   ]
  },
  {
   "cell_type": "code",
   "execution_count": 41,
   "metadata": {},
   "outputs": [
    {
     "data": {
      "text/html": [
       "<div>\n",
       "<style scoped>\n",
       "    .dataframe tbody tr th:only-of-type {\n",
       "        vertical-align: middle;\n",
       "    }\n",
       "\n",
       "    .dataframe tbody tr th {\n",
       "        vertical-align: top;\n",
       "    }\n",
       "\n",
       "    .dataframe thead th {\n",
       "        text-align: right;\n",
       "    }\n",
       "</style>\n",
       "<table border=\"1\" class=\"dataframe\">\n",
       "  <thead>\n",
       "    <tr style=\"text-align: right;\">\n",
       "      <th></th>\n",
       "      <th>id</th>\n",
       "      <th>vader_neg</th>\n",
       "      <th>vader_neu</th>\n",
       "      <th>vader_pos</th>\n",
       "      <th>vader_compound</th>\n",
       "      <th>roberta_negative</th>\n",
       "      <th>roberta_neutral</th>\n",
       "      <th>roberta_positive</th>\n",
       "      <th>subreddit</th>\n",
       "      <th>title</th>\n",
       "      <th>...</th>\n",
       "      <th>downs</th>\n",
       "      <th>score</th>\n",
       "      <th>link_flair_css_class</th>\n",
       "      <th>created_utc</th>\n",
       "      <th>kind</th>\n",
       "      <th>cleaned</th>\n",
       "      <th>sentiment_score</th>\n",
       "      <th>sentiment_category</th>\n",
       "      <th>sentiment_score_tb</th>\n",
       "      <th>sentiment_category_tb</th>\n",
       "    </tr>\n",
       "  </thead>\n",
       "  <tbody>\n",
       "    <tr>\n",
       "      <th>0</th>\n",
       "      <td>1</td>\n",
       "      <td>0.0</td>\n",
       "      <td>0.714</td>\n",
       "      <td>0.286</td>\n",
       "      <td>0.2500</td>\n",
       "      <td>0.244444</td>\n",
       "      <td>0.722632</td>\n",
       "      <td>0.032924</td>\n",
       "      <td>politics</td>\n",
       "      <td>Trump Jokes About How Longtime Aide Could End ...</td>\n",
       "      <td>...</td>\n",
       "      <td>0</td>\n",
       "      <td>3</td>\n",
       "      <td>None</td>\n",
       "      <td>2024-04-12T09:54:31Z</td>\n",
       "      <td>t3</td>\n",
       "      <td>jokes longtime aide end career flash</td>\n",
       "      <td>2.0</td>\n",
       "      <td>positive</td>\n",
       "      <td>0.00</td>\n",
       "      <td>neutral</td>\n",
       "    </tr>\n",
       "    <tr>\n",
       "      <th>1</th>\n",
       "      <td>2</td>\n",
       "      <td>0.2</td>\n",
       "      <td>0.571</td>\n",
       "      <td>0.229</td>\n",
       "      <td>0.0772</td>\n",
       "      <td>0.708862</td>\n",
       "      <td>0.284540</td>\n",
       "      <td>0.006598</td>\n",
       "      <td>politics</td>\n",
       "      <td>US to probe if Chinese cars pose national data...</td>\n",
       "      <td>...</td>\n",
       "      <td>0</td>\n",
       "      <td>4</td>\n",
       "      <td>None</td>\n",
       "      <td>2024-04-12T09:41:11Z</td>\n",
       "      <td>t3</td>\n",
       "      <td>probe chinese cars pose national data security...</td>\n",
       "      <td>-2.0</td>\n",
       "      <td>negative</td>\n",
       "      <td>0.00</td>\n",
       "      <td>neutral</td>\n",
       "    </tr>\n",
       "    <tr>\n",
       "      <th>2</th>\n",
       "      <td>3</td>\n",
       "      <td>0.0</td>\n",
       "      <td>1.000</td>\n",
       "      <td>0.000</td>\n",
       "      <td>0.0000</td>\n",
       "      <td>0.170424</td>\n",
       "      <td>0.813924</td>\n",
       "      <td>0.015652</td>\n",
       "      <td>politics</td>\n",
       "      <td>Irish taoiseach and Spanish PM to discuss Pale...</td>\n",
       "      <td>...</td>\n",
       "      <td>0</td>\n",
       "      <td>1</td>\n",
       "      <td>None</td>\n",
       "      <td>2024-04-12T09:09:41Z</td>\n",
       "      <td>t3</td>\n",
       "      <td>irish taoiseach spanish pm discuss palestine n...</td>\n",
       "      <td>0.0</td>\n",
       "      <td>neutral</td>\n",
       "      <td>0.00</td>\n",
       "      <td>neutral</td>\n",
       "    </tr>\n",
       "    <tr>\n",
       "      <th>3</th>\n",
       "      <td>4</td>\n",
       "      <td>0.0</td>\n",
       "      <td>1.000</td>\n",
       "      <td>0.000</td>\n",
       "      <td>0.0000</td>\n",
       "      <td>0.543869</td>\n",
       "      <td>0.430398</td>\n",
       "      <td>0.025733</td>\n",
       "      <td>politics</td>\n",
       "      <td>Why Trump’s ‘hush money’ case is bigger than h...</td>\n",
       "      <td>...</td>\n",
       "      <td>0</td>\n",
       "      <td>15</td>\n",
       "      <td>None</td>\n",
       "      <td>2024-04-12T09:01:51Z</td>\n",
       "      <td>t3</td>\n",
       "      <td>‘hush money’ case bigger hush money</td>\n",
       "      <td>0.0</td>\n",
       "      <td>neutral</td>\n",
       "      <td>0.00</td>\n",
       "      <td>neutral</td>\n",
       "    </tr>\n",
       "    <tr>\n",
       "      <th>4</th>\n",
       "      <td>5</td>\n",
       "      <td>0.0</td>\n",
       "      <td>1.000</td>\n",
       "      <td>0.000</td>\n",
       "      <td>0.0000</td>\n",
       "      <td>0.017069</td>\n",
       "      <td>0.682633</td>\n",
       "      <td>0.300298</td>\n",
       "      <td>politics</td>\n",
       "      <td>1864 AZ Speaker of the house who helped pass t...</td>\n",
       "      <td>...</td>\n",
       "      <td>0</td>\n",
       "      <td>35</td>\n",
       "      <td>None</td>\n",
       "      <td>2024-04-12T08:20:41Z</td>\n",
       "      <td>t3</td>\n",
       "      <td>1864 az speaker helped pass law 5 very young w...</td>\n",
       "      <td>0.0</td>\n",
       "      <td>neutral</td>\n",
       "      <td>0.13</td>\n",
       "      <td>positive</td>\n",
       "    </tr>\n",
       "  </tbody>\n",
       "</table>\n",
       "<p>5 rows × 23 columns</p>\n",
       "</div>"
      ],
      "text/plain": [
       "   id  vader_neg  vader_neu  vader_pos  vader_compound  roberta_negative  \\\n",
       "0   1        0.0      0.714      0.286          0.2500          0.244444   \n",
       "1   2        0.2      0.571      0.229          0.0772          0.708862   \n",
       "2   3        0.0      1.000      0.000          0.0000          0.170424   \n",
       "3   4        0.0      1.000      0.000          0.0000          0.543869   \n",
       "4   5        0.0      1.000      0.000          0.0000          0.017069   \n",
       "\n",
       "   roberta_neutral  roberta_positive subreddit  \\\n",
       "0         0.722632          0.032924  politics   \n",
       "1         0.284540          0.006598  politics   \n",
       "2         0.813924          0.015652  politics   \n",
       "3         0.430398          0.025733  politics   \n",
       "4         0.682633          0.300298  politics   \n",
       "\n",
       "                                               title  ... downs  score  \\\n",
       "0  Trump Jokes About How Longtime Aide Could End ...  ...     0      3   \n",
       "1  US to probe if Chinese cars pose national data...  ...     0      4   \n",
       "2  Irish taoiseach and Spanish PM to discuss Pale...  ...     0      1   \n",
       "3  Why Trump’s ‘hush money’ case is bigger than h...  ...     0     15   \n",
       "4  1864 AZ Speaker of the house who helped pass t...  ...     0     35   \n",
       "\n",
       "   link_flair_css_class           created_utc  kind  \\\n",
       "0                  None  2024-04-12T09:54:31Z    t3   \n",
       "1                  None  2024-04-12T09:41:11Z    t3   \n",
       "2                  None  2024-04-12T09:09:41Z    t3   \n",
       "3                  None  2024-04-12T09:01:51Z    t3   \n",
       "4                  None  2024-04-12T08:20:41Z    t3   \n",
       "\n",
       "                                             cleaned sentiment_score  \\\n",
       "0               jokes longtime aide end career flash             2.0   \n",
       "1  probe chinese cars pose national data security...            -2.0   \n",
       "2  irish taoiseach spanish pm discuss palestine n...             0.0   \n",
       "3                ‘hush money’ case bigger hush money             0.0   \n",
       "4  1864 az speaker helped pass law 5 very young w...             0.0   \n",
       "\n",
       "  sentiment_category sentiment_score_tb  sentiment_category_tb  \n",
       "0           positive               0.00                neutral  \n",
       "1           negative               0.00                neutral  \n",
       "2            neutral               0.00                neutral  \n",
       "3            neutral               0.00                neutral  \n",
       "4            neutral               0.13               positive  \n",
       "\n",
       "[5 rows x 23 columns]"
      ]
     },
     "execution_count": 41,
     "metadata": {},
     "output_type": "execute_result"
    }
   ],
   "source": [
    "results_df.head()"
   ]
  },
  {
   "attachments": {},
   "cell_type": "markdown",
   "metadata": {},
   "source": [
    "# Political Bias"
   ]
  },
  {
   "cell_type": "code",
   "execution_count": 42,
   "metadata": {},
   "outputs": [],
   "source": [
    "labelled_data = []"
   ]
  },
  {
   "cell_type": "code",
   "execution_count": 43,
   "metadata": {},
   "outputs": [],
   "source": [
    "center_dir = '/Users/surajkwork/Documents/Projects/subredditpoliticalbias/AllSides/Center Data'\n",
    "left_dir = '/Users/surajkwork/Documents/Projects/subredditpoliticalbias/AllSides/Left Data'\n",
    "right_dir = '/Users/surajkwork/Documents/Projects/subredditpoliticalbias/AllSides/Right Data'\n"
   ]
  },
  {
   "cell_type": "code",
   "execution_count": 45,
   "metadata": {},
   "outputs": [
    {
     "data": {
      "text/html": [
       "<div>\n",
       "<style scoped>\n",
       "    .dataframe tbody tr th:only-of-type {\n",
       "        vertical-align: middle;\n",
       "    }\n",
       "\n",
       "    .dataframe tbody tr th {\n",
       "        vertical-align: top;\n",
       "    }\n",
       "\n",
       "    .dataframe thead th {\n",
       "        text-align: right;\n",
       "    }\n",
       "</style>\n",
       "<table border=\"1\" class=\"dataframe\">\n",
       "  <thead>\n",
       "    <tr style=\"text-align: right;\">\n",
       "      <th></th>\n",
       "      <th>text</th>\n",
       "      <th>bias</th>\n",
       "    </tr>\n",
       "  </thead>\n",
       "  <tbody>\n",
       "    <tr>\n",
       "      <th>0</th>\n",
       "      <td>The Trump administration is shattering a grues...</td>\n",
       "      <td>Center</td>\n",
       "    </tr>\n",
       "    <tr>\n",
       "      <th>1</th>\n",
       "      <td>...</td>\n",
       "      <td>Center</td>\n",
       "    </tr>\n",
       "    <tr>\n",
       "      <th>2</th>\n",
       "      <td>WASHINGTON (AP) — AstraZeneca reported Monday ...</td>\n",
       "      <td>Center</td>\n",
       "    </tr>\n",
       "    <tr>\n",
       "      <th>3</th>\n",
       "      <td>Donald Trump says the government should get a ...</td>\n",
       "      <td>Center</td>\n",
       "    </tr>\n",
       "    <tr>\n",
       "      <th>4</th>\n",
       "      <td>\\tBefore the highly-anticipated fi...</td>\n",
       "      <td>Center</td>\n",
       "    </tr>\n",
       "  </tbody>\n",
       "</table>\n",
       "</div>"
      ],
      "text/plain": [
       "                                                text    bias\n",
       "0  The Trump administration is shattering a grues...  Center\n",
       "1                                                ...  Center\n",
       "2  WASHINGTON (AP) — AstraZeneca reported Monday ...  Center\n",
       "3  Donald Trump says the government should get a ...  Center\n",
       "4              \\tBefore the highly-anticipated fi...  Center"
      ]
     },
     "execution_count": 45,
     "metadata": {},
     "output_type": "execute_result"
    }
   ],
   "source": [
    "\n",
    "# Loop over the files in the Center Data folder and extract their content\n",
    "for filename in os.listdir(center_dir):\n",
    "    with open(os.path.join(center_dir, filename), 'r') as f:\n",
    "        content = f.read()\n",
    "        labelled_data.append({'text': content, 'bias': 'Center'})\n",
    "\n",
    "# Loop over the files in the Left Data folder and extract their content\n",
    "for filename in os.listdir(left_dir):\n",
    "    with open(os.path.join(left_dir, filename), 'r') as f:\n",
    "        content = f.read()\n",
    "        labelled_data.append({'text': content, 'bias': 'Left'})\n",
    "\n",
    "# Loop over the files in the Right Data folder and extract their content\n",
    "for filename in os.listdir(right_dir):\n",
    "    with open(os.path.join(right_dir, filename), 'r') as f:\n",
    "        content = f.read()\n",
    "        labelled_data.append({'text': content, 'bias': 'Right'})\n",
    "\n",
    "# Create a Pandas DataFrame from the data\n",
    "df = pd.concat([pd.DataFrame([d]) for d in labelled_data], ignore_index=True)\n",
    "\n",
    "df.head()"
   ]
  },
  {
   "cell_type": "code",
   "execution_count": 46,
   "metadata": {},
   "outputs": [
    {
     "name": "stdout",
     "output_type": "stream",
     "text": [
      "Average number of words per row: 964.3370579426334\n"
     ]
    }
   ],
   "source": [
    "# Calculate the number of words in each row\n",
    "df['word_count'] = df['text'].apply(lambda x: len(str(x).split()))\n",
    "\n",
    "# Calculate the average number of words\n",
    "average_word_count = np.mean(df['word_count'])\n",
    "\n",
    "print(\"Average number of words per row:\", average_word_count)"
   ]
  },
  {
   "cell_type": "code",
   "execution_count": 47,
   "metadata": {},
   "outputs": [],
   "source": [
    "df = df.iloc[np.random.permutation(len(df))]\n"
   ]
  },
  {
   "cell_type": "code",
   "execution_count": 48,
   "metadata": {},
   "outputs": [
    {
     "data": {
      "text/plain": [
       "Left      7803\n",
       "Right     5563\n",
       "Center    3996\n",
       "Name: bias, dtype: int64"
      ]
     },
     "execution_count": 48,
     "metadata": {},
     "output_type": "execute_result"
    }
   ],
   "source": [
    "df['bias'].value_counts()"
   ]
  },
  {
   "cell_type": "code",
   "execution_count": 49,
   "metadata": {},
   "outputs": [],
   "source": [
    "df['bias'] = df['bias'].replace(['Left','Center','Right'],[0,1,2])"
   ]
  },
  {
   "cell_type": "code",
   "execution_count": 50,
   "metadata": {},
   "outputs": [
    {
     "data": {
      "image/png": "[encoded data removed]",
      "text/plain": [
       "<Figure size 640x480 with 1 Axes>"
      ]
     },
     "metadata": {},
     "output_type": "display_data"
    }
   ],
   "source": [
    "bias_vals = df['bias'].value_counts()\n",
    "plt.figure()\n",
    "sns.barplot(x=bias_vals.index, y=bias_vals.values)\n",
    "plt.show();"
   ]
  },
  {
   "cell_type": "code",
   "execution_count": 56,
   "metadata": {},
   "outputs": [],
   "source": [
    "def clean(text):\n",
    "    text = BeautifulSoup(text, \"lxml\").text\n",
    "    text = re.sub(r'\\|\\|\\|', r' ', text) \n",
    "    text = text.replace('„','')\n",
    "    text = text.replace('“','')\n",
    "    text = text.replace('\"','')\n",
    "    text = text.replace('\\'','')\n",
    "    text = text.replace('-','')\n",
    "    text = text.lower()\n",
    "    return text\n",
    "def remove_stopwords(content):\n",
    "    for word in stop:\n",
    "        content = content.replace(' '+word+' ',' ')\n",
    "    return content\n",
    "df['text'] = df['text'].apply(clean)\n",
    "df['text'] = df['text'].apply(remove_stopwords)"
   ]
  },
  {
   "cell_type": "code",
   "execution_count": 58,
   "metadata": {},
   "outputs": [],
   "source": [
    "train, test = train_test_split(df, test_size=0.2)"
   ]
  },
  {
   "attachments": {},
   "cell_type": "markdown",
   "metadata": {},
   "source": [
    "Now we take each of the train and test sets and tokenize them. \n",
    "First a function that tokenizes the text by first using the nltk.sent_tokenize() function to split the text into sentences and then the nltk.word_tokenize() function to split each sentence into words. \n",
    "Also checks if the length of each word is less than 3, and if it is, it skips that word. And then it appends the lower-cased word to a list of tokens.\n",
    "\n",
    "The function is then applied to the train and test dataframes. For each row in the dataframe, the resulting tokens are passed as the words argument to the TaggedDocument() constructor along with the corresponding bias label. The resulting TaggedDocument objects are collected in a list and stored in the train_tagged and test_tagged variables. These TaggedDocument objects are used as input to train the Doc2Vec model, where each document in the dataset is represented by a unique vector."
   ]
  },
  {
   "cell_type": "code",
   "execution_count": 28,
   "metadata": {},
   "outputs": [],
   "source": [
    "def tokenize_text(text):\n",
    "    tokens = []\n",
    "    for sent in nltk.sent_tokenize(text):\n",
    "        for word in nltk.word_tokenize(sent):\n",
    "            if len(word) < 3:\n",
    "                continue\n",
    "            tokens.append(word.lower())\n",
    "    return tokens"
   ]
  },
  {
   "cell_type": "code",
   "execution_count": 27,
   "metadata": {},
   "outputs": [
    {
     "ename": "NameError",
     "evalue": "name 'train' is not defined",
     "output_type": "error",
     "traceback": [
      "\u001b[0;31m---------------------------------------------------------------------------\u001b[0m",
      "\u001b[0;31mNameError\u001b[0m                                 Traceback (most recent call last)",
      "Cell \u001b[0;32mIn[27], line 9\u001b[0m\n\u001b[1;32m      7\u001b[0m            tokens\u001b[39m.\u001b[39mappend(word\u001b[39m.\u001b[39mlower())\n\u001b[1;32m      8\u001b[0m    \u001b[39mreturn\u001b[39;00m tokens\n\u001b[0;32m----> 9\u001b[0m train_tagged \u001b[39m=\u001b[39m train\u001b[39m.\u001b[39mapply(\n\u001b[1;32m     10\u001b[0m   \u001b[39mlambda\u001b[39;00m r: TaggedDocument(words\u001b[39m=\u001b[39mtokenize_text(r[\u001b[39m'\u001b[39m\u001b[39mtext\u001b[39m\u001b[39m'\u001b[39m]), tags\u001b[39m=\u001b[39m [r\u001b[39m.\u001b[39mbias]), axis\u001b[39m=\u001b[39m\u001b[39m1\u001b[39m)\n\u001b[1;32m     11\u001b[0m test_tagged \u001b[39m=\u001b[39m test\u001b[39m.\u001b[39mapply(\n\u001b[1;32m     12\u001b[0m   \u001b[39mlambda\u001b[39;00m r: TaggedDocument(words\u001b[39m=\u001b[39mtokenize_text(r[\u001b[39m'\u001b[39m\u001b[39mtext\u001b[39m\u001b[39m'\u001b[39m]), tags\u001b[39m=\u001b[39m[r\u001b[39m.\u001b[39mbias]), axis\u001b[39m=\u001b[39m\u001b[39m1\u001b[39m)\n",
      "\u001b[0;31mNameError\u001b[0m: name 'train' is not defined"
     ]
    }
   ],
   "source": [
    " \n",
    "train_tagged = train.apply(\n",
    "   lambda r: TaggedDocument(words=tokenize_text(r['text']), tags= [r.bias]), axis=1)\n",
    "test_tagged = test.apply(\n",
    "   lambda r: TaggedDocument(words=tokenize_text(r['text']), tags=[r.bias]), axis=1)"
   ]
  },
  {
   "attachments": {},
   "cell_type": "markdown",
   "metadata": {},
   "source": [
    "## Doc2Vec Feature Vector Generation \n",
    "The Doc2Vec algorithms encodes a whole document of text into a vector of the size we choose, as opposed to individual words. The Doc2Vec vectors are able to represent the theme or overall meaning of a document. It uses the word similarities learned during training to construct a vector that will predict the words in a new document."
   ]
  },
  {
   "cell_type": "code",
   "execution_count": 63,
   "metadata": {},
   "outputs": [],
   "source": [
    "cores = multiprocessing.cpu_count()\n",
    "model = Doc2Vec(dm=0, vector_size=300, negative=5, hs=0, sample=0, min_count=2, workers=cores)"
   ]
  },
  {
   "cell_type": "code",
   "execution_count": 66,
   "metadata": {},
   "outputs": [],
   "source": [
    "model.build_vocab(train_tagged.values)\n",
    "model.train(utils.shuffle(train_tagged.values),\n",
    "total_examples=len(train_tagged.values),epochs=30)\n",
    "\n",
    "model.save(\"doc2vec_articles.model\")"
   ]
  },
  {
   "attachments": {},
   "cell_type": "markdown",
   "metadata": {},
   "source": [
    "Now I want a function which takes in a trained Doc2Vec model and the set of tagged documents to create two arrays, classes and features.\n",
    "\n",
    "For each tagged document in sents, the code will call model.infer_vector() method to generate a feature vector for that document. The feature vector is then added to the features array, and the class label for the document (i.e. the bias in this case) is added to the classes array."
   ]
  },
  {
   "cell_type": "code",
   "execution_count": 70,
   "metadata": {},
   "outputs": [],
   "source": [
    "def vec_for_learning(model, tagged_docs):\n",
    "    sents = tagged_docs.values\n",
    "    classes, features = zip(*[(doc.tags[0], model.infer_vector(doc.words)) for doc in sents])\n",
    "    return features, classes\n"
   ]
  },
  {
   "cell_type": "code",
   "execution_count": null,
   "metadata": {},
   "outputs": [],
   "source": [
    "# PV_DBOW encoded text\n",
    "train_x, train_y = vec_for_learning(model, train_tagged)\n",
    "test_x, test_y = vec_for_learning(model, test_tagged)"
   ]
  },
  {
   "attachments": {},
   "cell_type": "markdown",
   "metadata": {},
   "source": [
    "## Classification Models "
   ]
  },
  {
   "cell_type": "code",
   "execution_count": 71,
   "metadata": {},
   "outputs": [],
   "source": [
    "from sklearn.naive_bayes import GaussianNB"
   ]
  },
  {
   "cell_type": "code",
   "execution_count": 72,
   "metadata": {},
   "outputs": [
    {
     "name": "stdout",
     "output_type": "stream",
     "text": [
      "0.6651310106536136\n"
     ]
    }
   ],
   "source": [
    "bayes = GaussianNB()\n",
    "bayes.fit(train_x,train_y)\n",
    "\n",
    "def acc(true, pred):\n",
    "  acc = 0\n",
    "  for x,y in zip(true,pred):\n",
    "    if(x == y): acc += 1\n",
    "  return acc/len(pred)\n",
    "print(acc(test_y,bayes.predict(test_x)))\n"
   ]
  },
  {
   "cell_type": "code",
   "execution_count": 73,
   "metadata": {},
   "outputs": [],
   "source": [
    "from sklearn.ensemble import RandomForestClassifier\n"
   ]
  },
  {
   "cell_type": "code",
   "execution_count": 74,
   "metadata": {},
   "outputs": [
    {
     "name": "stdout",
     "output_type": "stream",
     "text": [
      "0.6553412035704003\n"
     ]
    }
   ],
   "source": [
    "forest = RandomForestClassifier(n_estimators=50)\n",
    "forest.fit(train_x,train_y)\n",
    "print(acc(test_y,forest.predict(test_x)))\n"
   ]
  },
  {
   "cell_type": "code",
   "execution_count": 39,
   "metadata": {},
   "outputs": [],
   "source": [
    "from sklearn.svm import SVC\n"
   ]
  },
  {
   "cell_type": "code",
   "execution_count": 41,
   "metadata": {},
   "outputs": [
    {
     "ename": "NameError",
     "evalue": "name 'train_x' is not defined",
     "output_type": "error",
     "traceback": [
      "\u001b[0;31m---------------------------------------------------------------------------\u001b[0m",
      "\u001b[0;31mNameError\u001b[0m                                 Traceback (most recent call last)",
      "Cell \u001b[0;32mIn[41], line 3\u001b[0m\n\u001b[1;32m      1\u001b[0m svc \u001b[39m=\u001b[39m SVC()\n\u001b[0;32m----> 3\u001b[0m svc\u001b[39m.\u001b[39mfit(train_x,train_y)\n\u001b[1;32m      4\u001b[0m \u001b[39mprint\u001b[39m(acc(test_y,svc\u001b[39m.\u001b[39mpredict(test_x)))\n",
      "\u001b[0;31mNameError\u001b[0m: name 'train_x' is not defined"
     ]
    }
   ],
   "source": [
    "svc = SVC()\n",
    "\n",
    "svc.fit(train_x,train_y)\n",
    "print(acc(test_y,svc.predict(test_x)))"
   ]
  },
  {
   "attachments": {},
   "cell_type": "markdown",
   "metadata": {},
   "source": [
    "Since the Support Vector classifier has the best results on the test data set, we will use this to predict the biases for the subreddit texts."
   ]
  },
  {
   "attachments": {},
   "cell_type": "markdown",
   "metadata": {},
   "source": [
    "Let's create a new column for label, which will be necessary for the tagging process, and also for generating the final predictions."
   ]
  },
  {
   "cell_type": "code",
   "execution_count": 25,
   "metadata": {},
   "outputs": [],
   "source": [
    "data['Label'] = 0\n"
   ]
  },
  {
   "attachments": {},
   "cell_type": "markdown",
   "metadata": {},
   "source": [
    "THIS STEP IS WRONG. IT TAGS WORDS WITH A LABEL."
   ]
  },
  {
   "cell_type": "code",
   "execution_count": 36,
   "metadata": {},
   "outputs": [
    {
     "data": {
      "text/plain": [
       "0               iran launched drone attacks officials say\n",
       "1       jordan temporarily closes airspace amid fears ...\n",
       "2            closing airspace braces iranian drone attack\n",
       "3       statement nsc spokesperson adrienne watson ira...\n",
       "4       germany give financial compensation holocaust ...\n",
       "                              ...                        \n",
       "4790    something want tell friends andor family afrai...\n",
       "4791                                 best advice received\n",
       "4792                                     expats miss home\n",
       "4793      kids play outside anymore even using technology\n",
       "4794                    you’re good person pretend be not\n",
       "Name: cleaned, Length: 4795, dtype: object"
      ]
     },
     "execution_count": 36,
     "metadata": {},
     "output_type": "execute_result"
    }
   ],
   "source": [
    "data['cleaned']"
   ]
  },
  {
   "cell_type": "code",
   "execution_count": 37,
   "metadata": {},
   "outputs": [
    {
     "data": {
      "text/plain": [
       "0     [iran, launched, drone, attacks, officials, say]\n",
       "1    [jordan, temporarily, closes, airspace, amid, ...\n",
       "2    [closing, airspace, braces, iranian, drone, at...\n",
       "3    [statement, nsc, spokesperson, adrienne, watso...\n",
       "4    [germany, give, financial, compensation, holoc...\n",
       "dtype: object"
      ]
     },
     "execution_count": 37,
     "metadata": {},
     "output_type": "execute_result"
    }
   ],
   "source": [
    "data_tokenized = data.apply(lambda r: tokenize_text(r['cleaned']), axis=1)\n",
    "\n",
    "# data_tokenized = tokenize_text(data['cleaned'])\n",
    "data_tokenized.head()\n"
   ]
  },
  {
   "attachments": {},
   "cell_type": "markdown",
   "metadata": {},
   "source": [
    "THIS STEP IS WRONG AS WELL. IT CALLS VEC_FOR_LEARNING WHICH INFERS SOMETHING FROM THE DOC2VEC MODEL. \n",
    "NEED TO RELOOK."
   ]
  },
  {
   "cell_type": "code",
   "execution_count": 40,
   "metadata": {},
   "outputs": [
    {
     "ename": "NameError",
     "evalue": "name 'svc' is not defined",
     "output_type": "error",
     "traceback": [
      "\u001b[0;31m---------------------------------------------------------------------------\u001b[0m",
      "\u001b[0;31mNameError\u001b[0m                                 Traceback (most recent call last)",
      "Cell \u001b[0;32mIn[40], line 1\u001b[0m\n\u001b[0;32m----> 1\u001b[0m bias \u001b[39m=\u001b[39m svc\u001b[39m.\u001b[39mpredict(data_tokenized)\n",
      "\u001b[0;31mNameError\u001b[0m: name 'svc' is not defined"
     ]
    }
   ],
   "source": [
    "bias = svc.predict(data_tokenized)\n"
   ]
  },
  {
   "cell_type": "code",
   "execution_count": 100,
   "metadata": {},
   "outputs": [
    {
     "data": {
      "text/plain": [
       "0.756294058408862"
      ]
     },
     "execution_count": 100,
     "metadata": {},
     "output_type": "execute_result"
    }
   ],
   "source": [
    "bias.mean()"
   ]
  },
  {
   "cell_type": "code",
   "execution_count": 101,
   "metadata": {},
   "outputs": [
    {
     "data": {
      "text/html": [
       "<div>\n",
       "<style scoped>\n",
       "    .dataframe tbody tr th:only-of-type {\n",
       "        vertical-align: middle;\n",
       "    }\n",
       "\n",
       "    .dataframe tbody tr th {\n",
       "        vertical-align: top;\n",
       "    }\n",
       "\n",
       "    .dataframe thead th {\n",
       "        text-align: right;\n",
       "    }\n",
       "</style>\n",
       "<table border=\"1\" class=\"dataframe\">\n",
       "  <thead>\n",
       "    <tr style=\"text-align: right;\">\n",
       "      <th></th>\n",
       "      <th>id</th>\n",
       "      <th>subreddit</th>\n",
       "      <th>title</th>\n",
       "      <th>selftext</th>\n",
       "      <th>upvote_ratio</th>\n",
       "      <th>ups</th>\n",
       "      <th>downs</th>\n",
       "      <th>score</th>\n",
       "      <th>link_flair_css_class</th>\n",
       "      <th>created_utc</th>\n",
       "      <th>kind</th>\n",
       "      <th>cleaned</th>\n",
       "      <th>Label</th>\n",
       "    </tr>\n",
       "  </thead>\n",
       "  <tbody>\n",
       "    <tr>\n",
       "      <th>0</th>\n",
       "      <td>1</td>\n",
       "      <td>politics</td>\n",
       "      <td>Trump Jokes About How Longtime Aide Could End ...</td>\n",
       "      <td></td>\n",
       "      <td>1.00</td>\n",
       "      <td>3</td>\n",
       "      <td>0</td>\n",
       "      <td>3</td>\n",
       "      <td>None</td>\n",
       "      <td>2024-04-12T09:54:31Z</td>\n",
       "      <td>t3</td>\n",
       "      <td>trump jokes longtime aide end career flash</td>\n",
       "      <td>0</td>\n",
       "    </tr>\n",
       "    <tr>\n",
       "      <th>1</th>\n",
       "      <td>2</td>\n",
       "      <td>politics</td>\n",
       "      <td>US to probe if Chinese cars pose national data...</td>\n",
       "      <td></td>\n",
       "      <td>1.00</td>\n",
       "      <td>4</td>\n",
       "      <td>0</td>\n",
       "      <td>4</td>\n",
       "      <td>None</td>\n",
       "      <td>2024-04-12T09:41:11Z</td>\n",
       "      <td>t3</td>\n",
       "      <td>us probe chinese cars pose national data secur...</td>\n",
       "      <td>2</td>\n",
       "    </tr>\n",
       "    <tr>\n",
       "      <th>2</th>\n",
       "      <td>3</td>\n",
       "      <td>politics</td>\n",
       "      <td>Irish taoiseach and Spanish PM to discuss Pale...</td>\n",
       "      <td></td>\n",
       "      <td>0.54</td>\n",
       "      <td>1</td>\n",
       "      <td>0</td>\n",
       "      <td>1</td>\n",
       "      <td>None</td>\n",
       "      <td>2024-04-12T09:09:41Z</td>\n",
       "      <td>t3</td>\n",
       "      <td>irish taoiseach spanish pm discuss palestine n...</td>\n",
       "      <td>0</td>\n",
       "    </tr>\n",
       "    <tr>\n",
       "      <th>3</th>\n",
       "      <td>4</td>\n",
       "      <td>politics</td>\n",
       "      <td>Why Trump’s ‘hush money’ case is bigger than h...</td>\n",
       "      <td></td>\n",
       "      <td>0.94</td>\n",
       "      <td>15</td>\n",
       "      <td>0</td>\n",
       "      <td>15</td>\n",
       "      <td>None</td>\n",
       "      <td>2024-04-12T09:01:51Z</td>\n",
       "      <td>t3</td>\n",
       "      <td>trump’s ‘hush money’ case bigger hush money</td>\n",
       "      <td>0</td>\n",
       "    </tr>\n",
       "    <tr>\n",
       "      <th>4</th>\n",
       "      <td>5</td>\n",
       "      <td>politics</td>\n",
       "      <td>1864 AZ Speaker of the house who helped pass t...</td>\n",
       "      <td></td>\n",
       "      <td>0.86</td>\n",
       "      <td>35</td>\n",
       "      <td>0</td>\n",
       "      <td>35</td>\n",
       "      <td>None</td>\n",
       "      <td>2024-04-12T08:20:41Z</td>\n",
       "      <td>t3</td>\n",
       "      <td>1864 az speaker house helped pass abortion law...</td>\n",
       "      <td>0</td>\n",
       "    </tr>\n",
       "  </tbody>\n",
       "</table>\n",
       "</div>"
      ],
      "text/plain": [
       "   id subreddit                                              title selftext  \\\n",
       "0   1  politics  Trump Jokes About How Longtime Aide Could End ...            \n",
       "1   2  politics  US to probe if Chinese cars pose national data...            \n",
       "2   3  politics  Irish taoiseach and Spanish PM to discuss Pale...            \n",
       "3   4  politics  Why Trump’s ‘hush money’ case is bigger than h...            \n",
       "4   5  politics  1864 AZ Speaker of the house who helped pass t...            \n",
       "\n",
       "   upvote_ratio  ups  downs  score link_flair_css_class           created_utc  \\\n",
       "0          1.00    3      0      3                 None  2024-04-12T09:54:31Z   \n",
       "1          1.00    4      0      4                 None  2024-04-12T09:41:11Z   \n",
       "2          0.54    1      0      1                 None  2024-04-12T09:09:41Z   \n",
       "3          0.94   15      0     15                 None  2024-04-12T09:01:51Z   \n",
       "4          0.86   35      0     35                 None  2024-04-12T08:20:41Z   \n",
       "\n",
       "  kind                                            cleaned  Label  \n",
       "0   t3         trump jokes longtime aide end career flash      0  \n",
       "1   t3  us probe chinese cars pose national data secur...      2  \n",
       "2   t3  irish taoiseach spanish pm discuss palestine n...      0  \n",
       "3   t3        trump’s ‘hush money’ case bigger hush money      0  \n",
       "4   t3  1864 az speaker house helped pass abortion law...      0  "
      ]
     },
     "execution_count": 101,
     "metadata": {},
     "output_type": "execute_result"
    }
   ],
   "source": [
    "data['Label'] = bias\n",
    "data.head()"
   ]
  },
  {
   "cell_type": "code",
   "execution_count": 103,
   "metadata": {},
   "outputs": [
    {
     "data": {
      "image/png": "[encoded data removed]",
      "text/plain": [
       "<Figure size 640x480 with 1 Axes>"
      ]
     },
     "metadata": {},
     "output_type": "display_data"
    }
   ],
   "source": [
    "bias_vals = data['Label'].value_counts()\n",
    "plt.figure()\n",
    "sns.barplot(x=bias_vals.index, y=bias_vals.values)\n",
    "tick_labels = ['Left', 'Center', 'Right']\n",
    "plt.xticks(bias_vals.index, tick_labels)\n",
    "plt.show()"
   ]
  },
  {
   "cell_type": "markdown",
   "metadata": {},
   "source": []
  },
  {
   "cell_type": "markdown",
   "metadata": {},
   "source": []
  },
  {
   "cell_type": "markdown",
   "metadata": {},
   "source": []
  }
 ],
 "metadata": {
  "kernelspec": {
   "display_name": "Python 3",
   "language": "python",
   "name": "python3"
  },
  "language_info": {
   "codemirror_mode": {
    "name": "ipython",
    "version": 3
   },
   "file_extension": ".py",
   "mimetype": "text/x-python",
   "name": "python",
   "nbconvert_exporter": "python",
   "pygments_lexer": "ipython3",
   "version": "3.11.2"
  },
  "orig_nbformat": 4
 },
 "nbformat": 4,
 "nbformat_minor": 2
}
