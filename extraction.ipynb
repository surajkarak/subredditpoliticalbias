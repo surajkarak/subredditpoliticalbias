{
  "cells": [
    {
      "cell_type": "code",
      "execution_count": 1,
      "metadata": {
        "id": "WlwHY9JHwVz4"
      },
      "outputs": [],
      "source": [
        "#Importing libraries\n",
        "import warnings\n",
        "warnings.simplefilter(action='ignore', category=FutureWarning)\n",
        "import pandas as pd\n",
        "pd.options.mode.chained_assignment = None\n",
        "import numpy as np\n",
        "import seaborn as sns\n",
        "import matplotlib.pyplot as plt\n",
        "from datetime import datetime\n",
        "from wordcloud import WordCloud,STOPWORDS\n",
        "import sqlite3"
      ]
    },
    {
      "cell_type": "code",
      "execution_count": 2,
      "metadata": {
        "id": "xnWFtd_RwVz6"
      },
      "outputs": [],
      "source": [
        "import requests"
      ]
    },
    {
      "cell_type": "code",
      "execution_count": 3,
      "metadata": {
        "id": "-hY2GVMjwVz6"
      },
      "outputs": [],
      "source": [
        "# note that CLIENT_ID refers to 'personal use script' and SECRET_TOKEN to 'token'\n",
        "auth = requests.auth.HTTPBasicAuth('liSqdZAKoID2d-bIQH5M9A', 'tecIJkvcWwnQK9exC0fHNCnudtdYVA')"
      ]
    },
    {
      "cell_type": "code",
      "execution_count": 4,
      "metadata": {
        "id": "53xJD9zfwVz7"
      },
      "outputs": [],
      "source": [
        "# here we pass our login method (password), username, and password\n",
        "data = {'grant_type': 'password'}"
      ]
    },
    {
      "cell_type": "code",
      "execution_count": 6,
      "metadata": {
        "id": "zTpkQRa-wVz7"
      },
      "outputs": [],
      "source": [
        "with open('pw.txt', 'r') as file:\n",
        "# Step 2: Read the contents of the file\n",
        "        lines = file.readlines()\n",
        "\n",
        "        # Iterate over each line\n",
        "        for line in lines:\n",
        "                # Split the line into username and password\n",
        "                username, password = line.strip().split(':')\n",
        "\n",
        "                # Store the username and password in the dictionary\n",
        "                data['username'] = username\n",
        "                data['password'] = password"
      ]
    },
    {
      "cell_type": "code",
      "execution_count": 7,
      "metadata": {
        "id": "Moptm3-SwVz7"
      },
      "outputs": [],
      "source": [
        "# setup our header info, which gives reddit a brief description of our app\n",
        "headers = {'User-Agent': 'MySideProject/0.0.1'}"
      ]
    },
    {
      "cell_type": "code",
      "execution_count": 8,
      "metadata": {
        "id": "UOcXBTS3wVz8"
      },
      "outputs": [],
      "source": [
        "# send our request for an OAuth token\n",
        "res = requests.post('https://www.reddit.com/api/v1/access_token',\n",
        "                    auth=auth, data=data, headers=headers)"
      ]
    },
    {
      "cell_type": "code",
      "execution_count": 9,
      "metadata": {
        "id": "VWTv2UCpwVz8"
      },
      "outputs": [],
      "source": [
        "# convert response to JSON and pull access_token value\n",
        "TOKEN = res.json()['access_token']"
      ]
    },
    {
      "cell_type": "code",
      "execution_count": 10,
      "metadata": {
        "id": "HDDJYcF2wVz8"
      },
      "outputs": [],
      "source": [
        "# add authorization to our headers dictionary\n",
        "headers['Authorization']=f'bearer {TOKEN}'"
      ]
    },
    {
      "cell_type": "code",
      "execution_count": 11,
      "metadata": {
        "id": "OfJIHJwCwVz8"
      },
      "outputs": [],
      "source": [
        "def df_from_response(res):\n",
        "    # initialize temp list to store dictionaries\n",
        "    data_list = []\n",
        "\n",
        "    # loop through each post pulled from res and append to data_list\n",
        "    for post in res.json()['data']['children']:\n",
        "        data_list.append({\n",
        "            'subreddit': post['data']['subreddit'],\n",
        "            'title': post['data']['title'],\n",
        "            'selftext': post['data']['selftext'],\n",
        "            'upvote_ratio': post['data']['upvote_ratio'],\n",
        "            'ups': post['data']['ups'],\n",
        "            'downs': post['data']['downs'],\n",
        "            'score': post['data']['score'],\n",
        "            'link_flair_css_class': post['data']['link_flair_css_class'],\n",
        "            'created_utc': datetime.fromtimestamp(post['data']['created_utc']).strftime('%Y-%m-%dT%H:%M:%SZ'),\n",
        "            'id': post['data']['id'],\n",
        "            'kind': post['kind']\n",
        "        })\n",
        "\n",
        "    return data_list"
      ]
    },
    {
      "cell_type": "markdown",
      "metadata": {
        "id": "1yPkAl_Z-ScL"
      },
      "source": [
        "Subreddits to explore\n",
        "\n",
        "- politics\n",
        "- worldnews\n",
        "- news\n",
        "- energy\n",
        "- environment\n",
        "- business\n",
        "- worldevents"
      ]
    },
    {
      "cell_type": "code",
      "execution_count": 12,
      "metadata": {
        "id": "-Na4GcnGwVz8"
      },
      "outputs": [],
      "source": [
        "# initialize dataframe and parameters for pulling data in loop\n",
        "data = pd.DataFrame()\n",
        "params = {'limit': 100}\n",
        "\n",
        "# loop through 10 times (returning 1K posts)\n",
        "for i in range(10):\n",
        "    # make request\n",
        "    res = requests.get(\"https://oauth.reddit.com/r/politics/new\",\n",
        "                       headers=headers,\n",
        "                       params=params)\n",
        "\n",
        "    # get list of dictionaries from response\n",
        "    data_list = df_from_response(res)\n",
        "\n",
        "    # convert list of dictionaries to DataFrame and append to data\n",
        "    data = pd.concat([data, pd.DataFrame(data_list)], ignore_index=True)\n",
        "\n",
        "    # take the final row (oldest entry)\n",
        "    row = data_list[-1]\n",
        "    # create fullname\n",
        "    fullname = row['kind'] + '_' + row['id']\n",
        "    # add/update fullname in params\n",
        "    params['after'] = fullname"
      ]
    },
    {
      "cell_type": "code",
      "execution_count": 13,
      "metadata": {
        "colab": {
          "base_uri": "https://localhost:8080/",
          "height": 206
        },
        "id": "4-Z7aCbpGc8w",
        "outputId": "03b5ec0a-59fa-4b5e-b0eb-2b39bcc08bde"
      },
      "outputs": [
        {
          "data": {
            "text/html": [
              "<div>\n",
              "<style scoped>\n",
              "    .dataframe tbody tr th:only-of-type {\n",
              "        vertical-align: middle;\n",
              "    }\n",
              "\n",
              "    .dataframe tbody tr th {\n",
              "        vertical-align: top;\n",
              "    }\n",
              "\n",
              "    .dataframe thead th {\n",
              "        text-align: right;\n",
              "    }\n",
              "</style>\n",
              "<table border=\"1\" class=\"dataframe\">\n",
              "  <thead>\n",
              "    <tr style=\"text-align: right;\">\n",
              "      <th></th>\n",
              "      <th>subreddit</th>\n",
              "      <th>title</th>\n",
              "      <th>selftext</th>\n",
              "      <th>upvote_ratio</th>\n",
              "      <th>ups</th>\n",
              "      <th>downs</th>\n",
              "      <th>score</th>\n",
              "      <th>link_flair_css_class</th>\n",
              "      <th>created_utc</th>\n",
              "      <th>id</th>\n",
              "      <th>kind</th>\n",
              "    </tr>\n",
              "  </thead>\n",
              "  <tbody>\n",
              "    <tr>\n",
              "      <th>0</th>\n",
              "      <td>politics</td>\n",
              "      <td>Trump Jokes About How Longtime Aide Could End ...</td>\n",
              "      <td></td>\n",
              "      <td>1.00</td>\n",
              "      <td>3</td>\n",
              "      <td>0</td>\n",
              "      <td>3</td>\n",
              "      <td>None</td>\n",
              "      <td>2024-04-12T09:54:31Z</td>\n",
              "      <td>1c23gnn</td>\n",
              "      <td>t3</td>\n",
              "    </tr>\n",
              "    <tr>\n",
              "      <th>1</th>\n",
              "      <td>politics</td>\n",
              "      <td>US to probe if Chinese cars pose national data...</td>\n",
              "      <td></td>\n",
              "      <td>1.00</td>\n",
              "      <td>4</td>\n",
              "      <td>0</td>\n",
              "      <td>4</td>\n",
              "      <td>None</td>\n",
              "      <td>2024-04-12T09:41:11Z</td>\n",
              "      <td>1c23a05</td>\n",
              "      <td>t3</td>\n",
              "    </tr>\n",
              "    <tr>\n",
              "      <th>2</th>\n",
              "      <td>politics</td>\n",
              "      <td>Irish taoiseach and Spanish PM to discuss Pale...</td>\n",
              "      <td></td>\n",
              "      <td>0.54</td>\n",
              "      <td>1</td>\n",
              "      <td>0</td>\n",
              "      <td>1</td>\n",
              "      <td>None</td>\n",
              "      <td>2024-04-12T09:09:41Z</td>\n",
              "      <td>1c22tft</td>\n",
              "      <td>t3</td>\n",
              "    </tr>\n",
              "    <tr>\n",
              "      <th>3</th>\n",
              "      <td>politics</td>\n",
              "      <td>Why Trump’s ‘hush money’ case is bigger than h...</td>\n",
              "      <td></td>\n",
              "      <td>0.94</td>\n",
              "      <td>15</td>\n",
              "      <td>0</td>\n",
              "      <td>15</td>\n",
              "      <td>None</td>\n",
              "      <td>2024-04-12T09:01:51Z</td>\n",
              "      <td>1c22p5v</td>\n",
              "      <td>t3</td>\n",
              "    </tr>\n",
              "    <tr>\n",
              "      <th>4</th>\n",
              "      <td>politics</td>\n",
              "      <td>1864 AZ Speaker of the house who helped pass t...</td>\n",
              "      <td></td>\n",
              "      <td>0.86</td>\n",
              "      <td>35</td>\n",
              "      <td>0</td>\n",
              "      <td>35</td>\n",
              "      <td>None</td>\n",
              "      <td>2024-04-12T08:20:41Z</td>\n",
              "      <td>1c221tb</td>\n",
              "      <td>t3</td>\n",
              "    </tr>\n",
              "  </tbody>\n",
              "</table>\n",
              "</div>"
            ],
            "text/plain": [
              "  subreddit                                              title selftext  \\\n",
              "0  politics  Trump Jokes About How Longtime Aide Could End ...            \n",
              "1  politics  US to probe if Chinese cars pose national data...            \n",
              "2  politics  Irish taoiseach and Spanish PM to discuss Pale...            \n",
              "3  politics  Why Trump’s ‘hush money’ case is bigger than h...            \n",
              "4  politics  1864 AZ Speaker of the house who helped pass t...            \n",
              "\n",
              "   upvote_ratio  ups  downs  score link_flair_css_class           created_utc  \\\n",
              "0          1.00    3      0      3                 None  2024-04-12T09:54:31Z   \n",
              "1          1.00    4      0      4                 None  2024-04-12T09:41:11Z   \n",
              "2          0.54    1      0      1                 None  2024-04-12T09:09:41Z   \n",
              "3          0.94   15      0     15                 None  2024-04-12T09:01:51Z   \n",
              "4          0.86   35      0     35                 None  2024-04-12T08:20:41Z   \n",
              "\n",
              "        id kind  \n",
              "0  1c23gnn   t3  \n",
              "1  1c23a05   t3  \n",
              "2  1c22tft   t3  \n",
              "3  1c22p5v   t3  \n",
              "4  1c221tb   t3  "
            ]
          },
          "execution_count": 13,
          "metadata": {},
          "output_type": "execute_result"
        }
      ],
      "source": [
        "data.head()"
      ]
    },
    {
      "cell_type": "code",
      "execution_count": 15,
      "metadata": {
        "id": "_crAGMVLwVz9"
      },
      "outputs": [],
      "source": [
        "# Connect to SQLite database (create if it doesn't exist)\n",
        "conn = sqlite3.connect('reddit_data.db')"
      ]
    },
    {
      "cell_type": "code",
      "execution_count": 16,
      "metadata": {
        "id": "qWQ40y4GwVz9"
      },
      "outputs": [],
      "source": [
        "# Create a cursor object to execute SQL commands\n",
        "cursor = conn.cursor()"
      ]
    },
    {
      "cell_type": "code",
      "execution_count": 17,
      "metadata": {
        "colab": {
          "base_uri": "https://localhost:8080/"
        },
        "id": "HaLVaRZNwVz9",
        "outputId": "d3f6b282-5bd1-459c-bd3c-4fd520e253ec"
      },
      "outputs": [
        {
          "data": {
            "text/plain": [
              "<sqlite3.Cursor at 0x3018cc2c0>"
            ]
          },
          "execution_count": 17,
          "metadata": {},
          "output_type": "execute_result"
        }
      ],
      "source": [
        "# Create a table to store your data\n",
        "cursor.execute('''CREATE TABLE IF NOT EXISTS reddit_posts (\n",
        "                    id INTEGER PRIMARY KEY,\n",
        "                    subreddit TEXT,\n",
        "                    title TEXT,\n",
        "                    selftext TEXT,\n",
        "                    upvote_ratio REAL,\n",
        "                    ups INTEGER,\n",
        "                    downs INTEGER,\n",
        "                    score INTEGER,\n",
        "                    link_flair_css_class TEXT,\n",
        "                    created_utc INTEGER,\n",
        "                    kind TEXT,\n",
        "                    cleaned TEXT\n",
        "                )''')"
      ]
    },
    {
      "cell_type": "code",
      "execution_count": 18,
      "metadata": {
        "id": "E6KAPVRiwVz9"
      },
      "outputs": [],
      "source": [
        "# Insert data into the table\n",
        "for index, row in data.iterrows():\n",
        "    cursor.execute('''INSERT INTO reddit_posts\n",
        "                      (subreddit, title, selftext, upvote_ratio, ups, downs, score,\n",
        "                       link_flair_css_class, created_utc, kind)\n",
        "                      VALUES (?, ?, ?, ?, ?, ?, ?, ?, ?, ?)''',\n",
        "                   (row['subreddit'], row['title'], row['selftext'], row['upvote_ratio'],\n",
        "                    row['ups'], row['downs'], row['score'], row['link_flair_css_class'],\n",
        "                    row['created_utc'], row['kind']))\n",
        "\n",
        "# Commit changes and close connection\n",
        "conn.commit()\n",
        "conn.close()"
      ]
    }
  ],
  "metadata": {
    "colab": {
      "provenance": []
    },
    "kernelspec": {
      "display_name": "Python 3",
      "language": "python",
      "name": "python3"
    },
    "language_info": {
      "codemirror_mode": {
        "name": "ipython",
        "version": 3
      },
      "file_extension": ".py",
      "mimetype": "text/x-python",
      "name": "python",
      "nbconvert_exporter": "python",
      "pygments_lexer": "ipython3",
      "version": "3.11.2"
    },
    "orig_nbformat": 4
  },
  "nbformat": 4,
  "nbformat_minor": 0
}
